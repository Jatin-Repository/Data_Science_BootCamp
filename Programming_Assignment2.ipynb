{
 "cells": [
  {
   "cell_type": "markdown",
   "id": "7825d655",
   "metadata": {},
   "source": [
    "# Question: 1"
   ]
  },
  {
   "cell_type": "markdown",
   "id": "746670b3",
   "metadata": {},
   "source": [
    "## Write a Python program to convert kilometers to miles?"
   ]
  },
  {
   "cell_type": "markdown",
   "id": "fa3c583c",
   "metadata": {},
   "source": [
    "# Answer: 1"
   ]
  },
  {
   "cell_type": "code",
   "execution_count": 1,
   "id": "cd3f8664",
   "metadata": {},
   "outputs": [],
   "source": [
    "def convert_km_to_miles(a): # paramter a is in kilometer\n",
    "    one_miles = 0.62137\n",
    "    a_km = a * one_miles\n",
    "    return a_km"
   ]
  },
  {
   "cell_type": "code",
   "execution_count": 2,
   "id": "0485cd55",
   "metadata": {},
   "outputs": [
    {
     "data": {
      "text/plain": [
       "6.213699999999999"
      ]
     },
     "execution_count": 2,
     "metadata": {},
     "output_type": "execute_result"
    }
   ],
   "source": [
    "convert_km_to_miles(10)"
   ]
  },
  {
   "cell_type": "code",
   "execution_count": 3,
   "id": "464e1bb5",
   "metadata": {},
   "outputs": [
    {
     "data": {
      "text/plain": [
       "6244768.5"
      ]
     },
     "execution_count": 3,
     "metadata": {},
     "output_type": "execute_result"
    }
   ],
   "source": [
    "convert_km_to_miles(10050000)"
   ]
  },
  {
   "cell_type": "markdown",
   "id": "22514ded",
   "metadata": {},
   "source": [
    "# Question: 2"
   ]
  },
  {
   "cell_type": "markdown",
   "id": "2848f698",
   "metadata": {},
   "source": [
    "## Write a Python program to convert Celsius to Fahrenheit?"
   ]
  },
  {
   "cell_type": "code",
   "execution_count": 4,
   "id": "cd98e247",
   "metadata": {},
   "outputs": [],
   "source": [
    "def degCel_to_degFah(c): # parameter c is in Celsius\n",
    "    f = (9/5)*c + 32\n",
    "    return f\n",
    "    "
   ]
  },
  {
   "cell_type": "code",
   "execution_count": 5,
   "id": "bcc5f484",
   "metadata": {},
   "outputs": [
    {
     "data": {
      "text/plain": [
       "98.60000000000001"
      ]
     },
     "execution_count": 5,
     "metadata": {},
     "output_type": "execute_result"
    }
   ],
   "source": [
    "degCel_to_degFah(37)"
   ]
  },
  {
   "cell_type": "code",
   "execution_count": 6,
   "id": "d790b86b",
   "metadata": {},
   "outputs": [
    {
     "data": {
      "text/plain": [
       "-9.399999999999999"
      ]
     },
     "execution_count": 6,
     "metadata": {},
     "output_type": "execute_result"
    }
   ],
   "source": [
    "degCel_to_degFah(-23)"
   ]
  },
  {
   "cell_type": "markdown",
   "id": "be17319a",
   "metadata": {},
   "source": [
    "# Question: 3"
   ]
  },
  {
   "cell_type": "markdown",
   "id": "850009ce",
   "metadata": {},
   "source": [
    "## Write a Python program to display calendar?"
   ]
  },
  {
   "cell_type": "markdown",
   "id": "9085cc13",
   "metadata": {},
   "source": [
    "# Answer: 3"
   ]
  },
  {
   "cell_type": "code",
   "execution_count": 7,
   "id": "691b40c1",
   "metadata": {},
   "outputs": [],
   "source": [
    "import calendar"
   ]
  },
  {
   "cell_type": "code",
   "execution_count": 8,
   "id": "756210cf",
   "metadata": {},
   "outputs": [
    {
     "name": "stdout",
     "output_type": "stream",
     "text": [
      "                                  2022\n",
      "\n",
      "      January                   February                   March\n",
      "Mo Tu We Th Fr Sa Su      Mo Tu We Th Fr Sa Su      Mo Tu We Th Fr Sa Su\n",
      "                1  2          1  2  3  4  5  6          1  2  3  4  5  6\n",
      " 3  4  5  6  7  8  9       7  8  9 10 11 12 13       7  8  9 10 11 12 13\n",
      "10 11 12 13 14 15 16      14 15 16 17 18 19 20      14 15 16 17 18 19 20\n",
      "17 18 19 20 21 22 23      21 22 23 24 25 26 27      21 22 23 24 25 26 27\n",
      "24 25 26 27 28 29 30      28                        28 29 30 31\n",
      "31\n",
      "\n",
      "       April                      May                       June\n",
      "Mo Tu We Th Fr Sa Su      Mo Tu We Th Fr Sa Su      Mo Tu We Th Fr Sa Su\n",
      "             1  2  3                         1             1  2  3  4  5\n",
      " 4  5  6  7  8  9 10       2  3  4  5  6  7  8       6  7  8  9 10 11 12\n",
      "11 12 13 14 15 16 17       9 10 11 12 13 14 15      13 14 15 16 17 18 19\n",
      "18 19 20 21 22 23 24      16 17 18 19 20 21 22      20 21 22 23 24 25 26\n",
      "25 26 27 28 29 30         23 24 25 26 27 28 29      27 28 29 30\n",
      "                          30 31\n",
      "\n",
      "        July                     August                  September\n",
      "Mo Tu We Th Fr Sa Su      Mo Tu We Th Fr Sa Su      Mo Tu We Th Fr Sa Su\n",
      "             1  2  3       1  2  3  4  5  6  7                1  2  3  4\n",
      " 4  5  6  7  8  9 10       8  9 10 11 12 13 14       5  6  7  8  9 10 11\n",
      "11 12 13 14 15 16 17      15 16 17 18 19 20 21      12 13 14 15 16 17 18\n",
      "18 19 20 21 22 23 24      22 23 24 25 26 27 28      19 20 21 22 23 24 25\n",
      "25 26 27 28 29 30 31      29 30 31                  26 27 28 29 30\n",
      "\n",
      "      October                   November                  December\n",
      "Mo Tu We Th Fr Sa Su      Mo Tu We Th Fr Sa Su      Mo Tu We Th Fr Sa Su\n",
      "                1  2          1  2  3  4  5  6                1  2  3  4\n",
      " 3  4  5  6  7  8  9       7  8  9 10 11 12 13       5  6  7  8  9 10 11\n",
      "10 11 12 13 14 15 16      14 15 16 17 18 19 20      12 13 14 15 16 17 18\n",
      "17 18 19 20 21 22 23      21 22 23 24 25 26 27      19 20 21 22 23 24 25\n",
      "24 25 26 27 28 29 30      28 29 30                  26 27 28 29 30 31\n",
      "31\n",
      "\n"
     ]
    }
   ],
   "source": [
    "t = calendar.calendar(2022)\n",
    "for x in t:\n",
    "    if x == \",\":\n",
    "        del x\n",
    "print(t)"
   ]
  },
  {
   "cell_type": "markdown",
   "id": "05649a21",
   "metadata": {},
   "source": [
    "# Question: 4"
   ]
  },
  {
   "cell_type": "markdown",
   "id": "37130d2d",
   "metadata": {},
   "source": [
    "## Write a Python program to solve quadratic equation?"
   ]
  },
  {
   "cell_type": "code",
   "execution_count": 9,
   "id": "6f2a2ce5",
   "metadata": {},
   "outputs": [],
   "source": [
    "# a*x^2+ b*x + c = 0"
   ]
  },
  {
   "cell_type": "code",
   "execution_count": null,
   "id": "0fc9b7cb",
   "metadata": {},
   "outputs": [],
   "source": [
    "def root_quadratic(a,b,c):\n",
    "    list1 = []\n",
    "    d =  (b**2 - 4*a*c)\n",
    "    r1 = (-b + d**(1/2))/(2*a)\n",
    "    r2 = (-b - d**(1/2))/(2*a)\n",
    "    list1.append(r1)            \n",
    "    list1.append(r2)\n",
    "    return list1"
   ]
  },
  {
   "cell_type": "code",
   "execution_count": 19,
   "id": "c7f83709",
   "metadata": {},
   "outputs": [
    {
     "data": {
      "text/plain": [
       "[-1.0, -1.0]"
      ]
     },
     "execution_count": 19,
     "metadata": {},
     "output_type": "execute_result"
    }
   ],
   "source": [
    "root_quadratic(1,2,1)"
   ]
  },
  {
   "cell_type": "code",
   "execution_count": 20,
   "id": "604adc87",
   "metadata": {},
   "outputs": [
    {
     "data": {
      "text/plain": [
       "[4.0, 2.0]"
      ]
     },
     "execution_count": 20,
     "metadata": {},
     "output_type": "execute_result"
    }
   ],
   "source": [
    "root_quadratic(1,-6,8)"
   ]
  },
  {
   "cell_type": "markdown",
   "id": "ff5a3ae8",
   "metadata": {},
   "source": [
    "# Question: 5"
   ]
  },
  {
   "cell_type": "markdown",
   "id": "c51981a7",
   "metadata": {},
   "source": [
    "## Write a Python program to swap two variables without temp variable?\n",
    "\n"
   ]
  },
  {
   "cell_type": "markdown",
   "id": "6aff7696",
   "metadata": {},
   "source": [
    "# Answer: 5"
   ]
  },
  {
   "cell_type": "code",
   "execution_count": 24,
   "id": "12892ed3",
   "metadata": {},
   "outputs": [],
   "source": [
    "def swap_variable(x, y):\n",
    "    x = x + y\n",
    "    y = x - y\n",
    "    x = x -y\n",
    "    print(x,y)"
   ]
  },
  {
   "cell_type": "code",
   "execution_count": 23,
   "id": "52ed5fc7",
   "metadata": {},
   "outputs": [
    {
     "name": "stdout",
     "output_type": "stream",
     "text": [
      "9 -1\n"
     ]
    }
   ],
   "source": [
    "swap_variable(-1,9)"
   ]
  },
  {
   "cell_type": "code",
   "execution_count": 25,
   "id": "1473108f",
   "metadata": {},
   "outputs": [
    {
     "name": "stdout",
     "output_type": "stream",
     "text": [
      "5 4\n"
     ]
    }
   ],
   "source": [
    "swap_variable(4,5)"
   ]
  },
  {
   "cell_type": "code",
   "execution_count": null,
   "id": "0a0b7b7a",
   "metadata": {},
   "outputs": [],
   "source": []
  }
 ],
 "metadata": {
  "kernelspec": {
   "display_name": "Python 3 (ipykernel)",
   "language": "python",
   "name": "python3"
  },
  "language_info": {
   "codemirror_mode": {
    "name": "ipython",
    "version": 3
   },
   "file_extension": ".py",
   "mimetype": "text/x-python",
   "name": "python",
   "nbconvert_exporter": "python",
   "pygments_lexer": "ipython3",
   "version": "3.9.12"
  }
 },
 "nbformat": 4,
 "nbformat_minor": 5
}
