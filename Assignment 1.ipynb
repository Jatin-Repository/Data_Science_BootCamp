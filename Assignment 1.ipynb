{
 "cells": [
  {
   "cell_type": "markdown",
   "id": "67af0cf9",
   "metadata": {},
   "source": [
    "# Question: 1\n",
    "In the below elements which of them are values or an expression? \n",
    "eg:- values can be integer or string and expressions will be mathematical operators.\n",
    "i ) *\n",
    "ii) 'hello'\n",
    "iii) -87.8\n",
    "iv) -\n",
    "v) /\n",
    "vi) +\n",
    "vii) 6"
   ]
  },
  {
   "cell_type": "markdown",
   "id": "047b1d30",
   "metadata": {},
   "source": [
    "# Answer 1\n",
    "\n",
    "Expression : * / + -\n",
    "\n",
    "Values: 'hello' -87.8 6\n"
   ]
  },
  {
   "cell_type": "markdown",
   "id": "73d86b52",
   "metadata": {},
   "source": [
    "# Question: 2\n",
    "What is the difference between string and variable?"
   ]
  },
  {
   "cell_type": "markdown",
   "id": "5ac17b77",
   "metadata": {},
   "source": [
    "# Answer : 2\n",
    "String :  Collection of alphanumeric character's is termed as String. Exanmple : 'Jatin', \"Fine8work\", '23', \"13.989\"\n",
    "\n",
    "Variable : Entities that are used in a programs, in order to hold certain value for computing purpose. \n",
    "           Example : a = 34\n",
    "                     z = a*2\n",
    "                     z = 68      a, z are variable"
   ]
  },
  {
   "cell_type": "code",
   "execution_count": 3,
   "id": "9c1dfd43",
   "metadata": {},
   "outputs": [],
   "source": [
    "a = 34\n",
    "z = a * 2"
   ]
  },
  {
   "cell_type": "code",
   "execution_count": 4,
   "id": "ae47adc1",
   "metadata": {},
   "outputs": [
    {
     "data": {
      "text/plain": [
       "68"
      ]
     },
     "execution_count": 4,
     "metadata": {},
     "output_type": "execute_result"
    }
   ],
   "source": [
    "z"
   ]
  },
  {
   "cell_type": "markdown",
   "id": "498f6ab3",
   "metadata": {},
   "source": [
    "# Question: 3\n",
    "\n",
    "Describe three different data types."
   ]
  },
  {
   "cell_type": "markdown",
   "id": "d978b46f",
   "metadata": {},
   "source": [
    "# Answer: 3\n",
    "## i) Numeric \n",
    "\n",
    "       The numeric data type are used to store the numerical values.\n",
    "       a) int ----> 2, 287\n",
    "       b) float ----> 12.43, 13.90877\n",
    "       c) complex -----> 2+3j, 5j\n",
    "       \n",
    "       \n",
    "## ii) Sequence\n",
    "\n",
    "       The squence data type store elements in a squential manner.\n",
    "       a) list ----> [2,3,\"Jatin\",34.76]\n",
    "       b) tuple ----> (2,3,\"Jatin\",34.76)\n",
    "       \n",
    "       \n",
    "## iii) Mapping\n",
    "\n",
    "        The mapping data type is used to map value/value's against a key.\n",
    "        i) dictionary ----> r = {'a': 23, 'z': 62} , fre = {'i' : [0,4,7,9,14]}"
   ]
  },
  {
   "cell_type": "markdown",
   "id": "f91c42a1",
   "metadata": {},
   "source": [
    "# Question : 4"
   ]
  },
  {
   "cell_type": "markdown",
   "id": "02fe292f",
   "metadata": {},
   "source": [
    " What is an expression made up of? What do all expressions do?"
   ]
  },
  {
   "cell_type": "markdown",
   "id": "8ed11517",
   "metadata": {},
   "source": [
    "# Answer: 4"
   ]
  },
  {
   "cell_type": "markdown",
   "id": "28f6f724",
   "metadata": {},
   "source": [
    "Expression : It is the combination of both variable's or constant's combined using various mathematical operator like (+,-,/,*,% etc..)"
   ]
  },
  {
   "cell_type": "code",
   "execution_count": 20,
   "id": "088d6254",
   "metadata": {},
   "outputs": [
    {
     "data": {
      "text/plain": [
       "51"
      ]
     },
     "execution_count": 20,
     "metadata": {},
     "output_type": "execute_result"
    }
   ],
   "source": [
    "2 * 3 + 45"
   ]
  },
  {
   "cell_type": "code",
   "execution_count": 7,
   "id": "9fd81805",
   "metadata": {},
   "outputs": [
    {
     "data": {
      "text/plain": [
       "4758"
      ]
     },
     "execution_count": 7,
     "metadata": {},
     "output_type": "execute_result"
    }
   ],
   "source": [
    "a = 34\n",
    "b = a * 2\n",
    "c = a + b**2 + 100\n",
    "c"
   ]
  },
  {
   "cell_type": "markdown",
   "id": "405ab0d2",
   "metadata": {},
   "source": [
    "# Question: 5\n",
    "This assignment statements, like spam = 10. What is the difference between an\n",
    "expression and a statement?"
   ]
  },
  {
   "cell_type": "markdown",
   "id": "d79df7a0",
   "metadata": {},
   "source": [
    "# Answer: 5"
   ]
  },
  {
   "cell_type": "markdown",
   "id": "c50a8de4",
   "metadata": {},
   "source": [
    "Statement : These are non-compiled part of program, generally developer's in order to make code meaningful add it, so that other  can understand."
   ]
  },
  {
   "cell_type": "code",
   "execution_count": 9,
   "id": "c5be58b2",
   "metadata": {},
   "outputs": [],
   "source": [
    "# This is single line statement in python."
   ]
  },
  {
   "cell_type": "code",
   "execution_count": 12,
   "id": "d872f63f",
   "metadata": {},
   "outputs": [
    {
     "name": "stdout",
     "output_type": "stream",
     "text": [
      "Hello\n"
     ]
    }
   ],
   "source": [
    "\"\"\"\n",
    "I am currently working on \n",
    "\n",
    "multi-line comment in python.\n",
    "\n",
    "\"\"\"\n",
    "print(\"Hello\")"
   ]
  },
  {
   "cell_type": "markdown",
   "id": "53c42abb",
   "metadata": {},
   "source": [
    "Expression : It is a notation, genrally used to express something. Under program it act as a pillar in performing, large computation's."
   ]
  },
  {
   "cell_type": "code",
   "execution_count": 17,
   "id": "3ff51c0a",
   "metadata": {},
   "outputs": [
    {
     "data": {
      "text/plain": [
       "100"
      ]
     },
     "execution_count": 17,
     "metadata": {},
     "output_type": "execute_result"
    }
   ],
   "source": [
    "spam = 10\n",
    "spam = spam**2\n",
    "spam"
   ]
  },
  {
   "cell_type": "markdown",
   "id": "a2429c9f",
   "metadata": {},
   "source": [
    "# Question: 6"
   ]
  },
  {
   "cell_type": "markdown",
   "id": "007641e8",
   "metadata": {},
   "source": [
    "After running the following code, what does the variable bacon contain?\n",
    "    bacon = 22\n",
    "    bacon + 1"
   ]
  },
  {
   "cell_type": "markdown",
   "id": "1748f9ef",
   "metadata": {},
   "source": [
    "# Answer: 6"
   ]
  },
  {
   "cell_type": "code",
   "execution_count": 19,
   "id": "fef7204e",
   "metadata": {},
   "outputs": [
    {
     "data": {
      "text/plain": [
       "22"
      ]
     },
     "execution_count": 19,
     "metadata": {},
     "output_type": "execute_result"
    }
   ],
   "source": [
    "bacon = 22\n",
    "bacon + 1\n",
    "bacon"
   ]
  },
  {
   "cell_type": "markdown",
   "id": "615738cc",
   "metadata": {},
   "source": [
    "# Question: 7\n",
    "What should the values of the following two terms be?\n",
    "&#39;spam&#39; + &#39;spamspam&#39;\n",
    "&#39;spam&#39; * 3\n",
    "\n",
    "# Answer: 7"
   ]
  },
  {
   "cell_type": "code",
   "execution_count": 26,
   "id": "e787c7b8",
   "metadata": {},
   "outputs": [
    {
     "data": {
      "text/plain": [
       "'spamspamspam'"
      ]
     },
     "execution_count": 26,
     "metadata": {},
     "output_type": "execute_result"
    }
   ],
   "source": [
    "'spam' + 'spamspam'"
   ]
  },
  {
   "cell_type": "code",
   "execution_count": 25,
   "id": "5c8d9771",
   "metadata": {},
   "outputs": [
    {
     "data": {
      "text/plain": [
       "'spamspamspam'"
      ]
     },
     "execution_count": 25,
     "metadata": {},
     "output_type": "execute_result"
    }
   ],
   "source": [
    "'spam'*3"
   ]
  },
  {
   "cell_type": "markdown",
   "id": "b6f9333c",
   "metadata": {},
   "source": [
    "# Question : 8"
   ]
  },
  {
   "cell_type": "markdown",
   "id": "c65e5521",
   "metadata": {},
   "source": [
    "Why is eggs a valid variable name while 100 is invalid?"
   ]
  },
  {
   "cell_type": "markdown",
   "id": "2748a164",
   "metadata": {},
   "source": [
    "# Answer : 8"
   ]
  },
  {
   "cell_type": "markdown",
   "id": "8c13aa39",
   "metadata": {},
   "source": [
    "Variable name should not start with digit.\n",
    "Hence, egg is variable and 100 is not a variable."
   ]
  },
  {
   "cell_type": "markdown",
   "id": "98dc5885",
   "metadata": {},
   "source": [
    "# Question: 9"
   ]
  },
  {
   "cell_type": "markdown",
   "id": "eb771ab9",
   "metadata": {},
   "source": [
    "What three functions can be used to get the integer, floating-point number, or string\n",
    "version of a value?"
   ]
  },
  {
   "cell_type": "markdown",
   "id": "b7d3896d",
   "metadata": {},
   "source": [
    "# Answer: 9"
   ]
  },
  {
   "cell_type": "markdown",
   "id": "f072fbe7",
   "metadata": {},
   "source": [
    "The three function are:\n",
    "i) integer --> int()\n",
    "ii) floating number ---> float()\n",
    "iii) string ----> str()"
   ]
  },
  {
   "cell_type": "markdown",
   "id": "483a5098",
   "metadata": {},
   "source": [
    "# Question: 10"
   ]
  },
  {
   "cell_type": "markdown",
   "id": "e2019299",
   "metadata": {},
   "source": [
    "Why does this expression cause an error? How can you fix it?\n",
    "'I have eaten' + 99 + 'burritos'"
   ]
  },
  {
   "cell_type": "markdown",
   "id": "f23a0fb0",
   "metadata": {},
   "source": [
    "# Answer:10\n",
    "The reason is we can't concatenate string with integer, in python."
   ]
  },
  {
   "cell_type": "code",
   "execution_count": 29,
   "id": "fe70b012",
   "metadata": {},
   "outputs": [
    {
     "ename": "TypeError",
     "evalue": "can only concatenate str (not \"int\") to str",
     "output_type": "error",
     "traceback": [
      "\u001b[1;31m---------------------------------------------------------------------------\u001b[0m",
      "\u001b[1;31mTypeError\u001b[0m                                 Traceback (most recent call last)",
      "Input \u001b[1;32mIn [29]\u001b[0m, in \u001b[0;36m<cell line: 1>\u001b[1;34m()\u001b[0m\n\u001b[1;32m----> 1\u001b[0m \u001b[38;5;124;43m'\u001b[39;49m\u001b[38;5;124;43mI have eaten\u001b[39;49m\u001b[38;5;124;43m'\u001b[39;49m\u001b[43m \u001b[49m\u001b[38;5;241;43m+\u001b[39;49m\u001b[43m \u001b[49m\u001b[38;5;241;43m99\u001b[39;49m \u001b[38;5;241m+\u001b[39m \u001b[38;5;124m'\u001b[39m\u001b[38;5;124mburritos\u001b[39m\u001b[38;5;124m'\u001b[39m\n",
      "\u001b[1;31mTypeError\u001b[0m: can only concatenate str (not \"int\") to str"
     ]
    }
   ],
   "source": [
    "'I have eaten' + 99 + 'burritos'"
   ]
  },
  {
   "cell_type": "markdown",
   "id": "bb02e75c",
   "metadata": {},
   "source": [
    "## Fix: 1\n",
    "    Convert integer to string and then concatenate."
   ]
  },
  {
   "cell_type": "code",
   "execution_count": 33,
   "id": "6aee2a78",
   "metadata": {},
   "outputs": [
    {
     "data": {
      "text/plain": [
       "'I have eaten 99 burritos'"
      ]
     },
     "execution_count": 33,
     "metadata": {},
     "output_type": "execute_result"
    }
   ],
   "source": [
    "a = str(99)\n",
    "'I have eaten ' + a + ' burritos'"
   ]
  },
  {
   "cell_type": "markdown",
   "id": "5edcaa8f",
   "metadata": {},
   "source": [
    "## Fix: 2"
   ]
  },
  {
   "cell_type": "code",
   "execution_count": 42,
   "id": "e6f23727",
   "metadata": {},
   "outputs": [
    {
     "data": {
      "text/plain": [
       "'I have eaten 99 burritos'"
      ]
     },
     "execution_count": 42,
     "metadata": {},
     "output_type": "execute_result"
    }
   ],
   "source": [
    "a = 99\n",
    "'I have eaten {} burritos'.format(a)"
   ]
  },
  {
   "cell_type": "markdown",
   "id": "7498356d",
   "metadata": {},
   "source": []
  }
 ],
 "metadata": {
  "kernelspec": {
   "display_name": "Python 3 (ipykernel)",
   "language": "python",
   "name": "python3"
  },
  "language_info": {
   "codemirror_mode": {
    "name": "ipython",
    "version": 3
   },
   "file_extension": ".py",
   "mimetype": "text/x-python",
   "name": "python",
   "nbconvert_exporter": "python",
   "pygments_lexer": "ipython3",
   "version": "3.9.12"
  }
 },
 "nbformat": 4,
 "nbformat_minor": 5
}
