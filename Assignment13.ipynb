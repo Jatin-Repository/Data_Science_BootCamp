{
 "cells": [
  {
   "cell_type": "markdown",
   "id": "374062ee",
   "metadata": {},
   "source": [
    "# Question : 1"
   ]
  },
  {
   "cell_type": "markdown",
   "id": "746b94a9",
   "metadata": {},
   "source": [
    "Write a program that calculates and prints the value according to the given formula:\n",
    "Q = Square root of [(2 * C * D)/H]\n",
    "Following are the fixed values of C and H:\n",
    "C is 50. H is 30.\n",
    "D is the variable whose values should be input to your program in a comma-separated\n",
    "sequence.\n",
    "***\n",
    "**Example\n",
    "Let us assume the following comma separated input sequence is given to the program:\n",
    "100,150,180\n",
    "The output of the program should be:\n",
    "18,22,24***\n",
    "***"
   ]
  },
  {
   "cell_type": "markdown",
   "id": "353b9ae2",
   "metadata": {},
   "source": [
    "# Answer: 1"
   ]
  },
  {
   "cell_type": "code",
   "execution_count": 9,
   "id": "521622d4",
   "metadata": {},
   "outputs": [],
   "source": [
    "# Calculate : Math.sqrt[(2*C*D)/H] , C = 50 , H = 50 , D = Variable from list\n",
    "C = 50\n",
    "H = 30\n",
    "def calculate(list1):\n",
    "    list2 = list()\n",
    "    for D in list1:\n",
    "        exp = int(((2*C*D)/H)**(1/2))\n",
    "        list2.append(exp)\n",
    "    return list2\n"
   ]
  },
  {
   "cell_type": "code",
   "execution_count": 10,
   "id": "2f1486a4",
   "metadata": {},
   "outputs": [
    {
     "name": "stdout",
     "output_type": "stream",
     "text": [
      "[18, 22, 24]\n"
     ]
    }
   ],
   "source": [
    "D = [100,150,180]\n",
    "print(calculate(D))"
   ]
  },
  {
   "cell_type": "code",
   "execution_count": 12,
   "id": "47b8e5fb",
   "metadata": {},
   "outputs": [
    {
     "name": "stdout",
     "output_type": "stream",
     "text": [
      "[40, 25, 31]\n"
     ]
    }
   ],
   "source": [
    "D = [500,200,300]\n",
    "print(calculate(D))"
   ]
  },
  {
   "cell_type": "code",
   "execution_count": 13,
   "id": "69bb9f47",
   "metadata": {},
   "outputs": [
    {
     "name": "stdout",
     "output_type": "stream",
     "text": [
      "[6, 9, 10]\n"
     ]
    }
   ],
   "source": [
    "D = [12,25,34]\n",
    "print(calculate(D))"
   ]
  },
  {
   "cell_type": "markdown",
   "id": "f81d35e4",
   "metadata": {},
   "source": [
    "# Question: 2"
   ]
  },
  {
   "cell_type": "markdown",
   "id": "abdffa9d",
   "metadata": {},
   "source": [
    "Write a program which takes 2 digits, X,Y as input and generates a 2-dimensional array. The\n",
    "element value in the i-th row and j-th column of the array should be i*j.\n",
    "Note: i=0,1.., X-1; j=0,1,¡Y-1.\n",
    "***\n",
    "***Example :\n",
    "Suppose the following inputs are given to the program:\n",
    "3,5\n",
    "Then, the output of the program should be:\n",
    "[[0, 0, 0, 0, 0], [0, 1, 2, 3, 4], [0, 2, 4, 6, 8]]***\n",
    "***"
   ]
  },
  {
   "cell_type": "markdown",
   "id": "79232b0e",
   "metadata": {},
   "source": [
    "# Answer: 2"
   ]
  },
  {
   "cell_type": "code",
   "execution_count": 18,
   "id": "5496e920",
   "metadata": {},
   "outputs": [],
   "source": [
    "def generate_matrix(X,Y):\n",
    "    list2 = list(list())\n",
    "    for i in range(0,X):\n",
    "        list1 = list()\n",
    "        for j in range(0,Y):\n",
    "            x = i * j\n",
    "            list1.append(x)\n",
    "        list2.append(list1)\n",
    "    return(list2)"
   ]
  },
  {
   "cell_type": "code",
   "execution_count": 19,
   "id": "a2942c6b",
   "metadata": {},
   "outputs": [
    {
     "data": {
      "text/plain": [
       "[[0, 0, 0, 0, 0], [0, 1, 2, 3, 4], [0, 2, 4, 6, 8]]"
      ]
     },
     "execution_count": 19,
     "metadata": {},
     "output_type": "execute_result"
    }
   ],
   "source": [
    "generate_matrix(3,5)"
   ]
  },
  {
   "cell_type": "code",
   "execution_count": 26,
   "id": "7c8f3494",
   "metadata": {},
   "outputs": [
    {
     "data": {
      "text/plain": [
       "[[0, 0, 0, 0], [0, 1, 2, 3], [0, 2, 4, 6], [0, 3, 6, 9], [0, 4, 8, 12]]"
      ]
     },
     "execution_count": 26,
     "metadata": {},
     "output_type": "execute_result"
    }
   ],
   "source": [
    "generate_matrix(5,4)"
   ]
  },
  {
   "cell_type": "markdown",
   "id": "e8edba37",
   "metadata": {},
   "source": [
    "# Question: 3"
   ]
  },
  {
   "cell_type": "markdown",
   "id": "763e0812",
   "metadata": {},
   "source": [
    "Write a program that accepts a comma separated sequence of words as input and prints the\n",
    "words in a comma-separated sequence after sorting them alphabetically.\n",
    "***\n",
    "***Suppose the following input is supplied to the program:\n",
    "without,hello,bag,world\n",
    "Then, the output should be:\n",
    "bag,hello,without,world***\n",
    "***"
   ]
  },
  {
   "cell_type": "markdown",
   "id": "5a278d4e",
   "metadata": {},
   "source": [
    "# Answer: 3"
   ]
  },
  {
   "cell_type": "code",
   "execution_count": 28,
   "id": "95cd85c5",
   "metadata": {},
   "outputs": [],
   "source": [
    "def sort_split_word(string):\n",
    "    x = string.split(\",\")\n",
    "    x.sort()\n",
    "    return x"
   ]
  },
  {
   "cell_type": "code",
   "execution_count": 29,
   "id": "8fd5233f",
   "metadata": {},
   "outputs": [
    {
     "data": {
      "text/plain": [
       "['bag', 'hello', 'without', 'world']"
      ]
     },
     "execution_count": 29,
     "metadata": {},
     "output_type": "execute_result"
    }
   ],
   "source": [
    "sort_split_word(\"without,hello,bag,world\")"
   ]
  },
  {
   "cell_type": "code",
   "execution_count": 31,
   "id": "9a8d708c",
   "metadata": {},
   "outputs": [
    {
     "data": {
      "text/plain": [
       "['boy', 'good', 'great', 'is', 'jatin', 'of', 'potential']"
      ]
     },
     "execution_count": 31,
     "metadata": {},
     "output_type": "execute_result"
    }
   ],
   "source": [
    "sort_split_word(\"jatin,is,boy,of,good,great,potential\")"
   ]
  },
  {
   "cell_type": "markdown",
   "id": "a97b6c32",
   "metadata": {},
   "source": [
    "# Question: 4"
   ]
  },
  {
   "cell_type": "markdown",
   "id": "f449b068",
   "metadata": {},
   "source": [
    "Write a program that accepts a sequence of whitespace separated words as input and prints\n",
    "the words after removing all duplicate words and sorting them alphanumerically.\n",
    "***\n",
    "***Suppose the following input is supplied to the program:\n",
    "hello world and practice makes perfect and hello world again\n",
    "Then, the output should be:\n",
    "again and hello makes perfect practice world***\n",
    "***"
   ]
  },
  {
   "cell_type": "code",
   "execution_count": 42,
   "id": "8d5f64ec",
   "metadata": {},
   "outputs": [],
   "source": [
    "def distinct_sorted_words(string):\n",
    "    x = string.split(\" \")\n",
    "    word = dict()\n",
    "    for t in x:\n",
    "        if word.get(t):\n",
    "            word[t] += 1\n",
    "        else:\n",
    "            word[t] = 1\n",
    "    list1 = list(word.keys())\n",
    "    list1.sort()\n",
    "    return list1"
   ]
  },
  {
   "cell_type": "code",
   "execution_count": 43,
   "id": "348d6d9c",
   "metadata": {},
   "outputs": [
    {
     "data": {
      "text/plain": [
       "['again', 'and', 'hello', 'makes', 'perfect', 'practice', 'world']"
      ]
     },
     "execution_count": 43,
     "metadata": {},
     "output_type": "execute_result"
    }
   ],
   "source": [
    "string1 = \"hello world and practice makes perfect and hello world again\"\n",
    "distinct_sorted_words(string1)"
   ]
  },
  {
   "cell_type": "code",
   "execution_count": 44,
   "id": "3a9eeb7b",
   "metadata": {},
   "outputs": [
    {
     "data": {
      "text/plain": [
       "['and', 'father', 'good', 'is', 'jatin', 'my', 'name', 'person']"
      ]
     },
     "execution_count": 44,
     "metadata": {},
     "output_type": "execute_result"
    }
   ],
   "source": [
    "string1 = \"my name is jatin and my father is good person\"\n",
    "distinct_sorted_words(string1)"
   ]
  },
  {
   "cell_type": "markdown",
   "id": "e67eba02",
   "metadata": {},
   "source": [
    "# Question: 5"
   ]
  },
  {
   "cell_type": "markdown",
   "id": "582a7912",
   "metadata": {},
   "source": [
    "Write a program that accepts a sentence and calculate the number of letters and digits.\n",
    "***\n",
    "***Suppose the following input is supplied to the program:\n",
    "hello world! 123\n",
    "Then, the output should be:\n",
    "LETTERS 10\n",
    "DIGITS 3***\n",
    "***"
   ]
  },
  {
   "cell_type": "markdown",
   "id": "2c313bb2",
   "metadata": {},
   "source": [
    "# Answer: 5"
   ]
  },
  {
   "cell_type": "code",
   "execution_count": 45,
   "id": "f6a1fae4",
   "metadata": {},
   "outputs": [],
   "source": [
    "def count_letter_digit(string):\n",
    "    c_l = c_d = 0\n",
    "    for x in string:\n",
    "        if x.isalpha():\n",
    "            c_l += 1\n",
    "        elif x.isdigit():\n",
    "            c_d += 1\n",
    "        else:\n",
    "            continue\n",
    "    print(\"LETTERS \",c_l)\n",
    "    print(\"DIGITS \",c_d)\n",
    "        "
   ]
  },
  {
   "cell_type": "code",
   "execution_count": 46,
   "id": "0dd999c8",
   "metadata": {},
   "outputs": [
    {
     "name": "stdout",
     "output_type": "stream",
     "text": [
      "LETTERS  10\n",
      "DIGITS  3\n"
     ]
    }
   ],
   "source": [
    "count_letter_digit(\"hello world! 123\")"
   ]
  },
  {
   "cell_type": "code",
   "execution_count": 47,
   "id": "a4e86a89",
   "metadata": {},
   "outputs": [
    {
     "name": "stdout",
     "output_type": "stream",
     "text": [
      "LETTERS  22\n",
      "DIGITS  6\n"
     ]
    }
   ],
   "source": [
    "count_letter_digit(\"123 jatindeepsingh500@gmail.com\")"
   ]
  },
  {
   "cell_type": "markdown",
   "id": "214c92ab",
   "metadata": {},
   "source": [
    "# Question: 6"
   ]
  },
  {
   "cell_type": "markdown",
   "id": "37107c78",
   "metadata": {},
   "source": [
    "\n",
    "A website requires the users to input username and password to register. Write a program to\n",
    "check the validity of password input by users.\n",
    "\n",
    "***\n",
    "Following are the criteria for checking the password:\n",
    "***1. At least 1 letter between [a-z]***\n",
    "***2. At least 1 number between [0-9]***\n",
    "***3. At least 1 letter between [A-Z]***\n",
    "***4. At least 1 character from [$#@]***\n",
    "*** 5. Minimum length of transaction password: 6 ***\n",
    "*** 6. Maximum length of transaction password: 12 ***\n",
    "***\n",
    "Your program should accept a sequence of comma separated passwords and will check them\n",
    "according to the above criteria. ***Passwords that match the criteria are to be printed, each\n",
    "separated by a comma.***\n",
    "***"
   ]
  },
  {
   "cell_type": "markdown",
   "id": "f53b3be0",
   "metadata": {},
   "source": [
    "# Answer: 6"
   ]
  },
  {
   "cell_type": "code",
   "execution_count": 79,
   "id": "d8afc671",
   "metadata": {},
   "outputs": [],
   "source": [
    "def check_password(password):\n",
    "    lb = ub = dig = sp = 0\n",
    "    min_length = 6\n",
    "    max_length = 12\n",
    "    length = 0\n",
    "    for ch in password:\n",
    "        length += 1 \n",
    "        if ch.islower():\n",
    "            lb += 1\n",
    "        elif ch.isupper():\n",
    "            ub += 1\n",
    "        elif ch.isdigit():\n",
    "            dig += 1\n",
    "        elif ch == '$' or ch == '@' or ch == '#':\n",
    "            sp += 1\n",
    "        else:\n",
    "            continue\n",
    "    if lb >= 1 and ub >= 1 and dig >=1 and sp >=1 and length >= 6 and length <= 12:\n",
    "        return True\n",
    "    else:\n",
    "        return False\n",
    "    \n",
    "def main(list1):\n",
    "    for word in list1:\n",
    "        if check_password(word):\n",
    "            print(word)\n",
    "        else:\n",
    "            continue\n",
    "    "
   ]
  },
  {
   "cell_type": "code",
   "execution_count": 80,
   "id": "58a24517",
   "metadata": {},
   "outputs": [
    {
     "name": "stdout",
     "output_type": "stream",
     "text": [
      "Jatin@123\n"
     ]
    }
   ],
   "source": [
    "passwords = [\"Jatin@123\",\"seplic\",\"act@1298\",\"lo1223\"]\n",
    "main(passwords)"
   ]
  },
  {
   "cell_type": "code",
   "execution_count": 81,
   "id": "59802f11",
   "metadata": {},
   "outputs": [
    {
     "name": "stdout",
     "output_type": "stream",
     "text": [
      "Jatin@123\n",
      "acT@1298\n"
     ]
    }
   ],
   "source": [
    "passwords = [\"Jatin@123\",\"seplic#12\",\"acT@1298\",\"lo1223\"]\n",
    "main(passwords)"
   ]
  },
  {
   "cell_type": "code",
   "execution_count": 83,
   "id": "a5e11244",
   "metadata": {},
   "outputs": [
    {
     "name": "stdout",
     "output_type": "stream",
     "text": [
      "ABd1234@1\n"
     ]
    }
   ],
   "source": [
    "passwords = ['ABd1234@1','a F1#','2w3E*','2We3345']\n",
    "main(passwords)"
   ]
  },
  {
   "cell_type": "code",
   "execution_count": null,
   "id": "4537dd86",
   "metadata": {},
   "outputs": [],
   "source": []
  }
 ],
 "metadata": {
  "kernelspec": {
   "display_name": "Python 3 (ipykernel)",
   "language": "python",
   "name": "python3"
  },
  "language_info": {
   "codemirror_mode": {
    "name": "ipython",
    "version": 3
   },
   "file_extension": ".py",
   "mimetype": "text/x-python",
   "name": "python",
   "nbconvert_exporter": "python",
   "pygments_lexer": "ipython3",
   "version": "3.9.12"
  }
 },
 "nbformat": 4,
 "nbformat_minor": 5
}
