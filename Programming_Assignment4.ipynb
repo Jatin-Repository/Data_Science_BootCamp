{
 "cells": [
  {
   "cell_type": "markdown",
   "id": "d4749513",
   "metadata": {},
   "source": [
    "# Question: 1"
   ]
  },
  {
   "cell_type": "markdown",
   "id": "39f7d4b4",
   "metadata": {},
   "source": [
    "# Write a Python Program to Find the Factorial of a Number?"
   ]
  },
  {
   "cell_type": "markdown",
   "id": "00811d6d",
   "metadata": {},
   "source": [
    "# Answer: 1"
   ]
  },
  {
   "cell_type": "code",
   "execution_count": 1,
   "id": "025aebe3",
   "metadata": {},
   "outputs": [],
   "source": [
    "def factorial(num):\n",
    "    if num < 0:\n",
    "        return \"Factorial Not Possible\"\n",
    "    if num == 0 or num == 1:\n",
    "        return 1\n",
    "\n",
    "    else:\n",
    "        return num * factorial(num-1)"
   ]
  },
  {
   "cell_type": "code",
   "execution_count": 2,
   "id": "9f277f3f",
   "metadata": {},
   "outputs": [
    {
     "data": {
      "text/plain": [
       "120"
      ]
     },
     "execution_count": 2,
     "metadata": {},
     "output_type": "execute_result"
    }
   ],
   "source": [
    "factorial(5)"
   ]
  },
  {
   "cell_type": "code",
   "execution_count": 3,
   "id": "e1a9c17e",
   "metadata": {},
   "outputs": [
    {
     "data": {
      "text/plain": [
       "1307674368000"
      ]
     },
     "execution_count": 3,
     "metadata": {},
     "output_type": "execute_result"
    }
   ],
   "source": [
    "factorial(15)"
   ]
  },
  {
   "cell_type": "code",
   "execution_count": 4,
   "id": "abf165fc",
   "metadata": {},
   "outputs": [
    {
     "data": {
      "text/plain": [
       "12146304367025329675766243241881295855454217088483382315328918161829235892362167668831156960612640202170735835221294047782591091570411651472186029519906261646730733907419814952960000000000000000000000000000"
      ]
     },
     "execution_count": 4,
     "metadata": {},
     "output_type": "execute_result"
    }
   ],
   "source": [
    "factorial(123)"
   ]
  },
  {
   "cell_type": "code",
   "execution_count": 5,
   "id": "cca7d4df",
   "metadata": {},
   "outputs": [
    {
     "data": {
      "text/plain": [
       "'Factorial Not Possible'"
      ]
     },
     "execution_count": 5,
     "metadata": {},
     "output_type": "execute_result"
    }
   ],
   "source": [
    "factorial(-9)"
   ]
  },
  {
   "cell_type": "markdown",
   "id": "c10f37c3",
   "metadata": {},
   "source": [
    "# Question: 2"
   ]
  },
  {
   "cell_type": "markdown",
   "id": "5a756da4",
   "metadata": {},
   "source": [
    "## Write a Python Program to Display the multiplication Table?"
   ]
  },
  {
   "cell_type": "markdown",
   "id": "dffe2c05",
   "metadata": {},
   "source": [
    "# Answer: 2"
   ]
  },
  {
   "cell_type": "code",
   "execution_count": 6,
   "id": "04aefc4a",
   "metadata": {},
   "outputs": [],
   "source": [
    "def table_of_number(num, target) :\n",
    "    print(\"Table of :\", num)\n",
    "    for i in range(1,target+1):\n",
    "        s = \"{} x {} = {}\".format(num,i,num*i)\n",
    "        print(s)"
   ]
  },
  {
   "cell_type": "code",
   "execution_count": 7,
   "id": "e94bb913",
   "metadata": {},
   "outputs": [
    {
     "name": "stdout",
     "output_type": "stream",
     "text": [
      "Table of : 12\n",
      "12 x 1 = 12\n",
      "12 x 2 = 24\n",
      "12 x 3 = 36\n",
      "12 x 4 = 48\n",
      "12 x 5 = 60\n",
      "12 x 6 = 72\n",
      "12 x 7 = 84\n",
      "12 x 8 = 96\n",
      "12 x 9 = 108\n",
      "12 x 10 = 120\n"
     ]
    }
   ],
   "source": [
    "table_of_number(12,10)"
   ]
  },
  {
   "cell_type": "code",
   "execution_count": 8,
   "id": "7fb9dab9",
   "metadata": {},
   "outputs": [
    {
     "name": "stdout",
     "output_type": "stream",
     "text": [
      "Table of : 113\n",
      "113 x 1 = 113\n",
      "113 x 2 = 226\n",
      "113 x 3 = 339\n",
      "113 x 4 = 452\n",
      "113 x 5 = 565\n",
      "113 x 6 = 678\n",
      "113 x 7 = 791\n",
      "113 x 8 = 904\n",
      "113 x 9 = 1017\n",
      "113 x 10 = 1130\n",
      "113 x 11 = 1243\n",
      "113 x 12 = 1356\n",
      "113 x 13 = 1469\n",
      "113 x 14 = 1582\n",
      "113 x 15 = 1695\n",
      "113 x 16 = 1808\n",
      "113 x 17 = 1921\n",
      "113 x 18 = 2034\n",
      "113 x 19 = 2147\n",
      "113 x 20 = 2260\n"
     ]
    }
   ],
   "source": [
    "table_of_number(113,20)"
   ]
  },
  {
   "cell_type": "markdown",
   "id": "cabc9c49",
   "metadata": {},
   "source": [
    "# Question: 3"
   ]
  },
  {
   "cell_type": "markdown",
   "id": "d12ddb26",
   "metadata": {},
   "source": [
    "# Write a Python Program to Print the Fibonacci sequence?"
   ]
  },
  {
   "cell_type": "markdown",
   "id": "c0e17ba3",
   "metadata": {},
   "source": [
    "# Answer: 3"
   ]
  },
  {
   "cell_type": "code",
   "execution_count": 9,
   "id": "f2ebd1f0",
   "metadata": {},
   "outputs": [],
   "source": [
    "def fibonacci_sequence(terms):\n",
    "    second_last = 0 # First Term\n",
    "    last = 1 # Second Term\n",
    "    count = 2\n",
    "    print (second_last,last,end =\" \")\n",
    "    while count <= terms:\n",
    "        value = last +  second_last\n",
    "        second_last = last\n",
    "        last = value\n",
    "        print(last,end =\" \")\n",
    "        count += 1"
   ]
  },
  {
   "cell_type": "code",
   "execution_count": 10,
   "id": "26fe9f3c",
   "metadata": {},
   "outputs": [
    {
     "name": "stdout",
     "output_type": "stream",
     "text": [
      "0 1 1 2 3 5 8 13 21 34 55 "
     ]
    }
   ],
   "source": [
    "fibonacci_sequence(10)"
   ]
  },
  {
   "cell_type": "code",
   "execution_count": 11,
   "id": "c91c1ca4",
   "metadata": {},
   "outputs": [
    {
     "name": "stdout",
     "output_type": "stream",
     "text": [
      "0 1 1 2 3 5 8 13 21 34 55 89 144 233 377 610 987 1597 2584 4181 6765 10946 17711 28657 46368 75025 121393 196418 317811 514229 832040 1346269 2178309 3524578 5702887 9227465 14930352 24157817 39088169 63245986 102334155 165580141 267914296 433494437 701408733 1134903170 1836311903 2971215073 4807526976 7778742049 12586269025 "
     ]
    }
   ],
   "source": [
    "fibonacci_sequence(50)"
   ]
  },
  {
   "cell_type": "markdown",
   "id": "a5657076",
   "metadata": {},
   "source": [
    "# Question : 4"
   ]
  },
  {
   "cell_type": "markdown",
   "id": "22a2b8f9",
   "metadata": {},
   "source": [
    "## Write a Python Program to Check Armstrong Number?\n",
    "\n",
    "##### Notes : Let number = abcdefgh........, length = x, then  pow(a,x)+pow(b,x)+pow(c,x)..............= number, then number is Armstrong Number"
   ]
  },
  {
   "cell_type": "markdown",
   "id": "d1507785",
   "metadata": {},
   "source": [
    "# Answer: 4"
   ]
  },
  {
   "cell_type": "code",
   "execution_count": 18,
   "id": "7c0d1e89",
   "metadata": {},
   "outputs": [],
   "source": [
    "def check_armstrong_number(num):\n",
    "    length = len(str(num))\n",
    "    temp = num\n",
    "    res = 0\n",
    "    while num:\n",
    "        rem = num % 10\n",
    "        res += rem ** length\n",
    "        num = num // 10\n",
    "    if temp == res:\n",
    "        return True\n",
    "    else:\n",
    "        return False"
   ]
  },
  {
   "cell_type": "code",
   "execution_count": 19,
   "id": "648c3d30",
   "metadata": {},
   "outputs": [
    {
     "data": {
      "text/plain": [
       "True"
      ]
     },
     "execution_count": 19,
     "metadata": {},
     "output_type": "execute_result"
    }
   ],
   "source": [
    "check_armstrong_number(153)"
   ]
  },
  {
   "cell_type": "code",
   "execution_count": 20,
   "id": "46380e0a",
   "metadata": {},
   "outputs": [
    {
     "data": {
      "text/plain": [
       "False"
      ]
     },
     "execution_count": 20,
     "metadata": {},
     "output_type": "execute_result"
    }
   ],
   "source": [
    "check_armstrong_number(1953)"
   ]
  },
  {
   "cell_type": "markdown",
   "id": "79539be1",
   "metadata": {},
   "source": [
    "# Question: 5"
   ]
  },
  {
   "cell_type": "markdown",
   "id": "0118b657",
   "metadata": {},
   "source": [
    "## Write a Python Program to Find Armstrong Number in an Interval?"
   ]
  },
  {
   "cell_type": "markdown",
   "id": "bfa91949",
   "metadata": {},
   "source": [
    "# Answer: 5"
   ]
  },
  {
   "cell_type": "code",
   "execution_count": 21,
   "id": "82fd3d34",
   "metadata": {},
   "outputs": [],
   "source": [
    "def Armstrong_in_Range(start,end):\n",
    "    for i in range (start, end+1):\n",
    "        if check_armstrong_number(i):\n",
    "            print(i, end= \" \")\n",
    "        else:\n",
    "            continue"
   ]
  },
  {
   "cell_type": "code",
   "execution_count": 22,
   "id": "982cc26e",
   "metadata": {},
   "outputs": [
    {
     "name": "stdout",
     "output_type": "stream",
     "text": [
      "1 2 3 4 5 6 7 8 9 153 370 371 407 "
     ]
    }
   ],
   "source": [
    "Armstrong_in_Range(1,500)"
   ]
  },
  {
   "cell_type": "code",
   "execution_count": 23,
   "id": "6b9fd6ab",
   "metadata": {},
   "outputs": [
    {
     "name": "stdout",
     "output_type": "stream",
     "text": [
      "1 2 3 4 5 6 7 8 9 153 370 371 407 1634 8208 9474 54748 92727 93084 "
     ]
    }
   ],
   "source": [
    "Armstrong_in_Range(1,100000)"
   ]
  },
  {
   "cell_type": "markdown",
   "id": "e9f34e36",
   "metadata": {},
   "source": [
    "# Question: 6"
   ]
  },
  {
   "cell_type": "markdown",
   "id": "43f90061",
   "metadata": {},
   "source": [
    "## Write a Python Program to Find the Sum of Natural Numbers?"
   ]
  },
  {
   "cell_type": "markdown",
   "id": "80ff751a",
   "metadata": {},
   "source": [
    "# Answer: 6"
   ]
  },
  {
   "cell_type": "code",
   "execution_count": 24,
   "id": "9a200c83",
   "metadata": {},
   "outputs": [],
   "source": [
    "def sum_natural_number(target):\n",
    "    return (target*(target+1)/2)"
   ]
  },
  {
   "cell_type": "code",
   "execution_count": 25,
   "id": "38ce3c8e",
   "metadata": {},
   "outputs": [
    {
     "data": {
      "text/plain": [
       "55.0"
      ]
     },
     "execution_count": 25,
     "metadata": {},
     "output_type": "execute_result"
    }
   ],
   "source": [
    "sum_natural_number(10)"
   ]
  },
  {
   "cell_type": "code",
   "execution_count": 26,
   "id": "e77e7425",
   "metadata": {},
   "outputs": [
    {
     "data": {
      "text/plain": [
       "5050.0"
      ]
     },
     "execution_count": 26,
     "metadata": {},
     "output_type": "execute_result"
    }
   ],
   "source": [
    "sum_natural_number(100)"
   ]
  },
  {
   "cell_type": "code",
   "execution_count": 27,
   "id": "9294e0e9",
   "metadata": {},
   "outputs": [
    {
     "data": {
      "text/plain": [
       "720600.0"
      ]
     },
     "execution_count": 27,
     "metadata": {},
     "output_type": "execute_result"
    }
   ],
   "source": [
    "sum_natural_number(1200)"
   ]
  },
  {
   "cell_type": "code",
   "execution_count": 28,
   "id": "bc5f8c73",
   "metadata": {},
   "outputs": [
    {
     "data": {
      "text/plain": [
       "903.0"
      ]
     },
     "execution_count": 28,
     "metadata": {},
     "output_type": "execute_result"
    }
   ],
   "source": [
    "sum_natural_number(42)"
   ]
  },
  {
   "cell_type": "code",
   "execution_count": null,
   "id": "34f2898b",
   "metadata": {},
   "outputs": [],
   "source": []
  }
 ],
 "metadata": {
  "kernelspec": {
   "display_name": "Python 3 (ipykernel)",
   "language": "python",
   "name": "python3"
  },
  "language_info": {
   "codemirror_mode": {
    "name": "ipython",
    "version": 3
   },
   "file_extension": ".py",
   "mimetype": "text/x-python",
   "name": "python",
   "nbconvert_exporter": "python",
   "pygments_lexer": "ipython3",
   "version": "3.9.12"
  }
 },
 "nbformat": 4,
 "nbformat_minor": 5
}
