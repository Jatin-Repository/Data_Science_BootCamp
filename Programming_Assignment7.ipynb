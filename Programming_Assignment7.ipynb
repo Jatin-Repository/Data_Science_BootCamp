{
 "cells": [
  {
   "cell_type": "markdown",
   "id": "5a9e3067",
   "metadata": {},
   "source": [
    "# Question: 1"
   ]
  },
  {
   "cell_type": "markdown",
   "id": "e3999718",
   "metadata": {},
   "source": [
    "## Write a Python Program to find sum of array?"
   ]
  },
  {
   "cell_type": "markdown",
   "id": "06c72bf0",
   "metadata": {},
   "source": [
    "# Answer: 1"
   ]
  },
  {
   "cell_type": "code",
   "execution_count": 1,
   "id": "fb2d534c",
   "metadata": {},
   "outputs": [],
   "source": [
    "def add_Array(num) -> int:\n",
    "    add = 0\n",
    "    for x in num:\n",
    "        add += x  # add = add + x\n",
    "    return add"
   ]
  },
  {
   "cell_type": "code",
   "execution_count": 2,
   "id": "422e81ad",
   "metadata": {},
   "outputs": [
    {
     "data": {
      "text/plain": [
       "15"
      ]
     },
     "execution_count": 2,
     "metadata": {},
     "output_type": "execute_result"
    }
   ],
   "source": [
    "add_Array([1,2,3,4,5])"
   ]
  },
  {
   "cell_type": "code",
   "execution_count": 3,
   "id": "4902b591",
   "metadata": {},
   "outputs": [
    {
     "data": {
      "text/plain": [
       "122"
      ]
     },
     "execution_count": 3,
     "metadata": {},
     "output_type": "execute_result"
    }
   ],
   "source": [
    "add_Array([-1,2,3,-4,10,12,100])"
   ]
  },
  {
   "cell_type": "code",
   "execution_count": 4,
   "id": "51da6df6",
   "metadata": {},
   "outputs": [
    {
     "data": {
      "text/plain": [
       "-1659"
      ]
     },
     "execution_count": 4,
     "metadata": {},
     "output_type": "execute_result"
    }
   ],
   "source": [
    " add_Array([11,22,33,44,55,66,-1890])"
   ]
  },
  {
   "cell_type": "code",
   "execution_count": 5,
   "id": "2efb876e",
   "metadata": {},
   "outputs": [
    {
     "data": {
      "text/plain": [
       "1032"
      ]
     },
     "execution_count": 5,
     "metadata": {},
     "output_type": "execute_result"
    }
   ],
   "source": [
    "add_Array([121,245,786,-120])"
   ]
  },
  {
   "cell_type": "markdown",
   "id": "6fd0815d",
   "metadata": {},
   "source": [
    "# Question: 2"
   ]
  },
  {
   "cell_type": "markdown",
   "id": "a8447651",
   "metadata": {},
   "source": [
    "## Write a Python Program to find largest element in an array?"
   ]
  },
  {
   "cell_type": "markdown",
   "id": "8018df52",
   "metadata": {},
   "source": [
    "# Answer: 2"
   ]
  },
  {
   "cell_type": "code",
   "execution_count": 6,
   "id": "2cda8ddd",
   "metadata": {},
   "outputs": [],
   "source": [
    "def maximum_Array(nums) -> int:\n",
    "    maximum = nums[0]\n",
    "    length = len(nums)\n",
    "    for z in range(1,length):\n",
    "        if nums[z] > maximum:\n",
    "            maximum = nums[z]\n",
    "        else:\n",
    "            continue\n",
    "    return maximum"
   ]
  },
  {
   "cell_type": "code",
   "execution_count": 7,
   "id": "3ccfa15e",
   "metadata": {},
   "outputs": [
    {
     "data": {
      "text/plain": [
       "18"
      ]
     },
     "execution_count": 7,
     "metadata": {},
     "output_type": "execute_result"
    }
   ],
   "source": [
    "maximum_Array([1,14,5,7,9,18])"
   ]
  },
  {
   "cell_type": "code",
   "execution_count": 8,
   "id": "23e9b4ff",
   "metadata": {},
   "outputs": [
    {
     "data": {
      "text/plain": [
       "-3"
      ]
     },
     "execution_count": 8,
     "metadata": {},
     "output_type": "execute_result"
    }
   ],
   "source": [
    "maximum_Array([-7,-8,-5,-4,-3,-11])"
   ]
  },
  {
   "cell_type": "code",
   "execution_count": 9,
   "id": "423f0f13",
   "metadata": {},
   "outputs": [
    {
     "data": {
      "text/plain": [
       "13"
      ]
     },
     "execution_count": 9,
     "metadata": {},
     "output_type": "execute_result"
    }
   ],
   "source": [
    "maximum_Array([-4,7,8,9,10,13])"
   ]
  },
  {
   "cell_type": "code",
   "execution_count": 10,
   "id": "3b263420",
   "metadata": {},
   "outputs": [
    {
     "data": {
      "text/plain": [
       "0"
      ]
     },
     "execution_count": 10,
     "metadata": {},
     "output_type": "execute_result"
    }
   ],
   "source": [
    "maximum_Array([-12,0,-8,-9,-6])"
   ]
  },
  {
   "cell_type": "markdown",
   "id": "1e3b9c00",
   "metadata": {},
   "source": [
    "# Question: 3"
   ]
  },
  {
   "cell_type": "markdown",
   "id": "2d9088fd",
   "metadata": {},
   "source": [
    "# Write a Python Program for array rotation?"
   ]
  },
  {
   "cell_type": "markdown",
   "id": "a1b0d156",
   "metadata": {},
   "source": [
    "# Answer: 3"
   ]
  },
  {
   "cell_type": "code",
   "execution_count": 11,
   "id": "ca38bca9",
   "metadata": {},
   "outputs": [],
   "source": [
    "def rotate_Array(nums,rot): # Rotation towards left\n",
    "    length = len(nums)\n",
    "    k = 0\n",
    "    while k != rot:\n",
    "        x = nums[0]\n",
    "        for i in range(0,length-1):\n",
    "            nums[i] = nums[i+1]\n",
    "        else:\n",
    "            nums[i+1] = x\n",
    "        k += 1\n",
    "    return nums\n",
    "            "
   ]
  },
  {
   "cell_type": "code",
   "execution_count": 12,
   "id": "c5a090e2",
   "metadata": {},
   "outputs": [
    {
     "data": {
      "text/plain": [
       "[3, 4, 5, 6, 7, 1, 2]"
      ]
     },
     "execution_count": 12,
     "metadata": {},
     "output_type": "execute_result"
    }
   ],
   "source": [
    "rotate_Array([1,2,3,4,5,6,7],2)"
   ]
  },
  {
   "cell_type": "code",
   "execution_count": 13,
   "id": "1328428c",
   "metadata": {},
   "outputs": [
    {
     "data": {
      "text/plain": [
       "[6, 7, 1, 2, 3, 4, 5]"
      ]
     },
     "execution_count": 13,
     "metadata": {},
     "output_type": "execute_result"
    }
   ],
   "source": [
    "rotate_Array([1,2,3,4,5,6,7],5)"
   ]
  },
  {
   "cell_type": "code",
   "execution_count": 14,
   "id": "63955194",
   "metadata": {},
   "outputs": [
    {
     "data": {
      "text/plain": [
       "[-5, -6, 7, 1, 2, -3, 4]"
      ]
     },
     "execution_count": 14,
     "metadata": {},
     "output_type": "execute_result"
    }
   ],
   "source": [
    "rotate_Array([1,2,-3,4,-5,-6,7],4)"
   ]
  },
  {
   "cell_type": "markdown",
   "id": "0e3d5812",
   "metadata": {},
   "source": [
    "# Question : 4"
   ]
  },
  {
   "cell_type": "markdown",
   "id": "e6e7302c",
   "metadata": {},
   "source": [
    "# Write a Python Program to Split the array and add the first part to the end?"
   ]
  },
  {
   "cell_type": "markdown",
   "id": "a7581d2d",
   "metadata": {},
   "source": [
    "# Answer: 4"
   ]
  },
  {
   "cell_type": "code",
   "execution_count": 27,
   "id": "0f6669c3",
   "metadata": {},
   "outputs": [],
   "source": [
    "def split_add(nums,index):\n",
    "    list1 = nums[index:len(nums)]\n",
    "    for i in range(0,index):\n",
    "        list1.append(nums[i])\n",
    "    return list1"
   ]
  },
  {
   "cell_type": "code",
   "execution_count": 28,
   "id": "2ce28e58",
   "metadata": {},
   "outputs": [
    {
     "data": {
      "text/plain": [
       "[5, 6, 7, 1, 2, 3, 4]"
      ]
     },
     "execution_count": 28,
     "metadata": {},
     "output_type": "execute_result"
    }
   ],
   "source": [
    "split_add([1,2,3,4,5,6,7],4)"
   ]
  },
  {
   "cell_type": "code",
   "execution_count": 29,
   "id": "10ab0aa5",
   "metadata": {},
   "outputs": [
    {
     "data": {
      "text/plain": [
       "[5, 6, 52, 36, 12, 10]"
      ]
     },
     "execution_count": 29,
     "metadata": {},
     "output_type": "execute_result"
    }
   ],
   "source": [
    "split_add([12, 10, 5, 6, 52, 36],2)"
   ]
  },
  {
   "cell_type": "markdown",
   "id": "2f19419a",
   "metadata": {},
   "source": [
    "# Question: 5"
   ]
  },
  {
   "cell_type": "markdown",
   "id": "740a721b",
   "metadata": {},
   "source": [
    "# Write a Python Program to check if given array is Monotonic?"
   ]
  },
  {
   "cell_type": "markdown",
   "id": "afc8929a",
   "metadata": {},
   "source": [
    "# Answer: 5"
   ]
  },
  {
   "cell_type": "markdown",
   "id": "af7c2b06",
   "metadata": {},
   "source": [
    "An array is said to be monotonic in nature if it is either continuously increasing or continuously decreasing. Mathematically, An array A is continuously increasing if for all i <= j, A[i] <= A[j]."
   ]
  },
  {
   "cell_type": "code",
   "execution_count": 34,
   "id": "6b88b09a",
   "metadata": {},
   "outputs": [],
   "source": [
    "def array_Monotonic(nums):\n",
    "    inc = dec = 0\n",
    "    x = nums[0]\n",
    "    length = len(nums)\n",
    "    for y in range (1,length):\n",
    "        if nums[y] > x:\n",
    "            x  = nums[y]\n",
    "            inc  = 1\n",
    "        elif nums[y] < x:\n",
    "            x = nums[y]\n",
    "            dec = 1\n",
    "        if inc == 1 and dec == 1:\n",
    "            return \"Not Monotonic Array\"\n",
    "    if inc == 1 and dec == 0 :\n",
    "        return \"Increasing Monotonic Array\"\n",
    "    elif inc == 0 and dec == 1:\n",
    "        return \"Decreasing Monotonic Array\""
   ]
  },
  {
   "cell_type": "code",
   "execution_count": 35,
   "id": "fa1885a5",
   "metadata": {},
   "outputs": [
    {
     "data": {
      "text/plain": [
       "'Increasing Monotonic Array'"
      ]
     },
     "execution_count": 35,
     "metadata": {},
     "output_type": "execute_result"
    }
   ],
   "source": [
    "array_Monotonic([1,2,3,4,7,8])"
   ]
  },
  {
   "cell_type": "code",
   "execution_count": 36,
   "id": "66f7dc9f",
   "metadata": {},
   "outputs": [
    {
     "data": {
      "text/plain": [
       "'Not Monotonic Array'"
      ]
     },
     "execution_count": 36,
     "metadata": {},
     "output_type": "execute_result"
    }
   ],
   "source": [
    "array_Monotonic([1,2,3,0,7,8])"
   ]
  },
  {
   "cell_type": "code",
   "execution_count": 37,
   "id": "49df15ac",
   "metadata": {},
   "outputs": [
    {
     "data": {
      "text/plain": [
       "'Not Monotonic Array'"
      ]
     },
     "execution_count": 37,
     "metadata": {},
     "output_type": "execute_result"
    }
   ],
   "source": [
    "array_Monotonic([1,-2,3,4,7,-8])"
   ]
  },
  {
   "cell_type": "code",
   "execution_count": 38,
   "id": "c67d4f35",
   "metadata": {},
   "outputs": [
    {
     "data": {
      "text/plain": [
       "'Decreasing Monotonic Array'"
      ]
     },
     "execution_count": 38,
     "metadata": {},
     "output_type": "execute_result"
    }
   ],
   "source": [
    "array_Monotonic([-11,-21,-39,-40,-87,-98])"
   ]
  },
  {
   "cell_type": "code",
   "execution_count": null,
   "id": "60b495b1",
   "metadata": {},
   "outputs": [],
   "source": []
  }
 ],
 "metadata": {
  "kernelspec": {
   "display_name": "Python 3 (ipykernel)",
   "language": "python",
   "name": "python3"
  },
  "language_info": {
   "codemirror_mode": {
    "name": "ipython",
    "version": 3
   },
   "file_extension": ".py",
   "mimetype": "text/x-python",
   "name": "python",
   "nbconvert_exporter": "python",
   "pygments_lexer": "ipython3",
   "version": "3.9.12"
  }
 },
 "nbformat": 4,
 "nbformat_minor": 5
}
