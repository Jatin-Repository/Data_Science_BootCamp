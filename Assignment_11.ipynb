{
 "cells": [
  {
   "cell_type": "markdown",
   "id": "4bd1e898",
   "metadata": {},
   "source": [
    "# Question: 1"
   ]
  },
  {
   "cell_type": "markdown",
   "id": "d9c1b919",
   "metadata": {},
   "source": [
    "## Write a Python program to find words which are greater than given length k?"
   ]
  },
  {
   "cell_type": "markdown",
   "id": "8d1fc3e7",
   "metadata": {},
   "source": [
    "# Answer: 1"
   ]
  },
  {
   "cell_type": "code",
   "execution_count": 1,
   "id": "d7ab0868",
   "metadata": {},
   "outputs": [],
   "source": [
    "def diff_word(string, length):\n",
    "    s = string.split(\" \")\n",
    "    for t in s:\n",
    "        if len(t) > length :\n",
    "            print(t, end= \" \")\n",
    "        else:\n",
    "            continue"
   ]
  },
  {
   "cell_type": "code",
   "execution_count": 2,
   "id": "968b8d46",
   "metadata": {},
   "outputs": [
    {
     "name": "stdout",
     "output_type": "stream",
     "text": [
      "name Jatin Deep Singh "
     ]
    }
   ],
   "source": [
    "p = \"My name is Jatin Deep Singh\"\n",
    "diff_word(p, 2)"
   ]
  },
  {
   "cell_type": "code",
   "execution_count": 3,
   "id": "6b0d310e",
   "metadata": {},
   "outputs": [
    {
     "name": "stdout",
     "output_type": "stream",
     "text": [
      "Singh. father business "
     ]
    }
   ],
   "source": [
    "p = \"My name is Jatin Deep Singh. My father is a business  man\"\n",
    "diff_word(p, 5)"
   ]
  },
  {
   "cell_type": "markdown",
   "id": "a21b66a7",
   "metadata": {},
   "source": [
    "# Question: 2"
   ]
  },
  {
   "cell_type": "markdown",
   "id": "ef670fdf",
   "metadata": {},
   "source": [
    "# Write a Python program for removing i-th character from a string?"
   ]
  },
  {
   "cell_type": "markdown",
   "id": "8b89e88e",
   "metadata": {},
   "source": [
    "# Answer: 2"
   ]
  },
  {
   "cell_type": "code",
   "execution_count": 8,
   "id": "096328b9",
   "metadata": {},
   "outputs": [],
   "source": [
    "def remove_char_at_end(s,index): # consider indexing start with 1\n",
    "    index -= 1 \n",
    "    if index >= len(s):\n",
    "        return \"index is greater than string length\"\n",
    "    else:\n",
    "        s = s[0:index]+s[index+1:len(s)]\n",
    "        return s"
   ]
  },
  {
   "cell_type": "code",
   "execution_count": 9,
   "id": "64a90611",
   "metadata": {},
   "outputs": [
    {
     "data": {
      "text/plain": [
       "'JatiDeep'"
      ]
     },
     "execution_count": 9,
     "metadata": {},
     "output_type": "execute_result"
    }
   ],
   "source": [
    "remove_char_at_end(\"JatinDeep\",5)"
   ]
  },
  {
   "cell_type": "code",
   "execution_count": 10,
   "id": "8756e728",
   "metadata": {},
   "outputs": [
    {
     "data": {
      "text/plain": [
       "'Trnslator'"
      ]
     },
     "execution_count": 10,
     "metadata": {},
     "output_type": "execute_result"
    }
   ],
   "source": [
    "remove_char_at_end(\"Translator\",3)"
   ]
  },
  {
   "cell_type": "markdown",
   "id": "329d40e9",
   "metadata": {},
   "source": [
    "# Question: 3"
   ]
  },
  {
   "cell_type": "markdown",
   "id": "721ec6e5",
   "metadata": {},
   "source": [
    "# Write a Python program to split and join a string?"
   ]
  },
  {
   "cell_type": "markdown",
   "id": "23e6c140",
   "metadata": {},
   "source": [
    "# Answer: 3"
   ]
  },
  {
   "cell_type": "code",
   "execution_count": 11,
   "id": "c7694640",
   "metadata": {},
   "outputs": [],
   "source": [
    "def split_join_string(string):\n",
    "    s = string.split(\" \")\n",
    "    str = s\n",
    "    return \" \".join(str)"
   ]
  },
  {
   "cell_type": "code",
   "execution_count": 12,
   "id": "261c6d79",
   "metadata": {},
   "outputs": [
    {
     "data": {
      "text/plain": [
       "'I have graduated from GCET, Greater Nodia'"
      ]
     },
     "execution_count": 12,
     "metadata": {},
     "output_type": "execute_result"
    }
   ],
   "source": [
    "split_join_string(\"I have graduated from GCET, Greater Nodia\")"
   ]
  },
  {
   "cell_type": "code",
   "execution_count": 14,
   "id": "f094e8b8",
   "metadata": {},
   "outputs": [
    {
     "data": {
      "text/plain": [
       "'I have work experience of 13 months'"
      ]
     },
     "execution_count": 14,
     "metadata": {},
     "output_type": "execute_result"
    }
   ],
   "source": [
    "split_join_string(\"I have work experience of 13 months\")"
   ]
  },
  {
   "cell_type": "markdown",
   "id": "36cef97f",
   "metadata": {},
   "source": [
    "# Question: 4"
   ]
  },
  {
   "cell_type": "markdown",
   "id": "a6423361",
   "metadata": {},
   "source": [
    "# Write a Python to check if a given string is binary string or not?"
   ]
  },
  {
   "cell_type": "markdown",
   "id": "7bae63c4",
   "metadata": {},
   "source": [
    "# Answer: 4"
   ]
  },
  {
   "cell_type": "code",
   "execution_count": 16,
   "id": "fdcd78e7",
   "metadata": {},
   "outputs": [],
   "source": [
    "def check_string_binary(string):\n",
    "    for x in string:\n",
    "        if x == '0' or x == '1':\n",
    "            continue\n",
    "        else:\n",
    "            return False\n",
    "    else:\n",
    "        return True"
   ]
  },
  {
   "cell_type": "code",
   "execution_count": 17,
   "id": "be6a413c",
   "metadata": {},
   "outputs": [
    {
     "data": {
      "text/plain": [
       "True"
      ]
     },
     "execution_count": 17,
     "metadata": {},
     "output_type": "execute_result"
    }
   ],
   "source": [
    "check_string_binary(\"100011\")"
   ]
  },
  {
   "cell_type": "code",
   "execution_count": 18,
   "id": "da9a695d",
   "metadata": {},
   "outputs": [
    {
     "data": {
      "text/plain": [
       "False"
      ]
     },
     "execution_count": 18,
     "metadata": {},
     "output_type": "execute_result"
    }
   ],
   "source": [
    "check_string_binary(\"100021\")"
   ]
  },
  {
   "cell_type": "markdown",
   "id": "ee461059",
   "metadata": {},
   "source": [
    "# Question: 5"
   ]
  },
  {
   "cell_type": "markdown",
   "id": "c66d2b3d",
   "metadata": {},
   "source": [
    "# Write a Python program to find uncommon words from two Strings?"
   ]
  },
  {
   "cell_type": "markdown",
   "id": "eae65af3",
   "metadata": {},
   "source": [
    "# Answer: 5"
   ]
  },
  {
   "cell_type": "code",
   "execution_count": 26,
   "id": "c800a38a",
   "metadata": {},
   "outputs": [],
   "source": [
    "def uncommon_word(string1, string2):\n",
    "    words = dict()\n",
    "    list1 = list()\n",
    "    x = string1.split(\" \")\n",
    "    for s in x:\n",
    "        if words.get(s):\n",
    "            continue\n",
    "        else:\n",
    "            words[s] = 1\n",
    "    x = string2.split(\" \")\n",
    "    for s in x:\n",
    "        if words.get(s):\n",
    "            continue\n",
    "        else:\n",
    "            list1.append(s)\n",
    "    if len(list1) > 0:\n",
    "        return list1\n",
    "    else:\n",
    "        return \"No uncommon word in both string\"\n",
    "    "
   ]
  },
  {
   "cell_type": "code",
   "execution_count": 27,
   "id": "c9a78d36",
   "metadata": {},
   "outputs": [
    {
     "data": {
      "text/plain": [
       "['father', 'Bhupendra', 'Pal']"
      ]
     },
     "execution_count": 27,
     "metadata": {},
     "output_type": "execute_result"
    }
   ],
   "source": [
    "s1 = \"My name is Jatin Deep\"\n",
    "s2 = \"My father name is Bhupendra Pal\"\n",
    "uncommon_word(s1, s2)"
   ]
  },
  {
   "cell_type": "code",
   "execution_count": 28,
   "id": "51f40874",
   "metadata": {},
   "outputs": [
    {
     "data": {
      "text/plain": [
       "['two', 'sibilings', 'five', 'elder', 'sibilings']"
      ]
     },
     "execution_count": 28,
     "metadata": {},
     "output_type": "execute_result"
    }
   ],
   "source": [
    "s1 = \"I have one younger sister and one younger brother\"\n",
    "s2 = \"I have two younger sibilings and five elder sibilings\"\n",
    "uncommon_word(s1, s2)"
   ]
  },
  {
   "cell_type": "code",
   "execution_count": 29,
   "id": "71f91d87",
   "metadata": {},
   "outputs": [
    {
     "data": {
      "text/plain": [
       "'No uncommon word in both string'"
      ]
     },
     "execution_count": 29,
     "metadata": {},
     "output_type": "execute_result"
    }
   ],
   "source": [
    "s1 = \"I have younger sister,brother and elder brother,sister\"\n",
    "s2 = \"I have younger sister,brother and elder brother,sister\"\n",
    "uncommon_word(s1, s2)"
   ]
  },
  {
   "cell_type": "markdown",
   "id": "a487cf89",
   "metadata": {},
   "source": [
    "# Question: 6"
   ]
  },
  {
   "cell_type": "markdown",
   "id": "82d46706",
   "metadata": {},
   "source": [
    "# Write a Python to find all duplicate characters in string?"
   ]
  },
  {
   "cell_type": "markdown",
   "id": "e9d2a231",
   "metadata": {},
   "source": [
    "# Answer: 6"
   ]
  },
  {
   "cell_type": "code",
   "execution_count": 31,
   "id": "81d2e7ac",
   "metadata": {},
   "outputs": [],
   "source": [
    "def duplicate_character(string):\n",
    "    char = dict()\n",
    "    for x in string:\n",
    "        if char.get(x):\n",
    "            char[x] += 1\n",
    "        else:\n",
    "            char[x] = 1\n",
    "    for a,b in char.items():\n",
    "        if b == 2:\n",
    "            print(a, end = \" \")\n",
    "        else:\n",
    "            continue"
   ]
  },
  {
   "cell_type": "code",
   "execution_count": 32,
   "id": "8394ce9f",
   "metadata": {},
   "outputs": [
    {
     "name": "stdout",
     "output_type": "stream",
     "text": [
      "i t s l "
     ]
    }
   ],
   "source": [
    "duplicate_character(\"rightisalwaaysleft\")"
   ]
  },
  {
   "cell_type": "code",
   "execution_count": 33,
   "id": "cd6e96a5",
   "metadata": {},
   "outputs": [
    {
     "name": "stdout",
     "output_type": "stream",
     "text": [
      "l r "
     ]
    }
   ],
   "source": [
    "duplicate_character(\"leftearlier\")"
   ]
  },
  {
   "cell_type": "code",
   "execution_count": 34,
   "id": "4e9b749a",
   "metadata": {},
   "outputs": [
    {
     "name": "stdout",
     "output_type": "stream",
     "text": [
      "i n e "
     ]
    }
   ],
   "source": [
    "duplicate_character(\"jatindeepsingh\")"
   ]
  },
  {
   "cell_type": "markdown",
   "id": "e34d0fc2",
   "metadata": {},
   "source": [
    "# Question : 7"
   ]
  },
  {
   "cell_type": "markdown",
   "id": "f1265635",
   "metadata": {},
   "source": [
    "# Write a Python Program to check if a string contains any special character?"
   ]
  },
  {
   "cell_type": "markdown",
   "id": "52044d73",
   "metadata": {},
   "source": [
    "# Answer: 7"
   ]
  },
  {
   "cell_type": "code",
   "execution_count": 49,
   "id": "10f0e5a0",
   "metadata": {},
   "outputs": [],
   "source": [
    "def check_special_char(string):\n",
    "    s= '[@_!#$%^&*()<>?/\\|}{~:]'\n",
    "    spl_char = list()\n",
    "    for x in s:\n",
    "        spl_char.append (x)\n",
    "    for t in string:\n",
    "        if t in spl_char:\n",
    "            return True\n",
    "        else:\n",
    "            continue\n",
    "    else:\n",
    "        return False"
   ]
  },
  {
   "cell_type": "code",
   "execution_count": 50,
   "id": "bfad0f34",
   "metadata": {},
   "outputs": [
    {
     "data": {
      "text/plain": [
       "True"
      ]
     },
     "execution_count": 50,
     "metadata": {},
     "output_type": "execute_result"
    }
   ],
   "source": [
    "check_special_char(\"Jatin_Singh\")"
   ]
  },
  {
   "cell_type": "code",
   "execution_count": 51,
   "id": "a9f7545e",
   "metadata": {},
   "outputs": [
    {
     "data": {
      "text/plain": [
       "True"
      ]
     },
     "execution_count": 51,
     "metadata": {},
     "output_type": "execute_result"
    }
   ],
   "source": [
    "check_special_char(\"Jatin@Singh\\/}{\")"
   ]
  },
  {
   "cell_type": "code",
   "execution_count": 52,
   "id": "35b26753",
   "metadata": {},
   "outputs": [
    {
     "data": {
      "text/plain": [
       "False"
      ]
     },
     "execution_count": 52,
     "metadata": {},
     "output_type": "execute_result"
    }
   ],
   "source": [
    "check_special_char(\"KaurB\")"
   ]
  },
  {
   "cell_type": "code",
   "execution_count": null,
   "id": "a40d3d29",
   "metadata": {},
   "outputs": [],
   "source": []
  }
 ],
 "metadata": {
  "kernelspec": {
   "display_name": "Python 3 (ipykernel)",
   "language": "python",
   "name": "python3"
  },
  "language_info": {
   "codemirror_mode": {
    "name": "ipython",
    "version": 3
   },
   "file_extension": ".py",
   "mimetype": "text/x-python",
   "name": "python",
   "nbconvert_exporter": "python",
   "pygments_lexer": "ipython3",
   "version": "3.9.12"
  }
 },
 "nbformat": 4,
 "nbformat_minor": 5
}
