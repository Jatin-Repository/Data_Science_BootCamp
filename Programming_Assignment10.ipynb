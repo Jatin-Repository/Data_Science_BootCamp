{
 "cells": [
  {
   "cell_type": "markdown",
   "id": "079c8e09",
   "metadata": {},
   "source": [
    "# Question: 1"
   ]
  },
  {
   "cell_type": "markdown",
   "id": "0220396a",
   "metadata": {},
   "source": [
    "## Write a Python program to find sum of elements in list?"
   ]
  },
  {
   "cell_type": "markdown",
   "id": "0796008d",
   "metadata": {},
   "source": [
    "# Answer: 1"
   ]
  },
  {
   "cell_type": "code",
   "execution_count": 1,
   "id": "72fecac0",
   "metadata": {},
   "outputs": [],
   "source": [
    "def sum_list(nums):\n",
    "    add = 0\n",
    "    for x in nums:\n",
    "        add += x\n",
    "    return add"
   ]
  },
  {
   "cell_type": "code",
   "execution_count": 2,
   "id": "d07ba05e",
   "metadata": {},
   "outputs": [
    {
     "data": {
      "text/plain": [
       "21"
      ]
     },
     "execution_count": 2,
     "metadata": {},
     "output_type": "execute_result"
    }
   ],
   "source": [
    "sum_list([1,2,3,4,5,6])"
   ]
  },
  {
   "cell_type": "code",
   "execution_count": null,
   "id": "f1870a39",
   "metadata": {},
   "outputs": [],
   "source": [
    "sum_list([1,])"
   ]
  },
  {
   "cell_type": "code",
   "execution_count": 4,
   "id": "94e0d1ce",
   "metadata": {},
   "outputs": [
    {
     "data": {
      "text/plain": [
       "712"
      ]
     },
     "execution_count": 4,
     "metadata": {},
     "output_type": "execute_result"
    }
   ],
   "source": [
    "sum_list([10,-100,11,12,800,-21])"
   ]
  },
  {
   "cell_type": "code",
   "execution_count": 5,
   "id": "cdb83f43",
   "metadata": {},
   "outputs": [
    {
     "data": {
      "text/plain": [
       "167"
      ]
     },
     "execution_count": 5,
     "metadata": {},
     "output_type": "execute_result"
    }
   ],
   "source": [
    "sum_list([13,15,18,21,100])"
   ]
  },
  {
   "cell_type": "markdown",
   "id": "3959d9db",
   "metadata": {},
   "source": [
    "# Question: 2"
   ]
  },
  {
   "cell_type": "markdown",
   "id": "42d21be0",
   "metadata": {},
   "source": [
    "# Write a Python program to Multiply all numbers in the list?"
   ]
  },
  {
   "cell_type": "markdown",
   "id": "6d2654aa",
   "metadata": {},
   "source": [
    "# Answer: 2"
   ]
  },
  {
   "cell_type": "code",
   "execution_count": 6,
   "id": "814677a2",
   "metadata": {},
   "outputs": [],
   "source": [
    "def multiply_list(nums):\n",
    "    pro = 1\n",
    "    for x in nums:\n",
    "        pro *= x\n",
    "    return pro"
   ]
  },
  {
   "cell_type": "code",
   "execution_count": 7,
   "id": "a0947aac",
   "metadata": {},
   "outputs": [
    {
     "data": {
      "text/plain": [
       "120"
      ]
     },
     "execution_count": 7,
     "metadata": {},
     "output_type": "execute_result"
    }
   ],
   "source": [
    "multiply_list([1,2,3,4,5])"
   ]
  },
  {
   "cell_type": "code",
   "execution_count": 9,
   "id": "f4cab548",
   "metadata": {},
   "outputs": [
    {
     "data": {
      "text/plain": [
       "-40764000"
      ]
     },
     "execution_count": 9,
     "metadata": {},
     "output_type": "execute_result"
    }
   ],
   "source": [
    "multiply_list([-10,12,100,-43,-79])"
   ]
  },
  {
   "cell_type": "code",
   "execution_count": 10,
   "id": "08858d4d",
   "metadata": {},
   "outputs": [
    {
     "data": {
      "text/plain": [
       "0"
      ]
     },
     "execution_count": 10,
     "metadata": {},
     "output_type": "execute_result"
    }
   ],
   "source": [
    "multiply_list([0,])"
   ]
  },
  {
   "cell_type": "code",
   "execution_count": 11,
   "id": "c9793e58",
   "metadata": {},
   "outputs": [
    {
     "data": {
      "text/plain": [
       "25553"
      ]
     },
     "execution_count": 11,
     "metadata": {},
     "output_type": "execute_result"
    }
   ],
   "source": [
    "multiply_list([1111,23])"
   ]
  },
  {
   "cell_type": "markdown",
   "id": "4c4d6f93",
   "metadata": {},
   "source": [
    "# Question : 3"
   ]
  },
  {
   "cell_type": "markdown",
   "id": "961d1ce4",
   "metadata": {},
   "source": [
    "# Write a Python program to find smallest number in a list?"
   ]
  },
  {
   "cell_type": "markdown",
   "id": "9bddddf3",
   "metadata": {},
   "source": [
    "# Answer: 3"
   ]
  },
  {
   "cell_type": "code",
   "execution_count": 14,
   "id": "04d179a5",
   "metadata": {},
   "outputs": [],
   "source": [
    "def min_list(nums):\n",
    "    # return min(nums)\n",
    "    minimum = nums[0]\n",
    "    for i in range(1,len(nums)):\n",
    "        if nums[i] < minimum:\n",
    "            minimum = nums[i]\n",
    "        else:\n",
    "            continue\n",
    "    return minimum"
   ]
  },
  {
   "cell_type": "code",
   "execution_count": 15,
   "id": "38b44892",
   "metadata": {},
   "outputs": [
    {
     "data": {
      "text/plain": [
       "-1"
      ]
     },
     "execution_count": 15,
     "metadata": {},
     "output_type": "execute_result"
    }
   ],
   "source": [
    "min_list([11,2,3,4,0,-1])"
   ]
  },
  {
   "cell_type": "code",
   "execution_count": 16,
   "id": "8f5a6a8f",
   "metadata": {},
   "outputs": [
    {
     "data": {
      "text/plain": [
       "-5"
      ]
     },
     "execution_count": 16,
     "metadata": {},
     "output_type": "execute_result"
    }
   ],
   "source": [
    "min_list([2,3,-5,7,6,9,0])"
   ]
  },
  {
   "cell_type": "code",
   "execution_count": 18,
   "id": "e1231193",
   "metadata": {},
   "outputs": [
    {
     "data": {
      "text/plain": [
       "0"
      ]
     },
     "execution_count": 18,
     "metadata": {},
     "output_type": "execute_result"
    }
   ],
   "source": [
    "min_list([11,2,3,0,1,5,6])"
   ]
  },
  {
   "cell_type": "code",
   "execution_count": 19,
   "id": "e45d8150",
   "metadata": {},
   "outputs": [
    {
     "data": {
      "text/plain": [
       "-3"
      ]
     },
     "execution_count": 19,
     "metadata": {},
     "output_type": "execute_result"
    }
   ],
   "source": [
    "min_list([0,1,2,-3,4,5,6])"
   ]
  },
  {
   "cell_type": "markdown",
   "id": "dfaa89f5",
   "metadata": {},
   "source": [
    "# Question : 5"
   ]
  },
  {
   "cell_type": "markdown",
   "id": "baeeeb49",
   "metadata": {},
   "source": [
    "# Write a Python program to find largest number in a list?"
   ]
  },
  {
   "cell_type": "markdown",
   "id": "490a9df7",
   "metadata": {},
   "source": [
    "# Answer: 5"
   ]
  },
  {
   "cell_type": "code",
   "execution_count": 20,
   "id": "c0c4854c",
   "metadata": {},
   "outputs": [],
   "source": [
    "def max_list(nums):\n",
    "    # return max(nums)\n",
    "    maximum = nums[0]\n",
    "    for i in range(1,len(nums)):\n",
    "        if nums[i] > maximum:\n",
    "            maximum = nums[i]\n",
    "        else:\n",
    "            continue\n",
    "    return maximum"
   ]
  },
  {
   "cell_type": "code",
   "execution_count": 21,
   "id": "7ee2b4d9",
   "metadata": {},
   "outputs": [
    {
     "data": {
      "text/plain": [
       "11"
      ]
     },
     "execution_count": 21,
     "metadata": {},
     "output_type": "execute_result"
    }
   ],
   "source": [
    "max_list([11,2,3,4,0,-1])"
   ]
  },
  {
   "cell_type": "code",
   "execution_count": 22,
   "id": "05662a96",
   "metadata": {},
   "outputs": [
    {
     "data": {
      "text/plain": [
       "901"
      ]
     },
     "execution_count": 22,
     "metadata": {},
     "output_type": "execute_result"
    }
   ],
   "source": [
    "max_list([11,2,3,0,901,5,6])"
   ]
  },
  {
   "cell_type": "code",
   "execution_count": 24,
   "id": "93911c50",
   "metadata": {},
   "outputs": [
    {
     "data": {
      "text/plain": [
       "64"
      ]
     },
     "execution_count": 24,
     "metadata": {},
     "output_type": "execute_result"
    }
   ],
   "source": [
    "max_list([0,1,2,-3,4,5,64])"
   ]
  },
  {
   "cell_type": "code",
   "execution_count": 26,
   "id": "67157ed1",
   "metadata": {},
   "outputs": [
    {
     "data": {
      "text/plain": [
       "2000"
      ]
     },
     "execution_count": 26,
     "metadata": {},
     "output_type": "execute_result"
    }
   ],
   "source": [
    "max_list([11,2000,3,0,1,5,690])"
   ]
  },
  {
   "cell_type": "markdown",
   "id": "3e57efa1",
   "metadata": {},
   "source": [
    "# Question: 6"
   ]
  },
  {
   "cell_type": "markdown",
   "id": "74ae63ae",
   "metadata": {},
   "source": [
    "# Write a Python program to find second largest number in a list?"
   ]
  },
  {
   "cell_type": "markdown",
   "id": "dec94d4a",
   "metadata": {},
   "source": [
    "# Answer: 6"
   ]
  },
  {
   "cell_type": "code",
   "execution_count": 34,
   "id": "9e48546d",
   "metadata": {},
   "outputs": [],
   "source": [
    "def second_max(nums):\n",
    "    maximum1 = max(nums)\n",
    "    maximum2 = nums[0]\n",
    "    for z in nums:\n",
    "        if z < maximum1 and z > maximum2:\n",
    "            maximum2 = z\n",
    "        else:\n",
    "            continue\n",
    "    return maximum2"
   ]
  },
  {
   "cell_type": "code",
   "execution_count": 35,
   "id": "f561674b",
   "metadata": {},
   "outputs": [
    {
     "data": {
      "text/plain": [
       "5"
      ]
     },
     "execution_count": 35,
     "metadata": {},
     "output_type": "execute_result"
    }
   ],
   "source": [
    "second_max([1,2,3,5,4,6])"
   ]
  },
  {
   "cell_type": "code",
   "execution_count": 36,
   "id": "26f389c4",
   "metadata": {},
   "outputs": [
    {
     "data": {
      "text/plain": [
       "11"
      ]
     },
     "execution_count": 36,
     "metadata": {},
     "output_type": "execute_result"
    }
   ],
   "source": [
    "second_max([11,2,3,0,901,5,6])"
   ]
  },
  {
   "cell_type": "code",
   "execution_count": 37,
   "id": "31009d2e",
   "metadata": {},
   "outputs": [
    {
     "data": {
      "text/plain": [
       "7"
      ]
     },
     "execution_count": 37,
     "metadata": {},
     "output_type": "execute_result"
    }
   ],
   "source": [
    "second_max([2,3,-5,7,6,9,0])"
   ]
  },
  {
   "cell_type": "code",
   "execution_count": 38,
   "id": "02f42b0b",
   "metadata": {},
   "outputs": [
    {
     "data": {
      "text/plain": [
       "690"
      ]
     },
     "execution_count": 38,
     "metadata": {},
     "output_type": "execute_result"
    }
   ],
   "source": [
    "second_max([11,2000,3,0,1,5,690])"
   ]
  },
  {
   "cell_type": "markdown",
   "id": "045c7b91",
   "metadata": {},
   "source": [
    "# Question: 7"
   ]
  },
  {
   "cell_type": "markdown",
   "id": "a1adcb20",
   "metadata": {},
   "source": [
    "## Write a Python program to find N largest elements from a list?\n",
    "\n",
    "# Answer: 7"
   ]
  },
  {
   "cell_type": "code",
   "execution_count": 45,
   "id": "1ef7ce09",
   "metadata": {},
   "outputs": [],
   "source": [
    "def nth_max(nums,n):\n",
    "    nums.sort()\n",
    "    fre = dict()\n",
    "    if n > len(nums):\n",
    "        return \"Not Exist\"\n",
    "    else:\n",
    "        for x in nums:\n",
    "            if fre.get(x):\n",
    "                fre[x] += 1\n",
    "            else:\n",
    "                fre[x] = 1\n",
    "        t = list(fre.keys())\n",
    "        return t[-n]"
   ]
  },
  {
   "cell_type": "code",
   "execution_count": 47,
   "id": "d80df18b",
   "metadata": {},
   "outputs": [
    {
     "data": {
      "text/plain": [
       "6"
      ]
     },
     "execution_count": 47,
     "metadata": {},
     "output_type": "execute_result"
    }
   ],
   "source": [
    "nth_max([10,6,-7,1,2,3,4,5,5,5,6,6,7],3)"
   ]
  },
  {
   "cell_type": "code",
   "execution_count": 48,
   "id": "141faf2b",
   "metadata": {},
   "outputs": [
    {
     "data": {
      "text/plain": [
       "2"
      ]
     },
     "execution_count": 48,
     "metadata": {},
     "output_type": "execute_result"
    }
   ],
   "source": [
    "nth_max([10,6,-7,1,2,3,4,5,5,5,6,6,7],7)"
   ]
  },
  {
   "cell_type": "code",
   "execution_count": 49,
   "id": "249a0a9c",
   "metadata": {},
   "outputs": [
    {
     "data": {
      "text/plain": [
       "'Not Exist'"
      ]
     },
     "execution_count": 49,
     "metadata": {},
     "output_type": "execute_result"
    }
   ],
   "source": [
    "nth_max([10,6,-7,1,2,3,4,5,5,5,6,6,7],15)"
   ]
  },
  {
   "cell_type": "code",
   "execution_count": 50,
   "id": "105cd804",
   "metadata": {},
   "outputs": [
    {
     "data": {
      "text/plain": [
       "5"
      ]
     },
     "execution_count": 50,
     "metadata": {},
     "output_type": "execute_result"
    }
   ],
   "source": [
    "nth_max([10,6,-7,1,2,3,4,5,5,5,6,6,7],4)"
   ]
  },
  {
   "cell_type": "markdown",
   "id": "c74257df",
   "metadata": {},
   "source": [
    "# Question: 8"
   ]
  },
  {
   "cell_type": "markdown",
   "id": "1a769b5a",
   "metadata": {},
   "source": [
    "# Write a Python program to print even numbers in a list?"
   ]
  },
  {
   "cell_type": "markdown",
   "id": "1ab26273",
   "metadata": {},
   "source": [
    "# Answer: 8"
   ]
  },
  {
   "cell_type": "code",
   "execution_count": null,
   "id": "d9dfcb4d",
   "metadata": {},
   "outputs": [],
   "source": [
    "def display_even(nums):\n",
    "    count = 0\n",
    "    for x in nums:\n",
    "        if x % 2 == 0:\n",
    "            count += 1\n",
    "            print(x,end= \" \")\n",
    "        else:\n",
    "            continue\n",
    "    if count == 0:\n",
    "        print(\"No even number exist\")"
   ]
  },
  {
   "cell_type": "code",
   "execution_count": 59,
   "id": "98d7b252",
   "metadata": {},
   "outputs": [
    {
     "name": "stdout",
     "output_type": "stream",
     "text": [
      "2 4 6 8 "
     ]
    }
   ],
   "source": [
    "display_even([1,2,3,4,5,6,7,8])"
   ]
  },
  {
   "cell_type": "code",
   "execution_count": 60,
   "id": "0b36a904",
   "metadata": {},
   "outputs": [
    {
     "name": "stdout",
     "output_type": "stream",
     "text": [
      "4 6 -8 "
     ]
    }
   ],
   "source": [
    "display_even([-3,4,5,6,-9,-8])"
   ]
  },
  {
   "cell_type": "code",
   "execution_count": 61,
   "id": "cfa0a5e2",
   "metadata": {},
   "outputs": [
    {
     "name": "stdout",
     "output_type": "stream",
     "text": [
      "No even number exist\n"
     ]
    }
   ],
   "source": [
    "display_even([-3,5])"
   ]
  },
  {
   "cell_type": "code",
   "execution_count": 62,
   "id": "57882946",
   "metadata": {},
   "outputs": [
    {
     "name": "stdout",
     "output_type": "stream",
     "text": [
      "-4 "
     ]
    }
   ],
   "source": [
    "display_even([-4])"
   ]
  },
  {
   "cell_type": "markdown",
   "id": "fbab1a06",
   "metadata": {},
   "source": [
    "# Question: 9 "
   ]
  },
  {
   "cell_type": "markdown",
   "id": "30259e89",
   "metadata": {},
   "source": [
    "# Write a Python program to print odd numbers in a List?"
   ]
  },
  {
   "cell_type": "markdown",
   "id": "94fb16c4",
   "metadata": {},
   "source": [
    "# Answer: 9"
   ]
  },
  {
   "cell_type": "code",
   "execution_count": 63,
   "id": "5986392b",
   "metadata": {},
   "outputs": [],
   "source": [
    "def display_odd(nums):\n",
    "    count = 0\n",
    "    for x in nums:\n",
    "        if x % 2 != 0:\n",
    "            count += 1\n",
    "            print(x,end= \" \")\n",
    "        else:\n",
    "            continue\n",
    "    if count == 0:\n",
    "        print(\"No odd number exist\")"
   ]
  },
  {
   "cell_type": "code",
   "execution_count": 65,
   "id": "f8acd346",
   "metadata": {},
   "outputs": [
    {
     "name": "stdout",
     "output_type": "stream",
     "text": [
      "1 3 5 7 "
     ]
    }
   ],
   "source": [
    "display_odd([1,2,3,4,5,6,7,8])"
   ]
  },
  {
   "cell_type": "code",
   "execution_count": 66,
   "id": "c756d102",
   "metadata": {},
   "outputs": [
    {
     "name": "stdout",
     "output_type": "stream",
     "text": [
      "-3 5 -9 "
     ]
    }
   ],
   "source": [
    "display_odd([-3,4,5,6,-9,-8])"
   ]
  },
  {
   "cell_type": "code",
   "execution_count": 68,
   "id": "9e6922e4",
   "metadata": {},
   "outputs": [
    {
     "name": "stdout",
     "output_type": "stream",
     "text": [
      "-3 5 13 "
     ]
    }
   ],
   "source": [
    "display_odd([-3,5,10,13])"
   ]
  },
  {
   "cell_type": "code",
   "execution_count": 71,
   "id": "9e59f6eb",
   "metadata": {},
   "outputs": [
    {
     "name": "stdout",
     "output_type": "stream",
     "text": [
      "No odd number exist\n"
     ]
    }
   ],
   "source": [
    "display_odd([-366])"
   ]
  },
  {
   "cell_type": "markdown",
   "id": "e9fcd92c",
   "metadata": {},
   "source": [
    "# Question: 9"
   ]
  },
  {
   "cell_type": "markdown",
   "id": "d87946c5",
   "metadata": {},
   "source": [
    "# Write a Python program to Remove empty List from List?"
   ]
  },
  {
   "cell_type": "markdown",
   "id": "6c681f06",
   "metadata": {},
   "source": [
    "# Answer: 9"
   ]
  },
  {
   "cell_type": "code",
   "execution_count": 138,
   "id": "8c4db964",
   "metadata": {},
   "outputs": [],
   "source": [
    "def remove_empty_list_fromList(nums):             # isinstance() {Imprtant}\n",
    "    pos = list()\n",
    "    list1 = list()\n",
    "    for i in range(0,len(nums)):\n",
    "        t = nums[i]\n",
    "        z = isinstance(t,list)\n",
    "        if z and len(t) == 0:\n",
    "            pos.append(i)\n",
    "    for j in range(0,len(nums)):\n",
    "        if j in pos:\n",
    "            continue\n",
    "        else:\n",
    "            list1.append(nums[j])\n",
    "    if len(list1) == 0:\n",
    "        return \"Blank\" # when list contain all empty list inside it\n",
    "    return list1\n",
    "            "
   ]
  },
  {
   "cell_type": "code",
   "execution_count": 139,
   "id": "9c92e0c8",
   "metadata": {},
   "outputs": [
    {
     "data": {
      "text/plain": [
       "[1, 2, 3, 4, [1], [23, 10, -3]]"
      ]
     },
     "execution_count": 139,
     "metadata": {},
     "output_type": "execute_result"
    }
   ],
   "source": [
    "remove_empty_list_fromList([1,2,3,4,[],[1,],[23,10,-3],[]])"
   ]
  },
  {
   "cell_type": "code",
   "execution_count": 140,
   "id": "60015bb1",
   "metadata": {},
   "outputs": [
    {
     "data": {
      "text/plain": [
       "[1, 2, [1], [23, 10, -3], 7, [9, 0, 8]]"
      ]
     },
     "execution_count": 140,
     "metadata": {},
     "output_type": "execute_result"
    }
   ],
   "source": [
    "remove_empty_list_fromList([1,2,[],[],[1,],[23,10,-3],[],[],[],7,[9,0,8]])"
   ]
  },
  {
   "cell_type": "code",
   "execution_count": 141,
   "id": "db27d4bb",
   "metadata": {},
   "outputs": [
    {
     "data": {
      "text/plain": [
       "'Blank'"
      ]
     },
     "execution_count": 141,
     "metadata": {},
     "output_type": "execute_result"
    }
   ],
   "source": [
    "remove_empty_list_fromList([[],[],[],[],[]])"
   ]
  },
  {
   "cell_type": "code",
   "execution_count": 142,
   "id": "af43d441",
   "metadata": {},
   "outputs": [
    {
     "data": {
      "text/plain": [
       "[[1], [23, 10, -3], [9, 0, 8]]"
      ]
     },
     "execution_count": 142,
     "metadata": {},
     "output_type": "execute_result"
    }
   ],
   "source": [
    "remove_empty_list_fromList([[],[],[1,],[23,10,-3],[],[],[],[9,0,8]])"
   ]
  },
  {
   "cell_type": "markdown",
   "id": "0254f95a",
   "metadata": {},
   "source": [
    "# Question: 10"
   ]
  },
  {
   "cell_type": "markdown",
   "id": "9df2b4b4",
   "metadata": {},
   "source": [
    "## Write a Python program to Cloning or Copying a list?"
   ]
  },
  {
   "cell_type": "markdown",
   "id": "a7117327",
   "metadata": {},
   "source": [
    "# Answer: 10"
   ]
  },
  {
   "cell_type": "code",
   "execution_count": 148,
   "id": "8c9918e9",
   "metadata": {},
   "outputs": [],
   "source": [
    "def copy_list(nums):\n",
    "    list1 = list(nums)\n",
    "    return \"Copying nums to list1 we have:\",list1"
   ]
  },
  {
   "cell_type": "code",
   "execution_count": 146,
   "id": "66f31455",
   "metadata": {},
   "outputs": [
    {
     "data": {
      "text/plain": [
       "('Copying nums to list1 we have:', [1, 2, 3, 4, 5, 6])"
      ]
     },
     "execution_count": 146,
     "metadata": {},
     "output_type": "execute_result"
    }
   ],
   "source": [
    "copy_list([1,2,3,4,5,6])"
   ]
  },
  {
   "cell_type": "code",
   "execution_count": 149,
   "id": "9bd95cca",
   "metadata": {},
   "outputs": [
    {
     "data": {
      "text/plain": [
       "('Copying nums to list1 we have:', [-1, 2, 3, 0, 5, -6])"
      ]
     },
     "execution_count": 149,
     "metadata": {},
     "output_type": "execute_result"
    }
   ],
   "source": [
    "copy_list([-1,2,3,0,5,-6])"
   ]
  },
  {
   "cell_type": "code",
   "execution_count": 150,
   "id": "54f20484",
   "metadata": {},
   "outputs": [
    {
     "data": {
      "text/plain": [
       "('Copying nums to list1 we have:', [-1])"
      ]
     },
     "execution_count": 150,
     "metadata": {},
     "output_type": "execute_result"
    }
   ],
   "source": [
    "copy_list([-1,])"
   ]
  },
  {
   "cell_type": "code",
   "execution_count": 151,
   "id": "81ebb9e7",
   "metadata": {},
   "outputs": [
    {
     "data": {
      "text/plain": [
       "('Copying nums to list1 we have:', [-1, 2, [], -6])"
      ]
     },
     "execution_count": 151,
     "metadata": {},
     "output_type": "execute_result"
    }
   ],
   "source": [
    "copy_list([-1,2,[],-6])"
   ]
  },
  {
   "cell_type": "markdown",
   "id": "289ca69a",
   "metadata": {},
   "source": [
    "# Question: 11"
   ]
  },
  {
   "cell_type": "markdown",
   "id": "9d8511c6",
   "metadata": {},
   "source": [
    "# Write a Python program to Count occurrences of an element in a list?"
   ]
  },
  {
   "cell_type": "markdown",
   "id": "833b910b",
   "metadata": {},
   "source": [
    "# Answer: 11"
   ]
  },
  {
   "cell_type": "code",
   "execution_count": 157,
   "id": "e98cd1b7",
   "metadata": {},
   "outputs": [],
   "source": [
    "def count_occurence(nums): \n",
    "    # directly by using count() function, but issue with duplicate occurence of number, hence using dictionary\n",
    "    fre = dict()\n",
    "    for x in nums:\n",
    "        if fre.get(x):\n",
    "            fre[x] += 1\n",
    "        else:\n",
    "            fre[x] = 1\n",
    "    for x,y in fre.items():\n",
    "        s=\"Element:{} Count:{}\".format(x,y)\n",
    "        print(s)"
   ]
  },
  {
   "cell_type": "code",
   "execution_count": 158,
   "id": "01a86b56",
   "metadata": {},
   "outputs": [
    {
     "name": "stdout",
     "output_type": "stream",
     "text": [
      "Element:-1 Count:3\n",
      "Element:3 Count:2\n",
      "Element:4 Count:3\n",
      "Element:8 Count:3\n",
      "Element:6 Count:1\n",
      "Element:7 Count:1\n",
      "Element:0 Count:1\n"
     ]
    }
   ],
   "source": [
    "count_occurence([-1,3,4,4,4,3,-1,-1,8,8,6,7,0,8])"
   ]
  },
  {
   "cell_type": "code",
   "execution_count": 159,
   "id": "794ba06c",
   "metadata": {},
   "outputs": [
    {
     "name": "stdout",
     "output_type": "stream",
     "text": [
      "Element:8 Count:3\n",
      "Element:6 Count:1\n",
      "Element:7 Count:1\n",
      "Element:0 Count:1\n"
     ]
    }
   ],
   "source": [
    "count_occurence([8,8,6,7,0,8])"
   ]
  },
  {
   "cell_type": "code",
   "execution_count": 160,
   "id": "cc1e2bbe",
   "metadata": {},
   "outputs": [
    {
     "name": "stdout",
     "output_type": "stream",
     "text": [
      "Element:8 Count:1\n",
      "Element:18 Count:2\n",
      "Element:6 Count:2\n",
      "Element:7 Count:1\n",
      "Element:0 Count:1\n",
      "Element:90 Count:1\n"
     ]
    }
   ],
   "source": [
    "count_occurence([8,18,6,7,0,18,90,6])"
   ]
  },
  {
   "cell_type": "code",
   "execution_count": 161,
   "id": "e5ed205d",
   "metadata": {},
   "outputs": [
    {
     "name": "stdout",
     "output_type": "stream",
     "text": [
      "Element:8 Count:1\n",
      "Element:18 Count:1\n",
      "Element:6 Count:1\n",
      "Element:7 Count:1\n",
      "Element:0 Count:1\n",
      "Element:88 Count:1\n"
     ]
    }
   ],
   "source": [
    "count_occurence([8,18,6,7,0,88])"
   ]
  },
  {
   "cell_type": "code",
   "execution_count": null,
   "id": "039bd9b2",
   "metadata": {},
   "outputs": [],
   "source": []
  }
 ],
 "metadata": {
  "kernelspec": {
   "display_name": "Python 3 (ipykernel)",
   "language": "python",
   "name": "python3"
  },
  "language_info": {
   "codemirror_mode": {
    "name": "ipython",
    "version": 3
   },
   "file_extension": ".py",
   "mimetype": "text/x-python",
   "name": "python",
   "nbconvert_exporter": "python",
   "pygments_lexer": "ipython3",
   "version": "3.9.12"
  }
 },
 "nbformat": 4,
 "nbformat_minor": 5
}
