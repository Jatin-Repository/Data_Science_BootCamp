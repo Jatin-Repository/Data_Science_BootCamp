{
 "cells": [
  {
   "cell_type": "markdown",
   "id": "14215b69",
   "metadata": {},
   "source": [
    "# Question: 1"
   ]
  },
  {
   "cell_type": "markdown",
   "id": "315903c6",
   "metadata": {},
   "source": [
    "## Write a Python program to check if the given number is a Disarium Number?"
   ]
  },
  {
   "cell_type": "markdown",
   "id": "957fea4c",
   "metadata": {},
   "source": [
    "# Answer: 1"
   ]
  },
  {
   "cell_type": "markdown",
   "id": "2d2149c6",
   "metadata": {},
   "source": [
    "## Notes: \n",
    "A **disarium number** is a number in which the **sum of the digits to the power of their respective position** is equal to the number itself **(position is counted from left to right starting from 1)**\n",
    "\n",
    "Eg : 175, 1¹ + 7² + 5³ = 1 + 49 + 125= 175."
   ]
  },
  {
   "cell_type": "code",
   "execution_count": 1,
   "id": "73c1ddd6",
   "metadata": {},
   "outputs": [],
   "source": [
    "def disarium_number(num):\n",
    "    length = len(str(num))\n",
    "    temp = num\n",
    "    add = 0\n",
    "    for i in range(length,0,-1):\n",
    "        x = num % 10\n",
    "        num = num // 10\n",
    "        add += x**i\n",
    "    if add == temp:\n",
    "        return True\n",
    "    else:\n",
    "        return False"
   ]
  },
  {
   "cell_type": "code",
   "execution_count": 2,
   "id": "aeddafc3",
   "metadata": {},
   "outputs": [
    {
     "data": {
      "text/plain": [
       "True"
      ]
     },
     "execution_count": 2,
     "metadata": {},
     "output_type": "execute_result"
    }
   ],
   "source": [
    "disarium_number(175)"
   ]
  },
  {
   "cell_type": "code",
   "execution_count": 3,
   "id": "2c1ac233",
   "metadata": {},
   "outputs": [
    {
     "data": {
      "text/plain": [
       "False"
      ]
     },
     "execution_count": 3,
     "metadata": {},
     "output_type": "execute_result"
    }
   ],
   "source": [
    "disarium_number(145)"
   ]
  },
  {
   "cell_type": "code",
   "execution_count": 4,
   "id": "1bc19dd7",
   "metadata": {},
   "outputs": [
    {
     "data": {
      "text/plain": [
       "False"
      ]
     },
     "execution_count": 4,
     "metadata": {},
     "output_type": "execute_result"
    }
   ],
   "source": [
    "disarium_number(153458)"
   ]
  },
  {
   "cell_type": "code",
   "execution_count": 5,
   "id": "92cefdd5",
   "metadata": {},
   "outputs": [
    {
     "data": {
      "text/plain": [
       "True"
      ]
     },
     "execution_count": 5,
     "metadata": {},
     "output_type": "execute_result"
    }
   ],
   "source": [
    "disarium_number(135)"
   ]
  },
  {
   "cell_type": "markdown",
   "id": "5974fd78",
   "metadata": {},
   "source": [
    "# Question: 2"
   ]
  },
  {
   "cell_type": "markdown",
   "id": "fb77c392",
   "metadata": {},
   "source": [
    "# Write a Python program to print all disarium numbers between 1 to 100?"
   ]
  },
  {
   "cell_type": "markdown",
   "id": "cd0358b9",
   "metadata": {},
   "source": [
    "# Answer: 2"
   ]
  },
  {
   "cell_type": "code",
   "execution_count": 6,
   "id": "69b82a3a",
   "metadata": {},
   "outputs": [
    {
     "name": "stdout",
     "output_type": "stream",
     "text": [
      "1 2 3 4 5 6 7 8 9 89 "
     ]
    }
   ],
   "source": [
    "for i in range (1,101):\n",
    "    if disarium_number(i):\n",
    "        print(i, end = \" \")\n",
    "    else:\n",
    "        continue"
   ]
  },
  {
   "cell_type": "markdown",
   "id": "414ecc5e",
   "metadata": {},
   "source": [
    "# Question : 3"
   ]
  },
  {
   "cell_type": "markdown",
   "id": "9b2d968a",
   "metadata": {},
   "source": [
    "# Write a Python program to check if the given number is Happy Number?"
   ]
  },
  {
   "cell_type": "markdown",
   "id": "7fb3faac",
   "metadata": {},
   "source": [
    "# Answer: 3"
   ]
  },
  {
   "cell_type": "markdown",
   "id": "19dc7743",
   "metadata": {},
   "source": [
    "In number theory, a happy number is a **number which eventually reaches 1 when replaced by the sum of the square of each digit**. \n",
    "Example : 13 = 1^2 + 3^2 = 10 = 1^2 + 0^2 = 1."
   ]
  },
  {
   "cell_type": "code",
   "execution_count": 7,
   "id": "fe5833ca",
   "metadata": {},
   "outputs": [],
   "source": [
    "def digit_addition(num):\n",
    "    add = 0\n",
    "    while num:\n",
    "        rem = num % 10\n",
    "        add += rem**2\n",
    "        num //= 10 \n",
    "    return add\n",
    "    \n",
    "def happy_number(num):\n",
    "    fre = list()\n",
    "    x = digit_addition(num)\n",
    "    while x not in fre and x != 1:\n",
    "        fre.append(x)\n",
    "        x = digit_addition(x)\n",
    "    if x == 1:\n",
    "        return \"Happy Number\"\n",
    "    else:\n",
    "        return \"Not Happy Number\"\n",
    "    "
   ]
  },
  {
   "cell_type": "code",
   "execution_count": 8,
   "id": "a7a166af",
   "metadata": {},
   "outputs": [
    {
     "data": {
      "text/plain": [
       "'Happy Number'"
      ]
     },
     "execution_count": 8,
     "metadata": {},
     "output_type": "execute_result"
    }
   ],
   "source": [
    "happy_number(13)"
   ]
  },
  {
   "cell_type": "code",
   "execution_count": 9,
   "id": "5b87f57c",
   "metadata": {},
   "outputs": [
    {
     "data": {
      "text/plain": [
       "'Not Happy Number'"
      ]
     },
     "execution_count": 9,
     "metadata": {},
     "output_type": "execute_result"
    }
   ],
   "source": [
    "happy_number(3113)"
   ]
  },
  {
   "cell_type": "code",
   "execution_count": 10,
   "id": "7c321874",
   "metadata": {},
   "outputs": [
    {
     "data": {
      "text/plain": [
       "'Not Happy Number'"
      ]
     },
     "execution_count": 10,
     "metadata": {},
     "output_type": "execute_result"
    }
   ],
   "source": [
    "happy_number(145)"
   ]
  },
  {
   "cell_type": "code",
   "execution_count": 11,
   "id": "b7cb0bf0",
   "metadata": {},
   "outputs": [
    {
     "data": {
      "text/plain": [
       "'Happy Number'"
      ]
     },
     "execution_count": 11,
     "metadata": {},
     "output_type": "execute_result"
    }
   ],
   "source": [
    "happy_number(556)"
   ]
  },
  {
   "cell_type": "markdown",
   "id": "5e1d4d92",
   "metadata": {},
   "source": [
    "# Question: 4"
   ]
  },
  {
   "cell_type": "markdown",
   "id": "c30ffda7",
   "metadata": {},
   "source": [
    "# Write a Python program to print all happy numbers between 1 and 100?"
   ]
  },
  {
   "cell_type": "markdown",
   "id": "5d459c04",
   "metadata": {},
   "source": [
    "# Answer: 4"
   ]
  },
  {
   "cell_type": "code",
   "execution_count": 12,
   "id": "c634b6c5",
   "metadata": {},
   "outputs": [
    {
     "name": "stdout",
     "output_type": "stream",
     "text": [
      "1 7 10 13 19 23 28 31 32 44 49 68 70 79 82 86 91 94 97 100 "
     ]
    }
   ],
   "source": [
    "for i in range(1,101):\n",
    "    if happy_number(i) == \"Happy Number\":\n",
    "        print(i, end= \" \")\n",
    "    else:\n",
    "        continue"
   ]
  },
  {
   "cell_type": "markdown",
   "id": "6fc3b3f7",
   "metadata": {},
   "source": [
    "# Question: 5"
   ]
  },
  {
   "cell_type": "markdown",
   "id": "e9a8d556",
   "metadata": {},
   "source": [
    "# Write a Python program to determine whether the given number is a Harshad Number?"
   ]
  },
  {
   "cell_type": "markdown",
   "id": "63a81d87",
   "metadata": {},
   "source": [
    "# Answer: 5"
   ]
  },
  {
   "cell_type": "markdown",
   "id": "68d9a64d",
   "metadata": {},
   "source": [
    "## Notes: \n",
    "In mathematics, a harshad number (or Niven number) in a given number base is an integer that is divisible by the sum of its digits when written in that base. Harshad numbers in base n are also known as n-harshad (or n-Niven) numbers."
   ]
  },
  {
   "cell_type": "code",
   "execution_count": 13,
   "id": "31a77af9",
   "metadata": {},
   "outputs": [],
   "source": [
    "def Harshad_Number(num):\n",
    "    # considering base of number is 10\n",
    "    temp = num\n",
    "    add = 0\n",
    "    while num:\n",
    "        rem = num % 10\n",
    "        add += rem\n",
    "        num //= 10\n",
    "    if temp % add == 0:\n",
    "        return True\n",
    "    else:\n",
    "        return False"
   ]
  },
  {
   "cell_type": "code",
   "execution_count": 14,
   "id": "b5abaa31",
   "metadata": {},
   "outputs": [
    {
     "data": {
      "text/plain": [
       "True"
      ]
     },
     "execution_count": 14,
     "metadata": {},
     "output_type": "execute_result"
    }
   ],
   "source": [
    "Harshad_Number(153)"
   ]
  },
  {
   "cell_type": "code",
   "execution_count": 15,
   "id": "1d256891",
   "metadata": {},
   "outputs": [
    {
     "data": {
      "text/plain": [
       "True"
      ]
     },
     "execution_count": 15,
     "metadata": {},
     "output_type": "execute_result"
    }
   ],
   "source": [
    "Harshad_Number(100)"
   ]
  },
  {
   "cell_type": "code",
   "execution_count": 16,
   "id": "1c411888",
   "metadata": {},
   "outputs": [
    {
     "data": {
      "text/plain": [
       "False"
      ]
     },
     "execution_count": 16,
     "metadata": {},
     "output_type": "execute_result"
    }
   ],
   "source": [
    "Harshad_Number(106)"
   ]
  },
  {
   "cell_type": "code",
   "execution_count": 17,
   "id": "004f56e3",
   "metadata": {},
   "outputs": [
    {
     "data": {
      "text/plain": [
       "False"
      ]
     },
     "execution_count": 17,
     "metadata": {},
     "output_type": "execute_result"
    }
   ],
   "source": [
    "Harshad_Number(83)"
   ]
  },
  {
   "cell_type": "markdown",
   "id": "873eb6d3",
   "metadata": {},
   "source": [
    "# Question: 6"
   ]
  },
  {
   "cell_type": "markdown",
   "id": "11cd208b",
   "metadata": {},
   "source": [
    "## Write a Python program to print all pronic numbers between 1 and 100?"
   ]
  },
  {
   "cell_type": "markdown",
   "id": "dd3ba6d0",
   "metadata": {},
   "source": [
    "# Answer: 6"
   ]
  },
  {
   "cell_type": "markdown",
   "id": "5369bfdf",
   "metadata": {},
   "source": [
    "# Notes:\n"
   ]
  },
  {
   "cell_type": "markdown",
   "id": "25a150d7",
   "metadata": {},
   "source": [
    "A pronic number is a number that is the product of two consecutive integers, that is, a number of the form. The study of these numbers dates back to Aristotle.\n",
    "Example : 12 = 3 x 4  , 30 = 5 x 6 \n",
    "**N = (n) x (n+1)**"
   ]
  },
  {
   "cell_type": "code",
   "execution_count": 25,
   "id": "e145aaf4",
   "metadata": {},
   "outputs": [],
   "source": [
    "def is_pronic(num):\n",
    "    i = 0\n",
    "    list1 = []\n",
    "    while i != num:\n",
    "        i += 1\n",
    "        if num % i == 0:\n",
    "            list1.append(i)\n",
    "        else:\n",
    "            continue\n",
    "    i = 0\n",
    "    j = len(list1)-1\n",
    "    temp = False\n",
    "    while i < j:\n",
    "        if (list1[i] * list1[j]) == num and abs(list1[i] - list1[j]) == 1:\n",
    "            temp = True\n",
    "            break\n",
    "        else:\n",
    "            i += 1\n",
    "            j -= 1\n",
    "    return temp"
   ]
  },
  {
   "cell_type": "code",
   "execution_count": 26,
   "id": "72a7ce75",
   "metadata": {},
   "outputs": [
    {
     "name": "stdout",
     "output_type": "stream",
     "text": [
      "2 6 12 20 30 42 56 72 90 "
     ]
    }
   ],
   "source": [
    "for x in range (1,101):\n",
    "    if is_pronic(x) == True:\n",
    "        print(x,end=\" \")\n",
    "    else:\n",
    "        continue"
   ]
  },
  {
   "cell_type": "code",
   "execution_count": null,
   "id": "c020e473",
   "metadata": {},
   "outputs": [],
   "source": []
  },
  {
   "cell_type": "code",
   "execution_count": null,
   "id": "a833fc11",
   "metadata": {},
   "outputs": [],
   "source": []
  }
 ],
 "metadata": {
  "kernelspec": {
   "display_name": "Python 3 (ipykernel)",
   "language": "python",
   "name": "python3"
  },
  "language_info": {
   "codemirror_mode": {
    "name": "ipython",
    "version": 3
   },
   "file_extension": ".py",
   "mimetype": "text/x-python",
   "name": "python",
   "nbconvert_exporter": "python",
   "pygments_lexer": "ipython3",
   "version": "3.9.12"
  }
 },
 "nbformat": 4,
 "nbformat_minor": 5
}
