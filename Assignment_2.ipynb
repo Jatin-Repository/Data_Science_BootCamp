{
 "cells": [
  {
   "cell_type": "markdown",
   "id": "e9bf5939",
   "metadata": {},
   "source": [
    "# Question: 1"
   ]
  },
  {
   "cell_type": "markdown",
   "id": "86468811",
   "metadata": {},
   "source": [
    "What are the two values of the Boolean data type? How do you write them?"
   ]
  },
  {
   "cell_type": "markdown",
   "id": "f8bdfc03",
   "metadata": {},
   "source": [
    "# Answer: 1\n",
    "The two boolean data type are \n",
    "1) True\n",
    "2) False\n",
    "Internally True = 1 and False = 0."
   ]
  },
  {
   "cell_type": "markdown",
   "id": "968517ee",
   "metadata": {},
   "source": [
    "# Quesion: 2"
   ]
  },
  {
   "cell_type": "markdown",
   "id": "1a7ebc43",
   "metadata": {},
   "source": [
    "What are the three different types of Boolean operators?"
   ]
  },
  {
   "cell_type": "markdown",
   "id": "82aac47e",
   "metadata": {},
   "source": [
    "# Answer: 2\n",
    "The three boolean operator are :\n",
    "1) not\n",
    "2) or\n",
    "3) and"
   ]
  },
  {
   "cell_type": "markdown",
   "id": "5fb32b77",
   "metadata": {},
   "source": [
    "# Question: 3"
   ]
  },
  {
   "cell_type": "markdown",
   "id": "a8820e5d",
   "metadata": {},
   "source": [
    "Make a list of each Boolean operator&#39;s truth tables (i.e. every possible combination of Boolean\n",
    "values for the operator and what it evaluate )."
   ]
  },
  {
   "cell_type": "markdown",
   "id": "7edf93a2",
   "metadata": {},
   "source": [
    "# Answer: 3"
   ]
  },
  {
   "cell_type": "markdown",
   "id": "5f23d785",
   "metadata": {},
   "source": [
    "## 1) or"
   ]
  },
  {
   "cell_type": "markdown",
   "id": "6f2828d7",
   "metadata": {},
   "source": [
    "A      B       A or B\n",
    "True   True     True\n",
    "True   False    True\n",
    "False  True     True\n",
    "False   False   False"
   ]
  },
  {
   "cell_type": "markdown",
   "id": "4fcaa282",
   "metadata": {},
   "source": [
    "## 2) and"
   ]
  },
  {
   "cell_type": "markdown",
   "id": "002fe3be",
   "metadata": {},
   "source": [
    "A      B       A and B\n",
    "True   True     True\n",
    "True   False    False\n",
    "False  True     False\n",
    "False  False    False"
   ]
  },
  {
   "cell_type": "markdown",
   "id": "7c7b0241",
   "metadata": {},
   "source": [
    "## 3) not"
   ]
  },
  {
   "cell_type": "markdown",
   "id": "342248c3",
   "metadata": {},
   "source": [
    "  A      B = not(A)       \n",
    " True     False   \n",
    " False    True      "
   ]
  },
  {
   "cell_type": "markdown",
   "id": "b5f7ee13",
   "metadata": {},
   "source": [
    "# Question: 4"
   ]
  },
  {
   "cell_type": "markdown",
   "id": "4a0cfb3d",
   "metadata": {},
   "source": [
    "What are the values of the following expressions?\n",
    "i) (5 > 4) and (3 == 5)\n",
    "ii) not (5 > 4)\n",
    "iii) (5 > 4) or (3 == 5)\n",
    "iv) not ((5 > 4) or (3 == 5))\n",
    "v) (True and True) and (True == False)\n",
    "vi) (not False) or (not True)"
   ]
  },
  {
   "cell_type": "code",
   "execution_count": 1,
   "id": "24a7a9c3",
   "metadata": {},
   "outputs": [
    {
     "data": {
      "text/plain": [
       "False"
      ]
     },
     "execution_count": 1,
     "metadata": {},
     "output_type": "execute_result"
    }
   ],
   "source": [
    "(5 > 4) and (3 == 5)"
   ]
  },
  {
   "cell_type": "code",
   "execution_count": 2,
   "id": "07147f13",
   "metadata": {},
   "outputs": [
    {
     "data": {
      "text/plain": [
       "False"
      ]
     },
     "execution_count": 2,
     "metadata": {},
     "output_type": "execute_result"
    }
   ],
   "source": [
    " not (5 > 4)"
   ]
  },
  {
   "cell_type": "code",
   "execution_count": 3,
   "id": "91df1d65",
   "metadata": {},
   "outputs": [
    {
     "data": {
      "text/plain": [
       "True"
      ]
     },
     "execution_count": 3,
     "metadata": {},
     "output_type": "execute_result"
    }
   ],
   "source": [
    "(5 > 4) or (3 == 5)"
   ]
  },
  {
   "cell_type": "code",
   "execution_count": 4,
   "id": "c9f4091b",
   "metadata": {},
   "outputs": [
    {
     "data": {
      "text/plain": [
       "False"
      ]
     },
     "execution_count": 4,
     "metadata": {},
     "output_type": "execute_result"
    }
   ],
   "source": [
    "not ((5 > 4) or (3 == 5))"
   ]
  },
  {
   "cell_type": "code",
   "execution_count": 5,
   "id": "082c7676",
   "metadata": {},
   "outputs": [
    {
     "data": {
      "text/plain": [
       "False"
      ]
     },
     "execution_count": 5,
     "metadata": {},
     "output_type": "execute_result"
    }
   ],
   "source": [
    "(True and True) and (True == False)"
   ]
  },
  {
   "cell_type": "code",
   "execution_count": 6,
   "id": "f0040880",
   "metadata": {},
   "outputs": [
    {
     "data": {
      "text/plain": [
       "True"
      ]
     },
     "execution_count": 6,
     "metadata": {},
     "output_type": "execute_result"
    }
   ],
   "source": [
    "(not False) or (not True)"
   ]
  },
  {
   "cell_type": "markdown",
   "id": "76df037e",
   "metadata": {},
   "source": [
    "# Question: 5"
   ]
  },
  {
   "cell_type": "markdown",
   "id": "a43476dc",
   "metadata": {},
   "source": [
    "What are the six comparison operators?"
   ]
  },
  {
   "cell_type": "markdown",
   "id": "0e4bee37",
   "metadata": {},
   "source": [
    "# Answer: 5\n",
    "1) > 2) < 3) >= 4) <= 5) == 6) !="
   ]
  },
  {
   "cell_type": "markdown",
   "id": "8efec752",
   "metadata": {},
   "source": [
    "# Question: 6"
   ]
  },
  {
   "cell_type": "markdown",
   "id": "96a32b78",
   "metadata": {},
   "source": [
    "How do you tell the difference between the equal to and assignment operators?Describe a\n",
    "condition and when you would use one."
   ]
  },
  {
   "cell_type": "markdown",
   "id": "3f1d4676",
   "metadata": {},
   "source": [
    "# Answer: 6"
   ]
  },
  {
   "cell_type": "markdown",
   "id": "6b1bdb7e",
   "metadata": {},
   "source": [
    "equal(==): It compare where compared values are equal or not."
   ]
  },
  {
   "cell_type": "code",
   "execution_count": 7,
   "id": "423520ce",
   "metadata": {},
   "outputs": [
    {
     "data": {
      "text/plain": [
       "False"
      ]
     },
     "execution_count": 7,
     "metadata": {},
     "output_type": "execute_result"
    }
   ],
   "source": [
    "7 == 9"
   ]
  },
  {
   "cell_type": "code",
   "execution_count": 8,
   "id": "c712ff42",
   "metadata": {},
   "outputs": [
    {
     "data": {
      "text/plain": [
       "True"
      ]
     },
     "execution_count": 8,
     "metadata": {},
     "output_type": "execute_result"
    }
   ],
   "source": [
    "2 == 2"
   ]
  },
  {
   "cell_type": "markdown",
   "id": "759cc68a",
   "metadata": {},
   "source": [
    "assignment(=): It is use assign certain value to a given identifier's/variable's."
   ]
  },
  {
   "cell_type": "code",
   "execution_count": 9,
   "id": "aa9f7b6c",
   "metadata": {},
   "outputs": [],
   "source": [
    "a = 23  # assigning 23 to variable a."
   ]
  },
  {
   "cell_type": "code",
   "execution_count": 10,
   "id": "22d4eec0",
   "metadata": {},
   "outputs": [
    {
     "data": {
      "text/plain": [
       "23"
      ]
     },
     "execution_count": 10,
     "metadata": {},
     "output_type": "execute_result"
    }
   ],
   "source": [
    "a"
   ]
  },
  {
   "cell_type": "markdown",
   "id": "d5352b41",
   "metadata": {},
   "source": [
    "# Question: 7"
   ]
  },
  {
   "cell_type": "markdown",
   "id": "4d4db4c4",
   "metadata": {},
   "source": [
    "Identify the three blocks in this code:\n",
    "    spam = 0\n",
    "    if spam == 10:\n",
    "    print('eggs')\n",
    "    if spam > 5:\n",
    "    print('bacon')\n",
    "    else:\n",
    "    print('ham')\n",
    "    print('spam')\n",
    "    print('spam')"
   ]
  },
  {
   "cell_type": "markdown",
   "id": "9eb3e162",
   "metadata": {},
   "source": [
    "# Answer:7\n",
    "    spam = 0 -----------------------------\n",
    "    if spam == 10:        Block - 1\n",
    "        print('eggs')------------------\n",
    "    if spam > 5: -------------------\n",
    "        print('bacon')\n",
    "    else:                       Block - 2\n",
    "        print('ham')----------------\n",
    "    print('spam')------------------\n",
    "    print('spam')               Block - 3\n",
    "    --------------------------------------\n",
    "    "
   ]
  },
  {
   "cell_type": "code",
   "execution_count": 11,
   "id": "506dbcdc",
   "metadata": {},
   "outputs": [
    {
     "name": "stdout",
     "output_type": "stream",
     "text": [
      "ham\n",
      "spam\n",
      "spam\n"
     ]
    }
   ],
   "source": [
    "    spam = 0\n",
    "    if spam == 10:\n",
    "        print('eggs')\n",
    "    if spam > 5:\n",
    "        print('bacon')\n",
    "    else:\n",
    "        print('ham')\n",
    "    print('spam')\n",
    "    print('spam')"
   ]
  },
  {
   "cell_type": "markdown",
   "id": "ce4914c0",
   "metadata": {},
   "source": [
    "# Question: 8\n",
    "Write code that prints Hello if 1 is stored in spam, prints Howdy if 2 is stored in spam, and prints\n",
    "Greetings! if anything else is stored in spam."
   ]
  },
  {
   "cell_type": "markdown",
   "id": "25e869fd",
   "metadata": {},
   "source": [
    "# Answer: 8"
   ]
  },
  {
   "cell_type": "code",
   "execution_count": 12,
   "id": "32bb0896",
   "metadata": {},
   "outputs": [
    {
     "name": "stdout",
     "output_type": "stream",
     "text": [
      "56\n",
      "Greetings!\n"
     ]
    }
   ],
   "source": [
    "    spam = input()\n",
    "    if spam == 1:\n",
    "        print(\"Hello\")\n",
    "    elif spam == 2:\n",
    "        print(\"Howdy\")\n",
    "    else:\n",
    "        print(\"Greetings!\")\n"
   ]
  },
  {
   "cell_type": "markdown",
   "id": "52df96f2",
   "metadata": {},
   "source": [
    "# Question 9:"
   ]
  },
  {
   "cell_type": "markdown",
   "id": "4c809793",
   "metadata": {},
   "source": [
    "If your programme is stuck in an endless loop, what keys you’ll press?"
   ]
  },
  {
   "cell_type": "markdown",
   "id": "a45e54ee",
   "metadata": {},
   "source": [
    "# Answer: 9"
   ]
  },
  {
   "cell_type": "markdown",
   "id": "8e9e36ec",
   "metadata": {},
   "source": [
    "Ctrl+C"
   ]
  },
  {
   "cell_type": "markdown",
   "id": "af98a35d",
   "metadata": {},
   "source": [
    "# Question: 10"
   ]
  },
  {
   "cell_type": "markdown",
   "id": "b5fd142f",
   "metadata": {},
   "source": [
    "How can you tell the difference between break and continue?"
   ]
  },
  {
   "cell_type": "markdown",
   "id": "57c74f39",
   "metadata": {},
   "source": [
    "# Answer: 10\n",
    "## break"
   ]
  },
  {
   "cell_type": "markdown",
   "id": "732b59ac",
   "metadata": {},
   "source": [
    "The break keyword is used to exit out of the loop."
   ]
  },
  {
   "cell_type": "code",
   "execution_count": 13,
   "id": "2dfc316a",
   "metadata": {},
   "outputs": [
    {
     "name": "stdout",
     "output_type": "stream",
     "text": [
      "Break Break Break Break Break Break Break Break "
     ]
    }
   ],
   "source": [
    "i = 0\n",
    "for i in range(0,10,1):\n",
    "    print(\"Break\", end =\" \")\n",
    "    if i == 7:\n",
    "        break"
   ]
  },
  {
   "cell_type": "markdown",
   "id": "45c534e0",
   "metadata": {},
   "source": [
    "## continue"
   ]
  },
  {
   "cell_type": "markdown",
   "id": "182c7f74",
   "metadata": {},
   "source": [
    "The continue keyword is used to skip the specific iteration based on the condition, it is applied."
   ]
  },
  {
   "cell_type": "code",
   "execution_count": 14,
   "id": "b3f5eaba",
   "metadata": {},
   "outputs": [
    {
     "name": "stdout",
     "output_type": "stream",
     "text": [
      "continue continue continue continue continue continue continue continue continue continue "
     ]
    }
   ],
   "source": [
    "i = 0\n",
    "for i in range(0,10,1):\n",
    "    print(\"continue\", end =\" \")\n",
    "    if i == 7:\n",
    "        continue"
   ]
  },
  {
   "cell_type": "markdown",
   "id": "8b732df5",
   "metadata": {},
   "source": [
    "# Question 11:"
   ]
  },
  {
   "cell_type": "markdown",
   "id": "731ceefd",
   "metadata": {},
   "source": [
    "In a for loop, what is the difference between range(10), range(0, 10), and range(0, 10, 1)?"
   ]
  },
  {
   "cell_type": "markdown",
   "id": "e8e8d914",
   "metadata": {},
   "source": [
    "# Answer 11:"
   ]
  },
  {
   "cell_type": "markdown",
   "id": "7f4616b6",
   "metadata": {},
   "source": [
    "### range(x)\n",
    "Will print value before starting from 0 to x-1."
   ]
  },
  {
   "cell_type": "code",
   "execution_count": 15,
   "id": "58a9aab7",
   "metadata": {},
   "outputs": [
    {
     "name": "stdout",
     "output_type": "stream",
     "text": [
      "0 1 2 3 4 5 6 7 8 9 "
     ]
    }
   ],
   "source": [
    "for i in range(10):\n",
    "    print(i, end =\" \")"
   ]
  },
  {
   "cell_type": "markdown",
   "id": "dd4acd3b",
   "metadata": {},
   "source": [
    "### in range(x,y)"
   ]
  },
  {
   "cell_type": "markdown",
   "id": "71686f3f",
   "metadata": {},
   "source": [
    "Will print value from x till y-1."
   ]
  },
  {
   "cell_type": "code",
   "execution_count": 16,
   "id": "00df565a",
   "metadata": {},
   "outputs": [
    {
     "name": "stdout",
     "output_type": "stream",
     "text": [
      "5 6 7 8 9 10 11 12 13 14 15 16 17 18 19 20 21 22 23 24 "
     ]
    }
   ],
   "source": [
    "for j in range(5,25):\n",
    "    print(j, end =\" \")"
   ]
  },
  {
   "cell_type": "markdown",
   "id": "47843a7e",
   "metadata": {},
   "source": [
    "### range(x,y,z)"
   ]
  },
  {
   "cell_type": "markdown",
   "id": "eb99a5ba",
   "metadata": {},
   "source": [
    "Will print value from x to y-1 jumping z steps, staring from x , x+z, x+2z ...."
   ]
  },
  {
   "cell_type": "code",
   "execution_count": 17,
   "id": "615b1a02",
   "metadata": {},
   "outputs": [
    {
     "name": "stdout",
     "output_type": "stream",
     "text": [
      "5 9 13 17 21 "
     ]
    }
   ],
   "source": [
    "for j in range(5,25,4):\n",
    "    print(j, end =\" \")"
   ]
  },
  {
   "cell_type": "markdown",
   "id": "0d24f877",
   "metadata": {},
   "source": [
    "# Question: 12"
   ]
  },
  {
   "cell_type": "markdown",
   "id": "5193ea23",
   "metadata": {},
   "source": [
    "Write a short program that prints the numbers 1 to 10 using a for loop. Then write an equivalent\n",
    "program that prints the numbers 1 to 10 using a while loop."
   ]
  },
  {
   "cell_type": "markdown",
   "id": "2be8546e",
   "metadata": {},
   "source": [
    "# Answer: 12"
   ]
  },
  {
   "cell_type": "code",
   "execution_count": 18,
   "id": "a5076dd2",
   "metadata": {},
   "outputs": [
    {
     "name": "stdout",
     "output_type": "stream",
     "text": [
      "1 2 3 4 5 6 7 8 9 10 "
     ]
    }
   ],
   "source": [
    "for i in range(1,11):\n",
    "    print(i, end =\" \")"
   ]
  },
  {
   "cell_type": "code",
   "execution_count": 19,
   "id": "26ad6a90",
   "metadata": {},
   "outputs": [
    {
     "name": "stdout",
     "output_type": "stream",
     "text": [
      "1 2 3 4 5 6 7 8 9 10 "
     ]
    }
   ],
   "source": [
    "i = 1\n",
    "while i != 11:\n",
    "    print(i,end= \" \")\n",
    "    i += 1"
   ]
  },
  {
   "cell_type": "markdown",
   "id": "68a73030",
   "metadata": {},
   "source": [
    "# Question: 13"
   ]
  },
  {
   "cell_type": "markdown",
   "id": "f4ba88d9",
   "metadata": {},
   "source": [
    "If you had a function named bacon() inside a module named spam, how would you call it after\n",
    "importing spam?"
   ]
  },
  {
   "cell_type": "markdown",
   "id": "a480e720",
   "metadata": {},
   "source": [
    "# Answer: 13"
   ]
  },
  {
   "cell_type": "markdown",
   "id": "25ced0e8",
   "metadata": {},
   "source": [
    "from spam import bacon"
   ]
  },
  {
   "cell_type": "markdown",
   "id": "a34c6d88",
   "metadata": {},
   "source": [
    "bacon()"
   ]
  }
 ],
 "metadata": {
  "kernelspec": {
   "display_name": "Python 3 (ipykernel)",
   "language": "python",
   "name": "python3"
  },
  "language_info": {
   "codemirror_mode": {
    "name": "ipython",
    "version": 3
   },
   "file_extension": ".py",
   "mimetype": "text/x-python",
   "name": "python",
   "nbconvert_exporter": "python",
   "pygments_lexer": "ipython3",
   "version": "3.9.12"
  }
 },
 "nbformat": 4,
 "nbformat_minor": 5
}
