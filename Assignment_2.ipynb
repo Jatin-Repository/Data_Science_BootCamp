{
 "cells": [
  {
   "cell_type": "markdown",
   "id": "482d0abd",
   "metadata": {},
   "source": [
    "# Question: 1"
   ]
  },
  {
   "cell_type": "markdown",
   "id": "7c5aee57",
   "metadata": {},
   "source": [
    "What are the two values of the Boolean data type? How do you write them?"
   ]
  },
  {
   "cell_type": "markdown",
   "id": "d170cfea",
   "metadata": {},
   "source": [
    "# Answer: 1\n",
    "The two boolean data type are \n",
    "1) True\n",
    "2) False\n",
    "Internally True = 1 and False = 0."
   ]
  },
  {
   "cell_type": "markdown",
   "id": "43f9ad57",
   "metadata": {},
   "source": [
    "# Quesion: 2"
   ]
  },
  {
   "cell_type": "markdown",
   "id": "ef394c39",
   "metadata": {},
   "source": [
    "What are the three different types of Boolean operators?"
   ]
  },
  {
   "cell_type": "markdown",
   "id": "3a37957a",
   "metadata": {},
   "source": [
    "# Answer: 2\n",
    "The three boolean operator are :\n",
    "1) not\n",
    "2) or\n",
    "3) and"
   ]
  },
  {
   "cell_type": "markdown",
   "id": "29e44960",
   "metadata": {},
   "source": [
    "# Question: 3"
   ]
  },
  {
   "cell_type": "markdown",
   "id": "9bb2c21b",
   "metadata": {},
   "source": [
    "Make a list of each Boolean operator&#39;s truth tables (i.e. every possible combination of Boolean\n",
    "values for the operator and what it evaluate )."
   ]
  },
  {
   "cell_type": "markdown",
   "id": "704a852c",
   "metadata": {},
   "source": [
    "# Answer: 3"
   ]
  },
  {
   "cell_type": "markdown",
   "id": "2845bbd8",
   "metadata": {},
   "source": [
    "## 1) or"
   ]
  },
  {
   "cell_type": "markdown",
   "id": "3ebd5db2",
   "metadata": {},
   "source": [
    "A      B       A or B\n",
    "True   True     True\n",
    "True   False    True\n",
    "False  True     True\n",
    "False   False   False"
   ]
  },
  {
   "cell_type": "markdown",
   "id": "2e2f519e",
   "metadata": {},
   "source": [
    "## 2) and"
   ]
  },
  {
   "cell_type": "markdown",
   "id": "ba926ac6",
   "metadata": {},
   "source": [
    "A      B       A and B\n",
    "True   True     True\n",
    "True   False    False\n",
    "False  True     False\n",
    "False  False    False"
   ]
  },
  {
   "cell_type": "markdown",
   "id": "2593d2c2",
   "metadata": {},
   "source": [
    "## 3) not"
   ]
  },
  {
   "cell_type": "markdown",
   "id": "b6ac84e2",
   "metadata": {},
   "source": [
    "  A      B = not(A)       \n",
    " True     False   \n",
    " False    True      "
   ]
  },
  {
   "cell_type": "markdown",
   "id": "fa26632d",
   "metadata": {},
   "source": [
    "# Question: 4"
   ]
  },
  {
   "cell_type": "markdown",
   "id": "28be62de",
   "metadata": {},
   "source": [
    "What are the values of the following expressions?\n",
    "i) (5 > 4) and (3 == 5)\n",
    "ii) not (5 > 4)\n",
    "iii) (5 > 4) or (3 == 5)\n",
    "iv) not ((5 > 4) or (3 == 5))\n",
    "v) (True and True) and (True == False)\n",
    "vi) (not False) or (not True)"
   ]
  },
  {
   "cell_type": "code",
   "execution_count": null,
   "id": "5fd5d93d",
   "metadata": {},
   "outputs": [],
   "source": [
    "(5 > 4) and (3 == 5)"
   ]
  },
  {
   "cell_type": "code",
   "execution_count": null,
   "id": "ecb90dfd",
   "metadata": {},
   "outputs": [],
   "source": [
    " not (5 > 4)"
   ]
  },
  {
   "cell_type": "code",
   "execution_count": null,
   "id": "ac8eee89",
   "metadata": {},
   "outputs": [],
   "source": [
    "(5 > 4) or (3 == 5)"
   ]
  },
  {
   "cell_type": "code",
   "execution_count": null,
   "id": "33551b5d",
   "metadata": {},
   "outputs": [],
   "source": [
    "not ((5 > 4) or (3 == 5))"
   ]
  },
  {
   "cell_type": "code",
   "execution_count": null,
   "id": "0009abb6",
   "metadata": {},
   "outputs": [],
   "source": [
    "(True and True) and (True == False)"
   ]
  },
  {
   "cell_type": "code",
   "execution_count": null,
   "id": "5e5ffc99",
   "metadata": {},
   "outputs": [],
   "source": [
    "(not False) or (not True)"
   ]
  },
  {
   "cell_type": "markdown",
   "id": "29a700f4",
   "metadata": {},
   "source": [
    "# Question: 5"
   ]
  },
  {
   "cell_type": "markdown",
   "id": "8d63429f",
   "metadata": {},
   "source": [
    "What are the six comparison operators?"
   ]
  },
  {
   "cell_type": "markdown",
   "id": "8ea2e30b",
   "metadata": {},
   "source": [
    "# Answer: 5\n",
    "1) > 2) < 3) >= 4) <= 5) == 6) !="
   ]
  },
  {
   "cell_type": "markdown",
   "id": "9e7a9f09",
   "metadata": {},
   "source": [
    "# Question: 6"
   ]
  },
  {
   "cell_type": "markdown",
   "id": "f76aa44b",
   "metadata": {},
   "source": [
    "How do you tell the difference between the equal to and assignment operators?Describe a\n",
    "condition and when you would use one."
   ]
  },
  {
   "cell_type": "markdown",
   "id": "9a25f774",
   "metadata": {},
   "source": [
    "# Answer: 6"
   ]
  },
  {
   "cell_type": "markdown",
   "id": "acb09b62",
   "metadata": {},
   "source": [
    "equal(==): It compare where compared values are equal or not."
   ]
  },
  {
   "cell_type": "code",
   "execution_count": null,
   "id": "03787c6c",
   "metadata": {},
   "outputs": [],
   "source": [
    "7 == 9"
   ]
  },
  {
   "cell_type": "code",
   "execution_count": null,
   "id": "f9457343",
   "metadata": {},
   "outputs": [],
   "source": [
    "2 == 2"
   ]
  },
  {
   "cell_type": "markdown",
   "id": "d669201b",
   "metadata": {},
   "source": [
    "assignment(=): It is use assign certain value to a given identifier's/variable's."
   ]
  },
  {
   "cell_type": "code",
   "execution_count": null,
   "id": "aeeb8186",
   "metadata": {},
   "outputs": [],
   "source": [
    "a = 23  # assigning 23 to variable a."
   ]
  },
  {
   "cell_type": "code",
   "execution_count": null,
   "id": "fbbcb191",
   "metadata": {},
   "outputs": [],
   "source": [
    "a"
   ]
  },
  {
   "cell_type": "markdown",
   "id": "755f1f60",
   "metadata": {},
   "source": [
    "# Question: 7"
   ]
  },
  {
   "cell_type": "markdown",
   "id": "4b3e8276",
   "metadata": {},
   "source": [
    "Identify the three blocks in this code:\n",
    "    spam = 0\n",
    "    if spam == 10:\n",
    "    print('eggs')\n",
    "    if spam > 5:\n",
    "    print('bacon')\n",
    "    else:\n",
    "    print('ham')\n",
    "    print('spam')\n",
    "    print('spam')"
   ]
  },
  {
   "cell_type": "markdown",
   "id": "21e91149",
   "metadata": {},
   "source": [
    "# Answer:7\n",
    "    spam = 0 -----------------------------\n",
    "    if spam == 10:        Block - 1\n",
    "        print('eggs')------------------\n",
    "    if spam > 5: -------------------\n",
    "        print('bacon')\n",
    "    else:                       Block - 2\n",
    "        print('ham')----------------\n",
    "    print('spam')------------------\n",
    "    print('spam')               Block - 3\n",
    "    --------------------------------------\n",
    "    "
   ]
  },
  {
   "cell_type": "code",
   "execution_count": null,
   "id": "9b919fde",
   "metadata": {},
   "outputs": [],
   "source": [
    "    spam = 0\n",
    "    if spam == 10:\n",
    "        print('eggs')\n",
    "    if spam > 5:\n",
    "        print('bacon')\n",
    "    else:\n",
    "        print('ham')\n",
    "    print('spam')\n",
    "    print('spam')"
   ]
  },
  {
   "cell_type": "markdown",
   "id": "04a5e83e",
   "metadata": {},
   "source": [
    "# Question: 8\n",
    "Write code that prints Hello if 1 is stored in spam, prints Howdy if 2 is stored in spam, and prints\n",
    "Greetings! if anything else is stored in spam."
   ]
  },
  {
   "cell_type": "markdown",
   "id": "fcb93a4b",
   "metadata": {},
   "source": [
    "# Answer: 8"
   ]
  },
  {
   "cell_type": "code",
   "execution_count": null,
   "id": "e2fead6d",
   "metadata": {},
   "outputs": [],
   "source": [
    "    spam = input()\n",
    "    if spam == 1:\n",
    "        print(\"Hello\")\n",
    "    elif spam == 2:\n",
    "        print(\"Howdy\")\n",
    "    else:\n",
    "        print(\"Greetings!\")\n"
   ]
  },
  {
   "cell_type": "markdown",
   "id": "ae0b33e3",
   "metadata": {},
   "source": [
    "# Question 9:"
   ]
  },
  {
   "cell_type": "markdown",
   "id": "c40cfcaf",
   "metadata": {},
   "source": [
    "If your programme is stuck in an endless loop, what keys you’ll press?"
   ]
  },
  {
   "cell_type": "markdown",
   "id": "f0843274",
   "metadata": {},
   "source": [
    "# Answer: 9"
   ]
  },
  {
   "cell_type": "markdown",
   "id": "df1d1bc3",
   "metadata": {},
   "source": [
    "Ctrl+C"
   ]
  },
  {
   "cell_type": "markdown",
   "id": "ca39e556",
   "metadata": {},
   "source": [
    "# Question: 10"
   ]
  },
  {
   "cell_type": "markdown",
   "id": "71a92074",
   "metadata": {},
   "source": [
    "How can you tell the difference between break and continue?"
   ]
  },
  {
   "cell_type": "markdown",
   "id": "196ba58c",
   "metadata": {},
   "source": [
    "# Answer: 10\n",
    "## break"
   ]
  },
  {
   "cell_type": "markdown",
   "id": "c39dc84a",
   "metadata": {},
   "source": [
    "The break keyword is used to exit out of the loop."
   ]
  },
  {
   "cell_type": "code",
   "execution_count": 16,
   "id": "ab09f9ae",
   "metadata": {},
   "outputs": [
    {
     "name": "stdout",
     "output_type": "stream",
     "text": [
      "Break Break Break Break Break Break Break Break "
     ]
    }
   ],
   "source": [
    "i = 0\n",
    "for i in range(0,10,1):\n",
    "    print(\"Break\", end =\" \")\n",
    "    if i == 7:\n",
    "        break"
   ]
  },
  {
   "cell_type": "markdown",
   "id": "3c843987",
   "metadata": {},
   "source": [
    "## continue"
   ]
  },
  {
   "cell_type": "markdown",
   "id": "e19c759e",
   "metadata": {},
   "source": [
    "The continue keyword is used to skip the specific iteration based on the condition, it is applied."
   ]
  },
  {
   "cell_type": "code",
   "execution_count": 15,
   "id": "00b3c96f",
   "metadata": {},
   "outputs": [
    {
     "name": "stdout",
     "output_type": "stream",
     "text": [
      "continue continue continue continue continue continue continue continue continue continue "
     ]
    }
   ],
   "source": [
    "i = 0\n",
    "for i in range(0,10,1):\n",
    "    print(\"continue\", end =\" \")\n",
    "    if i == 7:\n",
    "        continue"
   ]
  },
  {
   "cell_type": "markdown",
   "id": "1a9d5207",
   "metadata": {},
   "source": [
    "# Question 11:"
   ]
  },
  {
   "cell_type": "markdown",
   "id": "6bbb47cb",
   "metadata": {},
   "source": [
    "In a for loop, what is the difference between range(10), range(0, 10), and range(0, 10, 1)?"
   ]
  },
  {
   "cell_type": "markdown",
   "id": "b0d39ae3",
   "metadata": {},
   "source": [
    "# Answer 11:"
   ]
  },
  {
   "cell_type": "markdown",
   "id": "b7b24244",
   "metadata": {},
   "source": [
    "### range(x)\n",
    "Will print value before starting from 0 to x-1."
   ]
  },
  {
   "cell_type": "code",
   "execution_count": 14,
   "id": "e176844e",
   "metadata": {},
   "outputs": [
    {
     "name": "stdout",
     "output_type": "stream",
     "text": [
      "0 1 2 3 4 5 6 7 8 9 "
     ]
    }
   ],
   "source": [
    "for i in range(10):\n",
    "    print(i, end =\" \")"
   ]
  },
  {
   "cell_type": "markdown",
   "id": "b6e50157",
   "metadata": {},
   "source": [
    "### in range(x,y)"
   ]
  },
  {
   "cell_type": "markdown",
   "id": "cfdc4131",
   "metadata": {},
   "source": [
    "Will print value from x till y-1."
   ]
  },
  {
   "cell_type": "code",
   "execution_count": 13,
   "id": "0543b95d",
   "metadata": {},
   "outputs": [
    {
     "name": "stdout",
     "output_type": "stream",
     "text": [
      "5 6 7 8 9 10 11 12 13 14 15 16 17 18 19 20 21 22 23 24 "
     ]
    }
   ],
   "source": [
    "for j in range(5,25):\n",
    "    print(j, end =\" \")"
   ]
  },
  {
   "cell_type": "markdown",
   "id": "377b9012",
   "metadata": {},
   "source": [
    "### range(x,y,z)"
   ]
  },
  {
   "cell_type": "markdown",
   "id": "ccf3581a",
   "metadata": {},
   "source": [
    "Will print value from x to y-1 jumping z steps, staring from x , x+z, x+2z ...."
   ]
  },
  {
   "cell_type": "code",
   "execution_count": 12,
   "id": "78f65430",
   "metadata": {},
   "outputs": [
    {
     "name": "stdout",
     "output_type": "stream",
     "text": [
      "5 9 13 17 21 "
     ]
    }
   ],
   "source": [
    "for j in range(5,25,4):\n",
    "    print(j, end =\" \")"
   ]
  },
  {
   "cell_type": "markdown",
   "id": "998a3cc5",
   "metadata": {},
   "source": [
    "# Question: 12"
   ]
  },
  {
   "cell_type": "markdown",
   "id": "8a17365a",
   "metadata": {},
   "source": [
    "Write a short program that prints the numbers 1 to 10 using a for loop. Then write an equivalent\n",
    "program that prints the numbers 1 to 10 using a while loop."
   ]
  },
  {
   "cell_type": "markdown",
   "id": "6b23809e",
   "metadata": {},
   "source": [
    "# Answer: 12"
   ]
  },
  {
   "cell_type": "code",
   "execution_count": 11,
   "id": "1a7f9b18",
   "metadata": {},
   "outputs": [
    {
     "name": "stdout",
     "output_type": "stream",
     "text": [
      "1 2 3 4 5 6 7 8 9 10 "
     ]
    }
   ],
   "source": [
    "for i in range(1,11):\n",
    "    print(i, end =\" \")"
   ]
  },
  {
   "cell_type": "code",
   "execution_count": 17,
   "id": "c82690a7",
   "metadata": {},
   "outputs": [
    {
     "name": "stdout",
     "output_type": "stream",
     "text": [
      "1 2 3 4 5 6 7 8 9 10 "
     ]
    }
   ],
   "source": [
    "i = 1\n",
    "while i != 11:\n",
    "    print(i,end= \" \")\n",
    "    i += 1"
   ]
  },
  {
   "cell_type": "markdown",
   "id": "9839d685",
   "metadata": {},
   "source": [
    "# Question: 13"
   ]
  },
  {
   "cell_type": "markdown",
   "id": "af325498",
   "metadata": {},
   "source": [
    "If you had a function named bacon() inside a module named spam, how would you call it after\n",
    "importing spam?"
   ]
  },
  {
   "cell_type": "markdown",
   "id": "ceeb122b",
   "metadata": {},
   "source": [
    "# Answer: 13"
   ]
  },
  {
   "cell_type": "markdown",
   "id": "4f60b172",
   "metadata": {},
   "source": [
    "from spam import bacon"
   ]
  },
  {
   "cell_type": "markdown",
   "id": "bb50c8ca",
   "metadata": {},
   "source": [
    "bacon()"
   ]
  }
 ],
 "metadata": {
  "kernelspec": {
   "display_name": "Python 3 (ipykernel)",
   "language": "python",
   "name": "python3"
  },
  "language_info": {
   "codemirror_mode": {
    "name": "ipython",
    "version": 3
   },
   "file_extension": ".py",
   "mimetype": "text/x-python",
   "name": "python",
   "nbconvert_exporter": "python",
   "pygments_lexer": "ipython3",
   "version": "3.9.12"
  }
 },
 "nbformat": 4,
 "nbformat_minor": 5
}
