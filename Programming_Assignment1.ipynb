{
 "cells": [
  {
   "cell_type": "markdown",
   "id": "07953a54",
   "metadata": {},
   "source": [
    "# Question: 1"
   ]
  },
  {
   "cell_type": "markdown",
   "id": "84565285",
   "metadata": {},
   "source": [
    "### Write a Python program to print \"Hello Python\"?"
   ]
  },
  {
   "cell_type": "markdown",
   "id": "6260a48e",
   "metadata": {},
   "source": [
    "# Answer: 1"
   ]
  },
  {
   "cell_type": "code",
   "execution_count": 4,
   "id": "057ab298",
   "metadata": {},
   "outputs": [
    {
     "name": "stdout",
     "output_type": "stream",
     "text": [
      "\"Hello Python\"\n"
     ]
    }
   ],
   "source": [
    "print('\"Hello Python\"')"
   ]
  },
  {
   "cell_type": "markdown",
   "id": "f3efdc01",
   "metadata": {},
   "source": [
    "# Question: 2"
   ]
  },
  {
   "cell_type": "markdown",
   "id": "1dae0f3d",
   "metadata": {},
   "source": [
    "### Write a Python program to do arithmetical operations addition and division.?"
   ]
  },
  {
   "cell_type": "markdown",
   "id": "ef734d60",
   "metadata": {},
   "source": [
    "# Answer: 2"
   ]
  },
  {
   "cell_type": "code",
   "execution_count": 9,
   "id": "4457449c",
   "metadata": {},
   "outputs": [],
   "source": [
    "def Addition(a,b) -> int: # Function performing addition\n",
    "    return a + b"
   ]
  },
  {
   "cell_type": "code",
   "execution_count": 16,
   "id": "00ff504d",
   "metadata": {},
   "outputs": [
    {
     "data": {
      "text/plain": [
       "9"
      ]
     },
     "execution_count": 16,
     "metadata": {},
     "output_type": "execute_result"
    }
   ],
   "source": [
    "Addition(4,5)"
   ]
  },
  {
   "cell_type": "code",
   "execution_count": 15,
   "id": "8ee47e4d",
   "metadata": {},
   "outputs": [
    {
     "data": {
      "text/plain": [
       "181"
      ]
     },
     "execution_count": 15,
     "metadata": {},
     "output_type": "execute_result"
    }
   ],
   "source": [
    "Addition(124,57)"
   ]
  },
  {
   "cell_type": "code",
   "execution_count": 21,
   "id": "079aedaa",
   "metadata": {},
   "outputs": [],
   "source": [
    "def Division(a,b) -> str:\n",
    "    try:\n",
    "        x = a/b\n",
    "    except ZeroDivisionError:\n",
    "        return \"0 can't be divisor\"\n",
    "    return x"
   ]
  },
  {
   "cell_type": "code",
   "execution_count": 22,
   "id": "96c2d03b",
   "metadata": {},
   "outputs": [
    {
     "data": {
      "text/plain": [
       "0.5"
      ]
     },
     "execution_count": 22,
     "metadata": {},
     "output_type": "execute_result"
    }
   ],
   "source": [
    "Division(1,2)"
   ]
  },
  {
   "cell_type": "code",
   "execution_count": 23,
   "id": "b9a4507b",
   "metadata": {},
   "outputs": [
    {
     "data": {
      "text/plain": [
       "\"0 can't be divisor\""
      ]
     },
     "execution_count": 23,
     "metadata": {},
     "output_type": "execute_result"
    }
   ],
   "source": [
    "Division(2,0)"
   ]
  },
  {
   "cell_type": "markdown",
   "id": "36a1bc72",
   "metadata": {},
   "source": [
    "# Question: 3"
   ]
  },
  {
   "cell_type": "markdown",
   "id": "1ff98622",
   "metadata": {},
   "source": [
    "### Write a Python program to find the area of a triangle?"
   ]
  },
  {
   "cell_type": "markdown",
   "id": "cacdb59f",
   "metadata": {},
   "source": [
    "# Answer: 3"
   ]
  },
  {
   "cell_type": "code",
   "execution_count": 28,
   "id": "ac4f459e",
   "metadata": {},
   "outputs": [],
   "source": [
    "def area_triangle(a,b,c) -> float: \n",
    "    # Using Heroines Formula\n",
    "    s = (a + b + c) / 2     \n",
    "    # Semi Perimeter\n",
    "    t = s*(s-a)*(s-b)*(s-c)\n",
    "    area = t ** (1/2)\n",
    "    return area"
   ]
  },
  {
   "cell_type": "code",
   "execution_count": 29,
   "id": "b4d3205f",
   "metadata": {},
   "outputs": [
    {
     "data": {
      "text/plain": [
       "6.0"
      ]
     },
     "execution_count": 29,
     "metadata": {},
     "output_type": "execute_result"
    }
   ],
   "source": [
    "area_triangle(3,4,5)"
   ]
  },
  {
   "cell_type": "code",
   "execution_count": 30,
   "id": "1bddd19c",
   "metadata": {},
   "outputs": [
    {
     "data": {
      "text/plain": [
       "10.825317547305483"
      ]
     },
     "execution_count": 30,
     "metadata": {},
     "output_type": "execute_result"
    }
   ],
   "source": [
    "area_triangle(5,5,5)"
   ]
  },
  {
   "cell_type": "markdown",
   "id": "4417d598",
   "metadata": {},
   "source": [
    "# Question : 4"
   ]
  },
  {
   "cell_type": "markdown",
   "id": "c63ed012",
   "metadata": {},
   "source": [
    "### Write a Python program to swap two variables?"
   ]
  },
  {
   "cell_type": "markdown",
   "id": "153fba8e",
   "metadata": {},
   "source": [
    "# Answer: 4:"
   ]
  },
  {
   "cell_type": "code",
   "execution_count": 31,
   "id": "18cf0ee5",
   "metadata": {},
   "outputs": [],
   "source": [
    "def swap_variable(a,b):\n",
    "    a = a + b\n",
    "    b = a - b\n",
    "    a = a - b\n",
    "    print(a,b)"
   ]
  },
  {
   "cell_type": "code",
   "execution_count": 32,
   "id": "544bc38f",
   "metadata": {},
   "outputs": [
    {
     "name": "stdout",
     "output_type": "stream",
     "text": [
      "6 4\n"
     ]
    }
   ],
   "source": [
    "swap_variable(4,6)"
   ]
  },
  {
   "cell_type": "code",
   "execution_count": 33,
   "id": "baa1f31e",
   "metadata": {},
   "outputs": [
    {
     "name": "stdout",
     "output_type": "stream",
     "text": [
      "19 11\n"
     ]
    }
   ],
   "source": [
    "swap_variable(11,19)"
   ]
  },
  {
   "cell_type": "markdown",
   "id": "25f67b4a",
   "metadata": {},
   "source": [
    "# Question: 5"
   ]
  },
  {
   "cell_type": "markdown",
   "id": "194b5f73",
   "metadata": {},
   "source": [
    "### Write a Python program to generate a random number?"
   ]
  },
  {
   "cell_type": "markdown",
   "id": "8bef1629",
   "metadata": {},
   "source": [
    "# Answer: 5"
   ]
  },
  {
   "cell_type": "code",
   "execution_count": 34,
   "id": "1e241e59",
   "metadata": {},
   "outputs": [],
   "source": [
    "import random"
   ]
  },
  {
   "cell_type": "code",
   "execution_count": 43,
   "id": "f8912055",
   "metadata": {},
   "outputs": [],
   "source": [
    "def generate_random(a,b):\n",
    "    return random.randint(a,b)"
   ]
  },
  {
   "cell_type": "code",
   "execution_count": 44,
   "id": "efb9417e",
   "metadata": {},
   "outputs": [
    {
     "data": {
      "text/plain": [
       "853"
      ]
     },
     "execution_count": 44,
     "metadata": {},
     "output_type": "execute_result"
    }
   ],
   "source": [
    "generate_random(14,1000)"
   ]
  },
  {
   "cell_type": "code",
   "execution_count": 45,
   "id": "8761d7e0",
   "metadata": {},
   "outputs": [
    {
     "data": {
      "text/plain": [
       "6"
      ]
     },
     "execution_count": 45,
     "metadata": {},
     "output_type": "execute_result"
    }
   ],
   "source": [
    "generate_random(1,10)"
   ]
  },
  {
   "cell_type": "code",
   "execution_count": null,
   "id": "f2c3864f",
   "metadata": {},
   "outputs": [],
   "source": []
  }
 ],
 "metadata": {
  "kernelspec": {
   "display_name": "Python 3 (ipykernel)",
   "language": "python",
   "name": "python3"
  },
  "language_info": {
   "codemirror_mode": {
    "name": "ipython",
    "version": 3
   },
   "file_extension": ".py",
   "mimetype": "text/x-python",
   "name": "python",
   "nbconvert_exporter": "python",
   "pygments_lexer": "ipython3",
   "version": "3.9.12"
  }
 },
 "nbformat": 4,
 "nbformat_minor": 5
}
