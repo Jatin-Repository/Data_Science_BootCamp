{
 "cells": [
  {
   "cell_type": "markdown",
   "id": "6723c52c",
   "metadata": {},
   "source": [
    "# Question: 1"
   ]
  },
  {
   "cell_type": "markdown",
   "id": "d535cbac",
   "metadata": {},
   "source": [
    "# Write a Python Program to Add Two Matrices?"
   ]
  },
  {
   "cell_type": "markdown",
   "id": "522609e9",
   "metadata": {},
   "source": [
    "# Answer: 1"
   ]
  },
  {
   "cell_type": "code",
   "execution_count": 21,
   "id": "c39690f8",
   "metadata": {},
   "outputs": [],
   "source": [
    "def display_matrice(arr):\n",
    "    r = len(arr)\n",
    "    c = len(arr[0])\n",
    "    for i in range(0,r):\n",
    "        for j in range(0,c):\n",
    "            print(arr[i][j],end =\"\\t\")\n",
    "        print()"
   ]
  },
  {
   "cell_type": "code",
   "execution_count": 22,
   "id": "91cdf1f7",
   "metadata": {},
   "outputs": [],
   "source": [
    "def add_matrice(arr1,arr2):\n",
    "    r1 = len(arr1)\n",
    "    r2 = len(arr2)\n",
    "    c1 = len(arr1[0])\n",
    "    c2 = len(arr2[0])\n",
    "    res = list(list())\n",
    "    for i in range(0,r1):\n",
    "        list1 = list()\n",
    "        for j in range(0,c1):\n",
    "            x = arr1[i][j] + arr2[i][j]\n",
    "            list1.append(x)\n",
    "        res.append(list1)           \n",
    "    return res"
   ]
  },
  {
   "cell_type": "code",
   "execution_count": 26,
   "id": "bec2b1ca",
   "metadata": {},
   "outputs": [],
   "source": [
    "def insert_element_toArray(array_number,row,column):\n",
    "    print(\"Enter the entries to Matrix \", array_number)\n",
    "    arr = list(list())\n",
    "    for i in range(0,row):\n",
    "        list1 = list()\n",
    "        for j in range(0,column):\n",
    "            s = \"Enter the value for element to be inserted at row: {} column: {}\".format(i,j)\n",
    "            print(s)\n",
    "            x = int(input())\n",
    "            list1.append(x)\n",
    "        arr.insert(i,list1)\n",
    "    return arr\n",
    "    \n",
    "def matrix_operation():\n",
    "    print(\"Enter the dimension for Matrix 1:\") # a,b ----> a = number of rows , b = number of column\n",
    "    a1 = list(map(int,input().split(\",\")))\n",
    "    print(\"Enter the dimension for Matrix 2:\")\n",
    "    a2 = list(map(int,input().split(\",\")))\n",
    "    arr1 = list(list())\n",
    "    arr2 = list(list())\n",
    "    res = list(list())\n",
    "    if a1[0] == a2[0] and a1[1] == a2[1]: \n",
    "        arr1 = insert_element_toArray(1,a1[0],a1[1])\n",
    "        print(\"Matrix 1:\")\n",
    "        display_matrice(arr1)\n",
    "        arr2 = insert_element_toArray(2,a2[0],a2[1])\n",
    "        print(\"Matrix 2:\")\n",
    "        display_matrice(arr2)\n",
    "        print(\"Matrix 1 + Matrix 2:\")\n",
    "        res = add_matrice(arr1,arr2)\n",
    "        display_matrice(res)\n",
    "    else:\n",
    "        print(\"Matrix Addition is not possible/ invalid\")\n",
    "    "
   ]
  },
  {
   "cell_type": "code",
   "execution_count": 24,
   "id": "a3a983c5",
   "metadata": {},
   "outputs": [
    {
     "name": "stdout",
     "output_type": "stream",
     "text": [
      "Enter the dimension for Matrix 1:\n",
      "2,2\n",
      "Enter the dimension for Matrix 2:\n",
      "2,2\n",
      "Enter the entries to Matrix  1\n",
      "Enter the value for element to be inserted at row: 0 column: 0\n",
      "1\n",
      "Enter the value for element to be inserted at row: 0 column: 1\n",
      "2\n",
      "Enter the value for element to be inserted at row: 1 column: 0\n",
      "3\n",
      "Enter the value for element to be inserted at row: 1 column: 1\n",
      "4\n",
      "Matrix 1:\n",
      "1\t2\t\n",
      "3\t4\t\n",
      "Enter the entries to Matrix  2\n",
      "Enter the value for element to be inserted at row: 0 column: 0\n",
      "9\n",
      "Enter the value for element to be inserted at row: 0 column: 1\n",
      "8\n",
      "Enter the value for element to be inserted at row: 1 column: 0\n",
      "7\n",
      "Enter the value for element to be inserted at row: 1 column: 1\n",
      "6\n",
      "Matrix 2:\n",
      "9\t8\t\n",
      "7\t6\t\n",
      "Matrix 1 + Matrix 2:\n",
      "10\t10\t\n",
      "10\t10\t\n"
     ]
    }
   ],
   "source": [
    "matrix_operation()"
   ]
  },
  {
   "cell_type": "code",
   "execution_count": 25,
   "id": "b15d3a06",
   "metadata": {},
   "outputs": [
    {
     "name": "stdout",
     "output_type": "stream",
     "text": [
      "Enter the dimension for Matrix 1:\n",
      "3,4\n",
      "Enter the dimension for Matrix 2:\n",
      "3,4\n",
      "Enter the entries to Matrix  1\n",
      "Enter the value for element to be inserted at row: 0 column: 0\n",
      "1\n",
      "Enter the value for element to be inserted at row: 0 column: 1\n",
      "2\n",
      "Enter the value for element to be inserted at row: 0 column: 2\n",
      "5\n",
      "Enter the value for element to be inserted at row: 0 column: 3\n",
      "7\n",
      "Enter the value for element to be inserted at row: 1 column: 0\n",
      "9\n",
      "Enter the value for element to be inserted at row: 1 column: 1\n",
      "10\n",
      "Enter the value for element to be inserted at row: 1 column: 2\n",
      "14\n",
      "Enter the value for element to be inserted at row: 1 column: 3\n",
      "15\n",
      "Enter the value for element to be inserted at row: 2 column: 0\n",
      "7\n",
      "Enter the value for element to be inserted at row: 2 column: 1\n",
      "6\n",
      "Enter the value for element to be inserted at row: 2 column: 2\n",
      "13\n",
      "Enter the value for element to be inserted at row: 2 column: 3\n",
      "19\n",
      "Matrix 1:\n",
      "1\t2\t5\t7\t\n",
      "9\t10\t14\t15\t\n",
      "7\t6\t13\t19\t\n",
      "Enter the entries to Matrix  2\n",
      "Enter the value for element to be inserted at row: 0 column: 0\n",
      "9\n",
      "Enter the value for element to be inserted at row: 0 column: 1\n",
      "6\n",
      "Enter the value for element to be inserted at row: 0 column: 2\n",
      "3\n",
      "Enter the value for element to be inserted at row: 0 column: 3\n",
      "1\n",
      "Enter the value for element to be inserted at row: 1 column: 0\n",
      "4\n",
      "Enter the value for element to be inserted at row: 1 column: 1\n",
      "8\n",
      "Enter the value for element to be inserted at row: 1 column: 2\n",
      "1\n",
      "Enter the value for element to be inserted at row: 1 column: 3\n",
      "7\n",
      "Enter the value for element to be inserted at row: 2 column: 0\n",
      "4\n",
      "Enter the value for element to be inserted at row: 2 column: 1\n",
      "10\n",
      "Enter the value for element to be inserted at row: 2 column: 2\n",
      "19\n",
      "Enter the value for element to be inserted at row: 2 column: 3\n",
      "12\n",
      "Matrix 2:\n",
      "9\t6\t3\t1\t\n",
      "4\t8\t1\t7\t\n",
      "4\t10\t19\t12\t\n",
      "Matrix 1 + Matrix 2:\n",
      "10\t8\t8\t8\t\n",
      "13\t18\t15\t22\t\n",
      "11\t16\t32\t31\t\n"
     ]
    }
   ],
   "source": [
    "matrix_operation()"
   ]
  },
  {
   "cell_type": "code",
   "execution_count": 27,
   "id": "6437bd2b",
   "metadata": {},
   "outputs": [
    {
     "name": "stdout",
     "output_type": "stream",
     "text": [
      "Enter the dimension for Matrix 1:\n",
      "2,3\n",
      "Enter the dimension for Matrix 2:\n",
      "3,3\n",
      "Matrix Addition is not possible/ invalid\n"
     ]
    }
   ],
   "source": [
    "matrix_operation()"
   ]
  },
  {
   "cell_type": "markdown",
   "id": "b7a75fe6",
   "metadata": {},
   "source": [
    "# Question: 2"
   ]
  },
  {
   "cell_type": "markdown",
   "id": "32c47554",
   "metadata": {},
   "source": [
    "# Write a Python Program to Multiply Two Matrices?\n",
    "\n",
    "# Answer:2"
   ]
  },
  {
   "cell_type": "code",
   "execution_count": 64,
   "id": "2fbdfed5",
   "metadata": {},
   "outputs": [],
   "source": [
    "def matrix_multiply(arr1,arr2):\n",
    "    r1 = len(arr1[0])\n",
    "    c1 = len(arr2[1])\n",
    "    res = list(list())\n",
    "    for i in range(0,r1):\n",
    "        list1 = list()\n",
    "        for j in range(0,c1):\n",
    "            k = 0\n",
    "            x = 0\n",
    "            while k < len(arr1[1]):\n",
    "                x += arr1[i][k] * arr2[k][j]\n",
    "                k += 1\n",
    "            list1.append(x)\n",
    "        res.append(list1)\n",
    "    return res"
   ]
  },
  {
   "cell_type": "code",
   "execution_count": 65,
   "id": "c4789893",
   "metadata": {},
   "outputs": [],
   "source": [
    "def matrix_main():\n",
    "    print(\"Enter the dimension for Matrix 1:\") # a,b ----> a = number of rows , b = number of column\n",
    "    a1 = list(map(int,input().split(\",\")))\n",
    "    print(\"Enter the dimension for Matrix 2:\")\n",
    "    a2 = list(map(int,input().split(\",\")))\n",
    "    if a1[1] == a2[0]: # r1 x c1  , r2 x c2, multiplication possible if c1 == r2 then order of resultant matrix is r1 x c2\n",
    "        arr1 = list(list())\n",
    "        arr2 = list(list())\n",
    "        arr1 = insert_element_toArray(1,a1[0],a1[1])\n",
    "        print(\"Matrix 1:\")\n",
    "        display_matrice(arr1)\n",
    "        arr2 = insert_element_toArray(2,a2[0],a2[1])\n",
    "        print(\"Matrix 2:\")\n",
    "        display_matrice(arr2)\n",
    "        print(\"Matrix 1 x Matrix 2:\")\n",
    "        res = matrix_multiply(arr1,arr2)\n",
    "        display_matrice(res)\n",
    "        \n",
    "    else:\n",
    "        print(\"Matrix Multiplication not possible\")"
   ]
  },
  {
   "cell_type": "code",
   "execution_count": 66,
   "id": "17b6f0ef",
   "metadata": {},
   "outputs": [
    {
     "name": "stdout",
     "output_type": "stream",
     "text": [
      "Enter the dimension for Matrix 1:\n",
      "2,2\n",
      "Enter the dimension for Matrix 2:\n",
      "2,2\n",
      "Enter the entries to Matrix  1\n",
      "Enter the value for element to be inserted at row: 0 column: 0\n",
      "1\n",
      "Enter the value for element to be inserted at row: 0 column: 1\n",
      "2\n",
      "Enter the value for element to be inserted at row: 1 column: 0\n",
      "3\n",
      "Enter the value for element to be inserted at row: 1 column: 1\n",
      "4\n",
      "Matrix 1:\n",
      "1\t2\t\n",
      "3\t4\t\n",
      "Enter the entries to Matrix  2\n",
      "Enter the value for element to be inserted at row: 0 column: 0\n",
      "9\n",
      "Enter the value for element to be inserted at row: 0 column: 1\n",
      "8\n",
      "Enter the value for element to be inserted at row: 1 column: 0\n",
      "7\n",
      "Enter the value for element to be inserted at row: 1 column: 1\n",
      "6\n",
      "Matrix 2:\n",
      "9\t8\t\n",
      "7\t6\t\n",
      "Matrix 1 x Matrix 2:\n",
      "23\t20\t\n",
      "55\t48\t\n"
     ]
    }
   ],
   "source": [
    "matrix_main()"
   ]
  },
  {
   "cell_type": "code",
   "execution_count": 67,
   "id": "db08e2db",
   "metadata": {},
   "outputs": [
    {
     "name": "stdout",
     "output_type": "stream",
     "text": [
      "Enter the dimension for Matrix 1:\n",
      "3,3\n",
      "Enter the dimension for Matrix 2:\n",
      "3,3\n",
      "Enter the entries to Matrix  1\n",
      "Enter the value for element to be inserted at row: 0 column: 0\n",
      "1\n",
      "Enter the value for element to be inserted at row: 0 column: 1\n",
      "2\n",
      "Enter the value for element to be inserted at row: 0 column: 2\n",
      "3\n",
      "Enter the value for element to be inserted at row: 1 column: 0\n",
      "4\n",
      "Enter the value for element to be inserted at row: 1 column: 1\n",
      "5\n",
      "Enter the value for element to be inserted at row: 1 column: 2\n",
      "6\n",
      "Enter the value for element to be inserted at row: 2 column: 0\n",
      "7\n",
      "Enter the value for element to be inserted at row: 2 column: 1\n",
      "8\n",
      "Enter the value for element to be inserted at row: 2 column: 2\n",
      "9\n",
      "Matrix 1:\n",
      "1\t2\t3\t\n",
      "4\t5\t6\t\n",
      "7\t8\t9\t\n",
      "Enter the entries to Matrix  2\n",
      "Enter the value for element to be inserted at row: 0 column: 0\n",
      "9\n",
      "Enter the value for element to be inserted at row: 0 column: 1\n",
      "8\n",
      "Enter the value for element to be inserted at row: 0 column: 2\n",
      "7\n",
      "Enter the value for element to be inserted at row: 1 column: 0\n",
      "6\n",
      "Enter the value for element to be inserted at row: 1 column: 1\n",
      "5\n",
      "Enter the value for element to be inserted at row: 1 column: 2\n",
      "4\n",
      "Enter the value for element to be inserted at row: 2 column: 0\n",
      "3\n",
      "Enter the value for element to be inserted at row: 2 column: 1\n",
      "2\n",
      "Enter the value for element to be inserted at row: 2 column: 2\n",
      "1\n",
      "Matrix 2:\n",
      "9\t8\t7\t\n",
      "6\t5\t4\t\n",
      "3\t2\t1\t\n",
      "Matrix 1 x Matrix 2:\n",
      "30\t24\t18\t\n",
      "84\t69\t54\t\n",
      "138\t114\t90\t\n"
     ]
    }
   ],
   "source": [
    "matrix_main()"
   ]
  },
  {
   "cell_type": "code",
   "execution_count": 68,
   "id": "1bf373e8",
   "metadata": {},
   "outputs": [
    {
     "name": "stdout",
     "output_type": "stream",
     "text": [
      "Enter the dimension for Matrix 1:\n",
      "2,2\n",
      "Enter the dimension for Matrix 2:\n",
      "2,3\n",
      "Enter the entries to Matrix  1\n",
      "Enter the value for element to be inserted at row: 0 column: 0\n",
      "1\n",
      "Enter the value for element to be inserted at row: 0 column: 1\n",
      "2\n",
      "Enter the value for element to be inserted at row: 1 column: 0\n",
      "3\n",
      "Enter the value for element to be inserted at row: 1 column: 1\n",
      "4\n",
      "Matrix 1:\n",
      "1\t2\t\n",
      "3\t4\t\n",
      "Enter the entries to Matrix  2\n",
      "Enter the value for element to be inserted at row: 0 column: 0\n",
      "9\n",
      "Enter the value for element to be inserted at row: 0 column: 1\n",
      "8\n",
      "Enter the value for element to be inserted at row: 0 column: 2\n",
      "7\n",
      "Enter the value for element to be inserted at row: 1 column: 0\n",
      "6\n",
      "Enter the value for element to be inserted at row: 1 column: 1\n",
      "5\n",
      "Enter the value for element to be inserted at row: 1 column: 2\n",
      "4\n",
      "Matrix 2:\n",
      "9\t8\t7\t\n",
      "6\t5\t4\t\n",
      "Matrix 1 x Matrix 2:\n",
      "21\t18\t15\t\n",
      "51\t44\t37\t\n"
     ]
    }
   ],
   "source": [
    "matrix_main()"
   ]
  },
  {
   "cell_type": "code",
   "execution_count": 69,
   "id": "e90c6311",
   "metadata": {},
   "outputs": [
    {
     "name": "stdout",
     "output_type": "stream",
     "text": [
      "Enter the dimension for Matrix 1:\n",
      "2,3\n",
      "Enter the dimension for Matrix 2:\n",
      "4,2\n",
      "Matrix Multiplication not possible\n"
     ]
    }
   ],
   "source": [
    "matrix_main()"
   ]
  },
  {
   "cell_type": "markdown",
   "id": "d0d5e135",
   "metadata": {},
   "source": [
    "# Question: 3"
   ]
  },
  {
   "cell_type": "markdown",
   "id": "7e5055c8",
   "metadata": {},
   "source": [
    "# Write a Python Program to Transpose a Matrix?"
   ]
  },
  {
   "cell_type": "markdown",
   "id": "6fa9e745",
   "metadata": {},
   "source": [
    "# Answer: 3"
   ]
  },
  {
   "cell_type": "code",
   "execution_count": 113,
   "id": "c19c7bca",
   "metadata": {},
   "outputs": [],
   "source": [
    "def matrix_transpose(arr1):\n",
    "    r = len(arr1)\n",
    "    c = len(arr1[0])\n",
    "    arr= list(list())\n",
    "    for i in range(0,c):\n",
    "        list1 = list()\n",
    "        for j in range(0,r):\n",
    "            x = arr1[j][i]\n",
    "            list1.append(x)\n",
    "        arr.insert(i,list1)\n",
    "    return arr\n",
    "def matrix_function():\n",
    "    print(\"Enter the Dimension for the Array to be Transposed\")\n",
    "    a = list(map(int,input().split(\",\")))\n",
    "    res = list(list())\n",
    "    arr = list(list())\n",
    "    arr = insert_element_toArray('A',a[0],a[1])\n",
    "    print(\"Matrix A\")\n",
    "    display_matrice(arr)\n",
    "    res = matrix_transpose(arr)\n",
    "    print(\"Matrix A after transpose\")\n",
    "    display_matrice(res)"
   ]
  },
  {
   "cell_type": "code",
   "execution_count": 114,
   "id": "666054d5",
   "metadata": {},
   "outputs": [
    {
     "name": "stdout",
     "output_type": "stream",
     "text": [
      "Enter the Dimension for the Array to be Transposed\n",
      "3,3\n",
      "Enter the entries to Matrix  A\n",
      "Enter the value for element to be inserted at row: 0 column: 0\n",
      "1\n",
      "Enter the value for element to be inserted at row: 0 column: 1\n",
      "2\n",
      "Enter the value for element to be inserted at row: 0 column: 2\n",
      "3\n",
      "Enter the value for element to be inserted at row: 1 column: 0\n",
      "4\n",
      "Enter the value for element to be inserted at row: 1 column: 1\n",
      "5\n",
      "Enter the value for element to be inserted at row: 1 column: 2\n",
      "6\n",
      "Enter the value for element to be inserted at row: 2 column: 0\n",
      "7\n",
      "Enter the value for element to be inserted at row: 2 column: 1\n",
      "8\n",
      "Enter the value for element to be inserted at row: 2 column: 2\n",
      "9\n",
      "Matrix A\n",
      "1\t2\t3\t\n",
      "4\t5\t6\t\n",
      "7\t8\t9\t\n",
      "Matrix A after transpose\n",
      "1\t4\t7\t\n",
      "2\t5\t8\t\n",
      "3\t6\t9\t\n"
     ]
    }
   ],
   "source": [
    "matrix_function()"
   ]
  },
  {
   "cell_type": "code",
   "execution_count": 115,
   "id": "69f4d390",
   "metadata": {},
   "outputs": [
    {
     "name": "stdout",
     "output_type": "stream",
     "text": [
      "Enter the Dimension for the Array to be Transposed\n",
      "3,4\n",
      "Enter the entries to Matrix  A\n",
      "Enter the value for element to be inserted at row: 0 column: 0\n",
      "1\n",
      "Enter the value for element to be inserted at row: 0 column: 1\n",
      "2\n",
      "Enter the value for element to be inserted at row: 0 column: 2\n",
      "3\n",
      "Enter the value for element to be inserted at row: 0 column: 3\n",
      "4\n",
      "Enter the value for element to be inserted at row: 1 column: 0\n",
      "5\n",
      "Enter the value for element to be inserted at row: 1 column: 1\n",
      "6\n",
      "Enter the value for element to be inserted at row: 1 column: 2\n",
      "7\n",
      "Enter the value for element to be inserted at row: 1 column: 3\n",
      "8\n",
      "Enter the value for element to be inserted at row: 2 column: 0\n",
      "9\n",
      "Enter the value for element to be inserted at row: 2 column: 1\n",
      "10\n",
      "Enter the value for element to be inserted at row: 2 column: 2\n",
      "11\n",
      "Enter the value for element to be inserted at row: 2 column: 3\n",
      "12\n",
      "Matrix A\n",
      "1\t2\t3\t4\t\n",
      "5\t6\t7\t8\t\n",
      "9\t10\t11\t12\t\n",
      "Matrix A after transpose\n",
      "1\t5\t9\t\n",
      "2\t6\t10\t\n",
      "3\t7\t11\t\n",
      "4\t8\t12\t\n"
     ]
    }
   ],
   "source": [
    "matrix_function()"
   ]
  },
  {
   "cell_type": "markdown",
   "id": "c648ced6",
   "metadata": {},
   "source": [
    "# Question: 4"
   ]
  },
  {
   "cell_type": "markdown",
   "id": "1f58125c",
   "metadata": {},
   "source": [
    "## Write a Python Program to Sort Words in Alphabetic Order?"
   ]
  },
  {
   "cell_type": "markdown",
   "id": "9ccd9257",
   "metadata": {},
   "source": [
    "# Answer: 4"
   ]
  },
  {
   "cell_type": "code",
   "execution_count": 128,
   "id": "fa5a68d6",
   "metadata": {},
   "outputs": [],
   "source": [
    "def sort_words(names):\n",
    "    name = list(names)\n",
    "    name.sort()\n",
    "    return name"
   ]
  },
  {
   "cell_type": "code",
   "execution_count": 129,
   "id": "9ea0775d",
   "metadata": {},
   "outputs": [
    {
     "name": "stdout",
     "output_type": "stream",
     "text": [
      "['Haraman', 'Jasdeep', 'Jaspreet', 'Jatin', 'Karandeep', 'Khusdeep', 'Kirath', 'Mandeep', 'Simar', 'Tarandeep']\n"
     ]
    }
   ],
   "source": [
    "names = [\"Jatin\",\"Jasdeep\",\"Karandeep\",\"Kirath\",\"Simar\",\"Jaspreet\",\"Mandeep\",\"Tarandeep\",\"Khusdeep\",\"Haraman\"]\n",
    "print(sort_words(names))"
   ]
  },
  {
   "cell_type": "code",
   "execution_count": 131,
   "id": "3ab01066",
   "metadata": {},
   "outputs": [
    {
     "name": "stdout",
     "output_type": "stream",
     "text": [
      "Cricket,Cat,Car,Campus,Apple,Archery,Aanar\n",
      "['Aanar', 'Apple', 'Archery', 'Campus', 'Car', 'Cat', 'Cricket']\n"
     ]
    }
   ],
   "source": [
    "names = list(map(str,input().split(\",\")))\n",
    "print(sort_words(names))"
   ]
  },
  {
   "cell_type": "markdown",
   "id": "e0ead0ef",
   "metadata": {},
   "source": [
    "# Question: 5"
   ]
  },
  {
   "cell_type": "markdown",
   "id": "b3c94e72",
   "metadata": {},
   "source": [
    "# Write a Python Program to Remove Punctuation From a String?"
   ]
  },
  {
   "cell_type": "markdown",
   "id": "fa84501d",
   "metadata": {},
   "source": [
    "# Answer: 5"
   ]
  },
  {
   "cell_type": "code",
   "execution_count": 137,
   "id": "a61dd923",
   "metadata": {},
   "outputs": [],
   "source": [
    "def remove_punctuation(string,symbol): # symbol is type list can contain one or more punctuation.\n",
    "    for t in symbol:\n",
    "        x = t\n",
    "        temp =\"\"\n",
    "        for r in string:\n",
    "            if r == t:\n",
    "                continue\n",
    "            else:\n",
    "                temp += r\n",
    "        string = temp\n",
    "    return string\n",
    "    "
   ]
  },
  {
   "cell_type": "code",
   "execution_count": 138,
   "id": "2c4f7afc",
   "metadata": {},
   "outputs": [
    {
     "data": {
      "text/plain": [
       "'My name is  Jatin Deep'"
      ]
     },
     "execution_count": 138,
     "metadata": {},
     "output_type": "execute_result"
    }
   ],
   "source": [
    "remove_punctuation(\"My, name is , Jatin Deep\",[',',])"
   ]
  },
  {
   "cell_type": "code",
   "execution_count": 140,
   "id": "5f924399",
   "metadata": {},
   "outputs": [
    {
     "data": {
      "text/plain": [
       "'My name is  Jatin Deep Singh My mother is housewife '"
      ]
     },
     "execution_count": 140,
     "metadata": {},
     "output_type": "execute_result"
    }
   ],
   "source": [
    "remove_punctuation(\"My, name is , Jatin Deep -Singh My### mother is housewife @@@@\",[',','@','-','#'])"
   ]
  },
  {
   "cell_type": "code",
   "execution_count": null,
   "id": "5a64436c",
   "metadata": {},
   "outputs": [],
   "source": []
  }
 ],
 "metadata": {
  "kernelspec": {
   "display_name": "Python 3 (ipykernel)",
   "language": "python",
   "name": "python3"
  },
  "language_info": {
   "codemirror_mode": {
    "name": "ipython",
    "version": 3
   },
   "file_extension": ".py",
   "mimetype": "text/x-python",
   "name": "python",
   "nbconvert_exporter": "python",
   "pygments_lexer": "ipython3",
   "version": "3.9.12"
  }
 },
 "nbformat": 4,
 "nbformat_minor": 5
}
