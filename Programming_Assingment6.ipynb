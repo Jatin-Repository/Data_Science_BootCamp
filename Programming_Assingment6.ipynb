{
 "cells": [
  {
   "cell_type": "markdown",
   "id": "e1750241",
   "metadata": {},
   "source": [
    "# Question: 1"
   ]
  },
  {
   "cell_type": "markdown",
   "id": "dad7aa10",
   "metadata": {},
   "source": [
    "# Write a Python Program to Display Fibonacci Sequence Using Recursion?"
   ]
  },
  {
   "cell_type": "markdown",
   "id": "9384a335",
   "metadata": {},
   "source": [
    "# Answer: 1"
   ]
  },
  {
   "cell_type": "code",
   "execution_count": 4,
   "id": "695e0439",
   "metadata": {},
   "outputs": [],
   "source": [
    "def fibonacci(term):\n",
    "    if term == 1:\n",
    "        return 0\n",
    "    elif term == 2:\n",
    "        return 1\n",
    "    else:\n",
    "        return fibonacci(term-1) + fibonacci(term-2)\n",
    "        "
   ]
  },
  {
   "cell_type": "code",
   "execution_count": 5,
   "id": "44c99fdb",
   "metadata": {},
   "outputs": [
    {
     "data": {
      "text/plain": [
       "3"
      ]
     },
     "execution_count": 5,
     "metadata": {},
     "output_type": "execute_result"
    }
   ],
   "source": [
    "fibonacci(5)"
   ]
  },
  {
   "cell_type": "code",
   "execution_count": 6,
   "id": "0c4f72e5",
   "metadata": {},
   "outputs": [
    {
     "data": {
      "text/plain": [
       "377"
      ]
     },
     "execution_count": 6,
     "metadata": {},
     "output_type": "execute_result"
    }
   ],
   "source": [
    "fibonacci(15)"
   ]
  },
  {
   "cell_type": "markdown",
   "id": "8ae034ec",
   "metadata": {},
   "source": [
    "# Question: 2"
   ]
  },
  {
   "cell_type": "markdown",
   "id": "60a63a08",
   "metadata": {},
   "source": [
    "# Write a Python Program to Find Factorial of Number Using Recursion?"
   ]
  },
  {
   "cell_type": "markdown",
   "id": "733ef9d6",
   "metadata": {},
   "source": [
    "# Answer: 2"
   ]
  },
  {
   "cell_type": "code",
   "execution_count": 7,
   "id": "126e1e0c",
   "metadata": {},
   "outputs": [],
   "source": [
    "def factorial(num):\n",
    "    if num == 0 or num == 1:\n",
    "        return 1\n",
    "    else:\n",
    "        return num*factorial(num-1)"
   ]
  },
  {
   "cell_type": "code",
   "execution_count": 8,
   "id": "8c913d15",
   "metadata": {},
   "outputs": [
    {
     "data": {
      "text/plain": [
       "5040"
      ]
     },
     "execution_count": 8,
     "metadata": {},
     "output_type": "execute_result"
    }
   ],
   "source": [
    "factorial(7)"
   ]
  },
  {
   "cell_type": "code",
   "execution_count": 9,
   "id": "ad87e604",
   "metadata": {},
   "outputs": [
    {
     "data": {
      "text/plain": [
       "479001600"
      ]
     },
     "execution_count": 9,
     "metadata": {},
     "output_type": "execute_result"
    }
   ],
   "source": [
    "factorial(12)"
   ]
  },
  {
   "cell_type": "markdown",
   "id": "70ea9fc4",
   "metadata": {},
   "source": [
    "# Question: 3"
   ]
  },
  {
   "cell_type": "markdown",
   "id": "064468e1",
   "metadata": {},
   "source": [
    "# Write a Python Program to calculate your Body Mass Index?"
   ]
  },
  {
   "cell_type": "markdown",
   "id": "92950126",
   "metadata": {},
   "source": [
    " # Answer: 3"
   ]
  },
  {
   "cell_type": "markdown",
   "id": "6d7154af",
   "metadata": {},
   "source": [
    "### Notes:"
   ]
  },
  {
   "cell_type": "markdown",
   "id": "06347119",
   "metadata": {},
   "source": [
    "Body Mass Index is a simple calculation using a person's height and weight. The formula is ***BMI = kg/m2*** where kg is a person's weight in kilograms and m2 is their height in metres squared."
   ]
  },
  {
   "cell_type": "markdown",
   "id": "14f79988",
   "metadata": {},
   "source": [
    "The BMI is a convenient rule of thumb used to broadly categorize a person as underweight, normal weight, overweight, or obese based on tissue mass (muscle, fat, and bone) and height. Major adult BMI classifications are ***underweight (under 18.5 kg/m2)*** , ***normal weight (18.5 to 24.9)***, ***overweight (25 to 29.9)***, ***obese(30 or more)***."
   ]
  },
  {
   "cell_type": "code",
   "execution_count": 10,
   "id": "3419d57f",
   "metadata": {},
   "outputs": [],
   "source": [
    "def BMI(weight,height):\n",
    "    if height == 0:\n",
    "        return \"invalid BMI\"\n",
    "    else:\n",
    "        bmi = weight/height\n",
    "        if bmi < 18.5:\n",
    "            return \"under weight\"\n",
    "        elif bmi >= 18.5 and bmi <= 24.9:\n",
    "            return \"normal weight\"\n",
    "        elif bmi >= 25 and bmi <= 29.9:\n",
    "            return \"over weight\"\n",
    "        elif bmi >= 30:\n",
    "            return \"obese\""
   ]
  },
  {
   "cell_type": "code",
   "execution_count": 17,
   "id": "159ab6d2",
   "metadata": {},
   "outputs": [
    {
     "data": {
      "text/plain": [
       "'obese'"
      ]
     },
     "execution_count": 17,
     "metadata": {},
     "output_type": "execute_result"
    }
   ],
   "source": [
    "BMI(175,5)"
   ]
  },
  {
   "cell_type": "code",
   "execution_count": 18,
   "id": "e36c0527",
   "metadata": {},
   "outputs": [
    {
     "data": {
      "text/plain": [
       "'under weight'"
      ]
     },
     "execution_count": 18,
     "metadata": {},
     "output_type": "execute_result"
    }
   ],
   "source": [
    "BMI(90,10)"
   ]
  },
  {
   "cell_type": "code",
   "execution_count": 19,
   "id": "f3a0252a",
   "metadata": {},
   "outputs": [
    {
     "data": {
      "text/plain": [
       "'normal weight'"
      ]
     },
     "execution_count": 19,
     "metadata": {},
     "output_type": "execute_result"
    }
   ],
   "source": [
    "BMI(249,12)"
   ]
  },
  {
   "cell_type": "code",
   "execution_count": 20,
   "id": "eb52d510",
   "metadata": {},
   "outputs": [
    {
     "data": {
      "text/plain": [
       "'under weight'"
      ]
     },
     "execution_count": 20,
     "metadata": {},
     "output_type": "execute_result"
    }
   ],
   "source": [
    "BMI(190,13)"
   ]
  },
  {
   "cell_type": "code",
   "execution_count": 21,
   "id": "18762c68",
   "metadata": {},
   "outputs": [
    {
     "data": {
      "text/plain": [
       "'invalid BMI'"
      ]
     },
     "execution_count": 21,
     "metadata": {},
     "output_type": "execute_result"
    }
   ],
   "source": [
    "BMI(19,0)"
   ]
  },
  {
   "cell_type": "markdown",
   "id": "749a0152",
   "metadata": {},
   "source": [
    "# Question:4"
   ]
  },
  {
   "cell_type": "markdown",
   "id": "d07f48fb",
   "metadata": {},
   "source": [
    "Write a Python Program to calculate the natural logarithm of any number?"
   ]
  },
  {
   "cell_type": "markdown",
   "id": "163d1585",
   "metadata": {},
   "source": [
    "# Answer: 4"
   ]
  },
  {
   "cell_type": "code",
   "execution_count": 22,
   "id": "fe13b3f0",
   "metadata": {},
   "outputs": [],
   "source": [
    "import math"
   ]
  },
  {
   "cell_type": "code",
   "execution_count": 26,
   "id": "b8684065",
   "metadata": {},
   "outputs": [],
   "source": [
    "def logarithmic(exponent,base):\n",
    "    if base <= 0:\n",
    "        return \"Invalid Log\"\n",
    "    else:\n",
    "        return math.log(exponent,base)"
   ]
  },
  {
   "cell_type": "code",
   "execution_count": 27,
   "id": "53dc24ba",
   "metadata": {},
   "outputs": [
    {
     "data": {
      "text/plain": [
       "3.700439718141092"
      ]
     },
     "execution_count": 27,
     "metadata": {},
     "output_type": "execute_result"
    }
   ],
   "source": [
    "logarithmic(13,2)"
   ]
  },
  {
   "cell_type": "code",
   "execution_count": 28,
   "id": "ed0fcd48",
   "metadata": {},
   "outputs": [
    {
     "data": {
      "text/plain": [
       "1.1139433523068367"
      ]
     },
     "execution_count": 28,
     "metadata": {},
     "output_type": "execute_result"
    }
   ],
   "source": [
    "logarithmic(13,10)"
   ]
  },
  {
   "cell_type": "code",
   "execution_count": 29,
   "id": "70c36050",
   "metadata": {},
   "outputs": [
    {
     "data": {
      "text/plain": [
       "'Invalid Log'"
      ]
     },
     "execution_count": 29,
     "metadata": {},
     "output_type": "execute_result"
    }
   ],
   "source": [
    "logarithmic(1,0)"
   ]
  },
  {
   "cell_type": "code",
   "execution_count": 30,
   "id": "66440d09",
   "metadata": {},
   "outputs": [
    {
     "data": {
      "text/plain": [
       "3.033044595228886"
      ]
     },
     "execution_count": 30,
     "metadata": {},
     "output_type": "execute_result"
    }
   ],
   "source": [
    "logarithmic(67,4)"
   ]
  },
  {
   "cell_type": "markdown",
   "id": "57aedb69",
   "metadata": {},
   "source": [
    "# Question : 5"
   ]
  },
  {
   "cell_type": "markdown",
   "id": "07e218b6",
   "metadata": {},
   "source": [
    "# Write a Python Program for cube sum of first n natural numbers?"
   ]
  },
  {
   "cell_type": "markdown",
   "id": "1ffbe7ee",
   "metadata": {},
   "source": [
    "# Answer: 5"
   ]
  },
  {
   "cell_type": "code",
   "execution_count": 37,
   "id": "3a1c4ff2",
   "metadata": {},
   "outputs": [],
   "source": [
    "def cube_sum(num):\n",
    "    return ((num*(num+1))**2)//4"
   ]
  },
  {
   "cell_type": "code",
   "execution_count": 38,
   "id": "9cd9b25f",
   "metadata": {},
   "outputs": [
    {
     "data": {
      "text/plain": [
       "3025"
      ]
     },
     "execution_count": 38,
     "metadata": {},
     "output_type": "execute_result"
    }
   ],
   "source": [
    "cube_sum(10)"
   ]
  },
  {
   "cell_type": "code",
   "execution_count": 40,
   "id": "6557d3ed",
   "metadata": {},
   "outputs": [
    {
     "data": {
      "text/plain": [
       "25502500"
      ]
     },
     "execution_count": 40,
     "metadata": {},
     "output_type": "execute_result"
    }
   ],
   "source": [
    "cube_sum(100)"
   ]
  },
  {
   "cell_type": "code",
   "execution_count": null,
   "id": "15254c9a",
   "metadata": {},
   "outputs": [],
   "source": []
  }
 ],
 "metadata": {
  "kernelspec": {
   "display_name": "Python 3 (ipykernel)",
   "language": "python",
   "name": "python3"
  },
  "language_info": {
   "codemirror_mode": {
    "name": "ipython",
    "version": 3
   },
   "file_extension": ".py",
   "mimetype": "text/x-python",
   "name": "python",
   "nbconvert_exporter": "python",
   "pygments_lexer": "ipython3",
   "version": "3.9.12"
  }
 },
 "nbformat": 4,
 "nbformat_minor": 5
}
